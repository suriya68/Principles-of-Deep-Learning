{
 "cells": [
  {
   "cell_type": "markdown",
   "id": "a4d1f189",
   "metadata": {},
   "source": [
    "# Lab-14: Classification of CIFAR-10 data with Data Augmentation"
   ]
  },
  {
   "cell_type": "markdown",
   "id": "ec7e3b31",
   "metadata": {},
   "source": [
    "### Suriya S (225229140)\n"
   ]
  },
  {
   "cell_type": "markdown",
   "id": "a590ad24",
   "metadata": {},
   "source": [
    "###### Steps"
   ]
  },
  {
   "cell_type": "code",
   "execution_count": 33,
   "id": "09e7d6d9",
   "metadata": {},
   "outputs": [],
   "source": [
    "import keras\n",
    "from keras.preprocessing.image import ImageDataGenerator\n",
    "from keras.models import Sequential\n",
    "from keras.layers import Dense, Dropout, Activation, Flatten\n",
    "from keras.layers import Conv2D, MaxPooling2D\n",
    "from keras.utils.np_utils import to_categorical\n",
    "from tensorflow.keras.optimizers import RMSprop\n",
    "from keras.backend import categorical_crossentropy\n",
    "import matplotlib.pyplot as plt\n",
    "from matplotlib.pyplot import figure\n",
    "%matplotlib inline"
   ]
  },
  {
   "cell_type": "markdown",
   "id": "375a3145",
   "metadata": {},
   "source": [
    "##### 1.Import CIFAR-19 dataset from keras"
   ]
  },
  {
   "cell_type": "code",
   "execution_count": 2,
   "id": "ad87f996",
   "metadata": {},
   "outputs": [],
   "source": [
    "from keras.datasets import cifar10"
   ]
  },
  {
   "cell_type": "markdown",
   "id": "ea9b4697",
   "metadata": {},
   "source": [
    "##### 2.Split train and test sets"
   ]
  },
  {
   "cell_type": "code",
   "execution_count": 3,
   "id": "48847222",
   "metadata": {},
   "outputs": [
    {
     "name": "stdout",
     "output_type": "stream",
     "text": [
      "A local file was found, but it seems to be incomplete or outdated because the auto file hash does not match the original value of 6d958be074577803d12ecdefd02955f39262c83c16fe9348329d7fe0b5c001ce so we will re-download the data.\n",
      "Downloading data from https://www.cs.toronto.edu/~kriz/cifar-10-python.tar.gz\n",
      "170498071/170498071 [==============================] - 1450s 9us/step\n"
     ]
    }
   ],
   "source": [
    "(X_train, y_train), (X_test, y_test) = cifar10.load_data()"
   ]
  },
  {
   "cell_type": "code",
   "execution_count": 4,
   "id": "059a4774",
   "metadata": {},
   "outputs": [
    {
     "name": "stdout",
     "output_type": "stream",
     "text": [
      "X_train shape (50000, 32, 32, 3)\n",
      "y_train shape (50000, 1)\n",
      "X_test shape (10000, 32, 32, 3)\n",
      "y_test shape (10000, 1)\n"
     ]
    }
   ],
   "source": [
    "print(\"X_train shape\", X_train.shape)\n",
    "print(\"y_train shape\", y_train.shape)\n",
    "print(\"X_test shape\", X_test.shape)\n",
    "print(\"y_test shape\", y_test.shape)"
   ]
  },
  {
   "cell_type": "code",
   "execution_count": 6,
   "id": "058d7609",
   "metadata": {},
   "outputs": [
    {
     "data": {
      "text/plain": [
       "array([[[153, 157, 155],\n",
       "        [174, 180, 188],\n",
       "        [155, 165, 172],\n",
       "        ...,\n",
       "        [122, 125, 123],\n",
       "        [138, 143, 141],\n",
       "        [ 97, 101,  97]],\n",
       "\n",
       "       [[160, 163, 165],\n",
       "        [164, 170, 180],\n",
       "        [150, 159, 169],\n",
       "        ...,\n",
       "        [137, 135, 129],\n",
       "        [160, 161, 157],\n",
       "        [103, 109, 107]],\n",
       "\n",
       "       [[140, 143, 147],\n",
       "        [147, 152, 166],\n",
       "        [136, 145, 158],\n",
       "        ...,\n",
       "        [104, 103,  99],\n",
       "        [125, 128, 125],\n",
       "        [ 93, 102, 101]],\n",
       "\n",
       "       ...,\n",
       "\n",
       "       [[175, 177, 179],\n",
       "        [170, 172, 174],\n",
       "        [170, 172, 174],\n",
       "        ...,\n",
       "        [193, 203, 212],\n",
       "        [197, 206, 214],\n",
       "        [199, 204, 213]],\n",
       "\n",
       "       [[174, 177, 181],\n",
       "        [173, 176, 180],\n",
       "        [171, 174, 178],\n",
       "        ...,\n",
       "        [200, 208, 216],\n",
       "        [202, 209, 218],\n",
       "        [208, 212, 221]],\n",
       "\n",
       "       [[168, 173, 180],\n",
       "        [164, 169, 175],\n",
       "        [166, 171, 177],\n",
       "        ...,\n",
       "        [204, 209, 217],\n",
       "        [204, 208, 217],\n",
       "        [206, 210, 219]]], dtype=uint8)"
      ]
     },
     "execution_count": 6,
     "metadata": {},
     "output_type": "execute_result"
    }
   ],
   "source": [
    "X_train[20]"
   ]
  },
  {
   "cell_type": "markdown",
   "id": "0a469efe",
   "metadata": {},
   "source": [
    "##### 3.Convert ytrain and ytest to categorical values"
   ]
  },
  {
   "cell_type": "code",
   "execution_count": 7,
   "id": "a8b72072",
   "metadata": {},
   "outputs": [],
   "source": [
    "num_classes = 10\n",
    "y_train = to_categorical(y_train, num_classes)\n",
    "y_test = to_categorical(y_test, num_classes)"
   ]
  },
  {
   "cell_type": "markdown",
   "id": "3e227b44",
   "metadata": {},
   "source": [
    "##### 4.Normalize X values by dividing it by 255"
   ]
  },
  {
   "cell_type": "code",
   "execution_count": 8,
   "id": "92e565f1",
   "metadata": {},
   "outputs": [],
   "source": [
    "X_train = X_train.astype('float32')\n",
    "X_test = X_test.astype('float32')\n",
    "X_train /= 255\n",
    "X_test /= 255"
   ]
  },
  {
   "cell_type": "markdown",
   "id": "2a4fa745",
   "metadata": {},
   "source": [
    "##### 5.Create the baseline model as below"
   ]
  },
  {
   "cell_type": "code",
   "execution_count": 25,
   "id": "a24f9655",
   "metadata": {},
   "outputs": [],
   "source": [
    "model = Sequential()\n",
    "##5x5 convolution with 2x2 stride and 32 filters\n",
    "model.add(Conv2D(32,(5,5), strides = (2,2), padding = 'same' , input_shape=X_train.shape[1:]))\n",
    "model.add(Activation('relu'))\n",
    "\n",
    "##Another 5x5 convolution with 2x2 stride and 32 filters\n",
    "model.add(Conv2D(32, (5,5), strides = (2,2)))\n",
    "model.add(Activation('relu'))\n",
    "\n",
    "##2x2 max pooling reduces to 3x3x32\n",
    "model.add(MaxPooling2D(pool_size = (2,2)))\n",
    "model.add(Dropout(0.25))\n",
    "\n",
    "##Flatten turns 3x3x32 into 288x1\n",
    "model.add(Flatten())\n",
    "model.add(Dense(512))\n",
    "model.add(Activation('relu'))\n",
    "model.add(Dropout(0.5))\n",
    "model.add(Dense(num_classes))\n",
    "model.add(Activation('softmax'))"
   ]
  },
  {
   "cell_type": "code",
   "execution_count": 26,
   "id": "fcdad9c4",
   "metadata": {},
   "outputs": [
    {
     "name": "stdout",
     "output_type": "stream",
     "text": [
      "Model: \"sequential_3\"\n",
      "_________________________________________________________________\n",
      " Layer (type)                Output Shape              Param #   \n",
      "=================================================================\n",
      " conv2d_6 (Conv2D)           (None, 16, 16, 32)        2432      \n",
      "                                                                 \n",
      " activation_8 (Activation)   (None, 16, 16, 32)        0         \n",
      "                                                                 \n",
      " conv2d_7 (Conv2D)           (None, 6, 6, 32)          25632     \n",
      "                                                                 \n",
      " activation_9 (Activation)   (None, 6, 6, 32)          0         \n",
      "                                                                 \n",
      " max_pooling2d_3 (MaxPooling  (None, 3, 3, 32)         0         \n",
      " 2D)                                                             \n",
      "                                                                 \n",
      " dropout_2 (Dropout)         (None, 3, 3, 32)          0         \n",
      "                                                                 \n",
      " flatten_2 (Flatten)         (None, 288)               0         \n",
      "                                                                 \n",
      " dense_4 (Dense)             (None, 512)               147968    \n",
      "                                                                 \n",
      " activation_10 (Activation)  (None, 512)               0         \n",
      "                                                                 \n",
      " dropout_3 (Dropout)         (None, 512)               0         \n",
      "                                                                 \n",
      " dense_5 (Dense)             (None, 10)                5130      \n",
      "                                                                 \n",
      " activation_11 (Activation)  (None, 10)                0         \n",
      "                                                                 \n",
      "=================================================================\n",
      "Total params: 181,162\n",
      "Trainable params: 181,162\n",
      "Non-trainable params: 0\n",
      "_________________________________________________________________\n"
     ]
    }
   ],
   "source": [
    "model.summary()"
   ]
  },
  {
   "cell_type": "markdown",
   "id": "d5a43ef4",
   "metadata": {},
   "source": [
    "##### 6.Train the baseline model"
   ]
  },
  {
   "cell_type": "code",
   "execution_count": 27,
   "id": "576d253e",
   "metadata": {},
   "outputs": [],
   "source": [
    "batch_size = 32\n",
    "\n",
    "#initiate RMSprop optimizer\n",
    "opt = keras.optimizers.RMSprop(lr=0.0005,decay=1e-6)\n",
    "\n",
    "#lets train the model using RMSprop\n",
    "model.compile(loss='categorical_crossentropy',optimizer = opt, metrics = ['accuracy'])"
   ]
  },
  {
   "cell_type": "code",
   "execution_count": 29,
   "id": "7e9e0841",
   "metadata": {},
   "outputs": [
    {
     "name": "stdout",
     "output_type": "stream",
     "text": [
      "Epoch 1/10\n",
      "1563/1563 [==============================] - 10s 7ms/step - loss: 1.0839 - accuracy: 0.6251 - val_loss: 1.3160 - val_accuracy: 0.5548\n",
      "Epoch 2/10\n",
      "1563/1563 [==============================] - 10s 6ms/step - loss: 1.0837 - accuracy: 0.6266 - val_loss: 1.0320 - val_accuracy: 0.6412\n",
      "Epoch 3/10\n",
      "1563/1563 [==============================] - 10s 6ms/step - loss: 1.0776 - accuracy: 0.6298 - val_loss: 1.0265 - val_accuracy: 0.6444\n",
      "Epoch 4/10\n",
      "1563/1563 [==============================] - 10s 6ms/step - loss: 1.0721 - accuracy: 0.6330 - val_loss: 1.0555 - val_accuracy: 0.6389\n",
      "Epoch 5/10\n",
      "1563/1563 [==============================] - 10s 6ms/step - loss: 1.0646 - accuracy: 0.6367 - val_loss: 1.0403 - val_accuracy: 0.6466\n",
      "Epoch 6/10\n",
      "1563/1563 [==============================] - 10s 6ms/step - loss: 1.0672 - accuracy: 0.6362 - val_loss: 1.2039 - val_accuracy: 0.6075\n",
      "Epoch 7/10\n",
      "1563/1563 [==============================] - 10s 7ms/step - loss: 1.0642 - accuracy: 0.6384 - val_loss: 1.0002 - val_accuracy: 0.6573\n",
      "Epoch 8/10\n",
      "1563/1563 [==============================] - 10s 6ms/step - loss: 1.0664 - accuracy: 0.6384 - val_loss: 1.0749 - val_accuracy: 0.6429\n",
      "Epoch 9/10\n",
      "1563/1563 [==============================] - 10s 7ms/step - loss: 1.0664 - accuracy: 0.6392 - val_loss: 1.1436 - val_accuracy: 0.6166\n",
      "Epoch 10/10\n",
      "1563/1563 [==============================] - 10s 7ms/step - loss: 1.0734 - accuracy: 0.6369 - val_loss: 1.0587 - val_accuracy: 0.6425\n"
     ]
    }
   ],
   "source": [
    "history = model.fit(X_train,y_train,batch_size=batch_size,epochs=10,validation_data= (X_test,y_test))"
   ]
  },
  {
   "cell_type": "code",
   "execution_count": 46,
   "id": "38a18c15",
   "metadata": {},
   "outputs": [
    {
     "name": "stdout",
     "output_type": "stream",
     "text": [
      "dict_keys(['loss', 'accuracy', 'val_loss', 'val_accuracy'])\n"
     ]
    },
    {
     "data": {
      "image/png": "[encoded data removed]",
      "text/plain": [
       "<Figure size 1440x360 with 2 Axes>"
      ]
     },
     "metadata": {
      "needs_background": "light"
     },
     "output_type": "display_data"
    }
   ],
   "source": [
    "print(history.history.keys())\n",
    "\n",
    "fig = plt.figure(figsize=(20, 5))\n",
    "\n",
    "fig.add_subplot(1,2,1)\n",
    "plt.plot(history.history['loss'])\n",
    "plt.plot(history.history['val_loss'])\n",
    "plt.title('Model Loss')\n",
    "plt.ylabel('loss')\n",
    "plt.xlabel('epoch')\n",
    "plt.legend(['train', 'validation'], loc='upper left')\n",
    "\n",
    "fig.add_subplot(1,2,2)\n",
    "plt.plot(history.history['accuracy'])\n",
    "plt.plot(history.history['val_accuracy'])\n",
    "plt.title('Model Accuracy')\n",
    "plt.ylabel('accuracy')\n",
    "plt.xlabel('epoch')\n",
    "plt.legend(['train', 'validation'], loc='upper left')\n",
    "plt.show()"
   ]
  },
  {
   "cell_type": "markdown",
   "id": "271c0bbd",
   "metadata": {},
   "source": [
    "##### 7.Define baseline Data Augmentation steps"
   ]
  },
  {
   "cell_type": "code",
   "execution_count": 39,
   "id": "1c87c340",
   "metadata": {},
   "outputs": [
    {
     "name": "stdout",
     "output_type": "stream",
     "text": [
      "Model: \"sequential_5\"\n",
      "_________________________________________________________________\n",
      " Layer (type)                Output Shape              Param #   \n",
      "=================================================================\n",
      " conv2d_8 (Conv2D)           (None, 16, 16, 32)        2432      \n",
      "                                                                 \n",
      " activation_12 (Activation)  (None, 16, 16, 32)        0         \n",
      "                                                                 \n",
      " conv2d_9 (Conv2D)           (None, 6, 6, 32)          25632     \n",
      "                                                                 \n",
      " activation_13 (Activation)  (None, 6, 6, 32)          0         \n",
      "                                                                 \n",
      " max_pooling2d_4 (MaxPooling  (None, 3, 3, 32)         0         \n",
      " 2D)                                                             \n",
      "                                                                 \n",
      " dropout_4 (Dropout)         (None, 3, 3, 32)          0         \n",
      "                                                                 \n",
      " flatten_3 (Flatten)         (None, 288)               0         \n",
      "                                                                 \n",
      " dense_6 (Dense)             (None, 512)               147968    \n",
      "                                                                 \n",
      " activation_14 (Activation)  (None, 512)               0         \n",
      "                                                                 \n",
      " dropout_5 (Dropout)         (None, 512)               0         \n",
      "                                                                 \n",
      " dense_7 (Dense)             (None, 10)                5130      \n",
      "                                                                 \n",
      " activation_15 (Activation)  (None, 10)                0         \n",
      "                                                                 \n",
      "=================================================================\n",
      "Total params: 181,162\n",
      "Trainable params: 181,162\n",
      "Non-trainable params: 0\n",
      "_________________________________________________________________\n"
     ]
    }
   ],
   "source": [
    "model1=Sequential()\n",
    "model1.add(Conv2D(32, (5,5), strides=(2,2),padding='same',input_shape=X_train.shape[1:]))\n",
    "model1.add(Activation('relu'))\n",
    "\n",
    "model1.add(Conv2D(32,(5,5),strides=(2,2)))\n",
    "model1.add(Activation('relu'))\n",
    "\n",
    "model1.add(MaxPooling2D(pool_size=(2,2)))\n",
    "model1.add(Dropout(0.25))\n",
    "\n",
    "model1.add(Flatten())\n",
    "model1.add(Dense(512))\n",
    "model1.add(Activation('relu'))\n",
    "model1.add(Dropout(.5))\n",
    "model1.add(Dense(num_classes))\n",
    "model1.add(Activation('softmax'))\n",
    "\n",
    "model1.summary()"
   ]
  },
  {
   "cell_type": "code",
   "execution_count": 40,
   "id": "daea1a7f",
   "metadata": {},
   "outputs": [],
   "source": [
    "datagen = ImageDataGenerator(featurewise_center=False,\n",
    "    samplewise_center=False,\n",
    "    featurewise_std_normalization=False,\n",
    "    samplewise_std_normalization=False,\n",
    "    zca_whitening=False,\n",
    "    rotation_range=0,\n",
    "    width_shift_range=0.1,\n",
    "    height_shift_range=0.1,\n",
    "    horizontal_flip=True,\n",
    "    vertical_flip=False)\n",
    "\n",
    "datagen.fit(X_train)"
   ]
  },
  {
   "cell_type": "code",
   "execution_count": 42,
   "id": "ce70f578",
   "metadata": {},
   "outputs": [],
   "source": [
    "batch_size = 32\n",
    "\n",
    "#initiate RMSprop optimizer\n",
    "opt = keras.optimizers.RMSprop(lr=0.0005,decay=1e-6)\n",
    "\n",
    "#lets train the model using RMSprop\n",
    "model1.compile(loss='categorical_crossentropy',optimizer = opt, metrics = ['accuracy'])"
   ]
  },
  {
   "cell_type": "code",
   "execution_count": 43,
   "id": "40856ba2",
   "metadata": {},
   "outputs": [
    {
     "name": "stdout",
     "output_type": "stream",
     "text": [
      "Epoch 1/15\n"
     ]
    },
    {
     "name": "stderr",
     "output_type": "stream",
     "text": [
      "C:\\Users\\online\\AppData\\Local\\Temp\\ipykernel_12936\\3185657148.py:3: UserWarning: `Model.fit_generator` is deprecated and will be removed in a future version. Please use `Model.fit`, which supports generators.\n",
      "  history1 = model1.fit_generator(datagen.flow(X_train,y_train,batch_size = batch_size),\n"
     ]
    },
    {
     "name": "stdout",
     "output_type": "stream",
     "text": [
      "1562/1562 [==============================] - 16s 10ms/step - loss: 1.7883 - accuracy: 0.3434 - val_loss: 1.4429 - val_accuracy: 0.4769\n",
      "Epoch 2/15\n",
      "1562/1562 [==============================] - 15s 10ms/step - loss: 1.5237 - accuracy: 0.4485 - val_loss: 1.2986 - val_accuracy: 0.5318\n",
      "Epoch 3/15\n",
      "1562/1562 [==============================] - 15s 10ms/step - loss: 1.4296 - accuracy: 0.4841 - val_loss: 1.2934 - val_accuracy: 0.5486\n",
      "Epoch 4/15\n",
      "1562/1562 [==============================] - 15s 10ms/step - loss: 1.3744 - accuracy: 0.5069 - val_loss: 1.1716 - val_accuracy: 0.5843\n",
      "Epoch 5/15\n",
      "1562/1562 [==============================] - 15s 9ms/step - loss: 1.3426 - accuracy: 0.5223 - val_loss: 1.2155 - val_accuracy: 0.5736\n",
      "Epoch 6/15\n",
      "1562/1562 [==============================] - 16s 10ms/step - loss: 1.3113 - accuracy: 0.5338 - val_loss: 1.1383 - val_accuracy: 0.5974\n",
      "Epoch 7/15\n",
      "1562/1562 [==============================] - 15s 10ms/step - loss: 1.2889 - accuracy: 0.5439 - val_loss: 1.1658 - val_accuracy: 0.5792\n",
      "Epoch 8/15\n",
      "1562/1562 [==============================] - 15s 9ms/step - loss: 1.2805 - accuracy: 0.5485 - val_loss: 1.1081 - val_accuracy: 0.6107\n",
      "Epoch 9/15\n",
      "1562/1562 [==============================] - 14s 9ms/step - loss: 1.2625 - accuracy: 0.5569 - val_loss: 1.0566 - val_accuracy: 0.6334\n",
      "Epoch 10/15\n",
      "1562/1562 [==============================] - 15s 9ms/step - loss: 1.2631 - accuracy: 0.5566 - val_loss: 1.1252 - val_accuracy: 0.6168\n",
      "Epoch 11/15\n",
      "1562/1562 [==============================] - 15s 9ms/step - loss: 1.2576 - accuracy: 0.5586 - val_loss: 1.1625 - val_accuracy: 0.6062\n",
      "Epoch 12/15\n",
      "1562/1562 [==============================] - 15s 10ms/step - loss: 1.2479 - accuracy: 0.5649 - val_loss: 1.0534 - val_accuracy: 0.6323\n",
      "Epoch 13/15\n",
      "1562/1562 [==============================] - 15s 10ms/step - loss: 1.2529 - accuracy: 0.5659 - val_loss: 1.1061 - val_accuracy: 0.6197\n",
      "Epoch 14/15\n",
      "1562/1562 [==============================] - 15s 10ms/step - loss: 1.2465 - accuracy: 0.5688 - val_loss: 1.0560 - val_accuracy: 0.6370\n",
      "Epoch 15/15\n",
      "1562/1562 [==============================] - 15s 9ms/step - loss: 1.2487 - accuracy: 0.5675 - val_loss: 1.1490 - val_accuracy: 0.6124\n"
     ]
    }
   ],
   "source": [
    "#Fit the model on the batches generated by datagen.flow()\n",
    "\n",
    "history1 = model1.fit_generator(datagen.flow(X_train,y_train,batch_size = batch_size),\n",
    "                    steps_per_epoch=X_train.shape[0] // batch_size,\n",
    "                   epochs=15,\n",
    "                   validation_data = (X_test, y_test))"
   ]
  },
  {
   "cell_type": "code",
   "execution_count": 47,
   "id": "7e117154",
   "metadata": {},
   "outputs": [
    {
     "data": {
      "image/png": "[encoded data removed]",
      "text/plain": [
       "<Figure size 1440x360 with 2 Axes>"
      ]
     },
     "metadata": {
      "needs_background": "light"
     },
     "output_type": "display_data"
    }
   ],
   "source": [
    "fig = plt.figure(figsize=(20, 5))\n",
    "\n",
    "fig.add_subplot(1,2,1)\n",
    "plt.plot(history1.history['loss'])\n",
    "plt.plot(history1.history['val_loss'])\n",
    "plt.title('Model 1 Loss')\n",
    "plt.ylabel('loss')\n",
    "plt.xlabel('epoch')\n",
    "plt.legend(['train', 'validation'], loc='upper left')\n",
    "\n",
    "fig.add_subplot(1,2,2)\n",
    "plt.plot(history1.history['accuracy'])\n",
    "plt.plot(history1.history['val_accuracy'])\n",
    "plt.title('Model 1 Accuracy')\n",
    "plt.ylabel('accuracy')\n",
    "plt.xlabel('epoch')\n",
    "plt.legend(['train', 'validation'], loc='upper left')\n",
    "plt.show()"
   ]
  },
  {
   "cell_type": "markdown",
   "id": "20a32e4f",
   "metadata": {},
   "source": [
    "##### 8.Answer the Questions"
   ]
  },
  {
   "cell_type": "code",
   "execution_count": 49,
   "id": "a26dbab8",
   "metadata": {},
   "outputs": [
    {
     "data": {
      "image/png": "[encoded data removed]",
      "text/plain": [
       "<Figure size 720x288 with 1 Axes>"
      ]
     },
     "metadata": {
      "needs_background": "light"
     },
     "output_type": "display_data"
    }
   ],
   "source": [
    "figure(figsize=(10, 4))\n",
    "plt.plot(history.history['accuracy'])\n",
    "plt.plot(history1.history['accuracy'])\n",
    "plt.title('Comparison of Normal CNN and CNN with Data Augmentation')\n",
    "plt.ylabel('accuracy')\n",
    "plt.xlabel('epoch')\n",
    "plt.legend(['Normal CNN', 'CNN with Data Augumentation'], loc='lower right')\n",
    "plt.show()"
   ]
  },
  {
   "cell_type": "markdown",
   "id": "4de43bd8",
   "metadata": {},
   "source": [
    "1. The performance with non-augmented training is better than augmented training.\n",
    "\n",
    "\n",
    "2. Yes, by tunning hyperparameters we could make the model with augmented training performs better."
   ]
  },
  {
   "cell_type": "markdown",
   "id": "2d6c18f5",
   "metadata": {},
   "source": [
    "##### 9.Build a more complicated model with the following pattern:"
   ]
  },
  {
   "cell_type": "code",
   "execution_count": 18,
   "id": "e1b55a9d",
   "metadata": {},
   "outputs": [
    {
     "name": "stdout",
     "output_type": "stream",
     "text": [
      "Model: \"sequential_2\"\n",
      "_________________________________________________________________\n",
      " Layer (type)                Output Shape              Param #   \n",
      "=================================================================\n",
      " conv2d_2 (Conv2D)           (None, 32, 32, 32)        2432      \n",
      "                                                                 \n",
      " conv2d_3 (Conv2D)           (None, 28, 28, 32)        25632     \n",
      "                                                                 \n",
      " activation_4 (Activation)   (None, 28, 28, 32)        0         \n",
      "                                                                 \n",
      " max_pooling2d_1 (MaxPooling  (None, 14, 14, 32)       0         \n",
      " 2D)                                                             \n",
      "                                                                 \n",
      " conv2d_4 (Conv2D)           (None, 14, 14, 32)        25632     \n",
      "                                                                 \n",
      " conv2d_5 (Conv2D)           (None, 10, 10, 32)        25632     \n",
      "                                                                 \n",
      " activation_5 (Activation)   (None, 10, 10, 32)        0         \n",
      "                                                                 \n",
      " max_pooling2d_2 (MaxPooling  (None, 5, 5, 32)         0         \n",
      " 2D)                                                             \n",
      "                                                                 \n",
      " flatten_1 (Flatten)         (None, 800)               0         \n",
      "                                                                 \n",
      " dense_2 (Dense)             (None, 512)               410112    \n",
      "                                                                 \n",
      " activation_6 (Activation)   (None, 512)               0         \n",
      "                                                                 \n",
      " dense_3 (Dense)             (None, 10)                5130      \n",
      "                                                                 \n",
      " activation_7 (Activation)   (None, 10)                0         \n",
      "                                                                 \n",
      "=================================================================\n",
      "Total params: 494,570\n",
      "Trainable params: 494,570\n",
      "Non-trainable params: 0\n",
      "_________________________________________________________________\n"
     ]
    }
   ],
   "source": [
    "model2=Sequential()\n",
    "model2.add(Conv2D(32, (5,5), strides=(1,1),padding='same',activation='relu',input_shape=X_train.shape[1:]))\n",
    "model2.add(Conv2D(32,(5,5),strides=(1,1)))\n",
    "model2.add(Activation('relu'))\n",
    "\n",
    "model2.add(MaxPooling2D(pool_size=(2,2)))\n",
    "\n",
    "model2.add(Conv2D(32, (5,5), strides=(1,1),padding='same',activation='relu',input_shape=X_train.shape[1:]))\n",
    "model2.add(Conv2D(32,(5,5),strides=(1,1)))\n",
    "model2.add(Activation('relu'))\n",
    "\n",
    "model2.add(MaxPooling2D(pool_size=(2,2)))\n",
    "\n",
    "model2.add(Flatten())\n",
    "model2.add(Dense(512))\n",
    "model2.add(Activation('relu'))\n",
    "model2.add(Dense(num_classes))\n",
    "model2.add(Activation('softmax'))\n",
    "\n",
    "model2.summary()"
   ]
  },
  {
   "cell_type": "code",
   "execution_count": 19,
   "id": "85d4bce5",
   "metadata": {},
   "outputs": [],
   "source": [
    "datagen=ImageDataGenerator(featurewise_center=False,\n",
    "                           samplewise_center=False,\n",
    "                           featurewise_std_normalization=False,\n",
    "                           samplewise_std_normalization=False,\n",
    "                           zca_whitening=False,\n",
    "                           rotation_range=0,\n",
    "                           width_shift_range=0.1,\n",
    "                           height_shift_range=0.1,\n",
    "                           horizontal_flip=True,\n",
    "                           vertical_flip=False,)\n",
    "\n",
    "datagen.fit(X_train)"
   ]
  },
  {
   "cell_type": "code",
   "execution_count": 23,
   "id": "5468514b",
   "metadata": {},
   "outputs": [],
   "source": [
    "batch_size=32\n",
    "\n",
    "opt=keras.optimizers.RMSprop(lr=.0005,decay=1e-6)\n",
    "\n",
    "model2.compile(loss='categorical_crossentropy',\n",
    "               optimizer=opt,\n",
    "               metrics=['accuracy'])"
   ]
  },
  {
   "cell_type": "code",
   "execution_count": 24,
   "id": "3c3e2e0e",
   "metadata": {},
   "outputs": [
    {
     "name": "stdout",
     "output_type": "stream",
     "text": [
      "Epoch 1/10\n"
     ]
    },
    {
     "name": "stderr",
     "output_type": "stream",
     "text": [
      "C:\\Users\\online\\AppData\\Local\\Temp\\ipykernel_12936\\661035635.py:1: UserWarning: `Model.fit_generator` is deprecated and will be removed in a future version. Please use `Model.fit`, which supports generators.\n",
      "  model2.fit_generator(datagen.flow(X_train,y_train,batch_size=batch_size),\n"
     ]
    },
    {
     "name": "stdout",
     "output_type": "stream",
     "text": [
      "1562/1562 [==============================] - 116s 74ms/step - loss: 1.3175 - accuracy: 0.5301 - val_loss: 1.1659 - val_accuracy: 0.5818\n",
      "Epoch 2/10\n",
      "1562/1562 [==============================] - 116s 74ms/step - loss: 1.1007 - accuracy: 0.6111 - val_loss: 1.0271 - val_accuracy: 0.6519\n",
      "Epoch 3/10\n",
      "1562/1562 [==============================] - 116s 74ms/step - loss: 0.9719 - accuracy: 0.6585 - val_loss: 0.8775 - val_accuracy: 0.6953\n",
      "Epoch 4/10\n",
      "1562/1562 [==============================] - 117s 75ms/step - loss: 0.8985 - accuracy: 0.6848 - val_loss: 0.8341 - val_accuracy: 0.7159\n",
      "Epoch 5/10\n",
      "1562/1562 [==============================] - 118s 75ms/step - loss: 0.8501 - accuracy: 0.7046 - val_loss: 0.8537 - val_accuracy: 0.7017\n",
      "Epoch 6/10\n",
      "1562/1562 [==============================] - 117s 75ms/step - loss: 0.8177 - accuracy: 0.7190 - val_loss: 0.8336 - val_accuracy: 0.7234\n",
      "Epoch 7/10\n",
      "1562/1562 [==============================] - 118s 75ms/step - loss: 0.7992 - accuracy: 0.7263 - val_loss: 0.8236 - val_accuracy: 0.7302\n",
      "Epoch 8/10\n",
      "1562/1562 [==============================] - 119s 76ms/step - loss: 0.7905 - accuracy: 0.7323 - val_loss: 0.8215 - val_accuracy: 0.7238\n",
      "Epoch 9/10\n",
      "1562/1562 [==============================] - 116s 74ms/step - loss: 0.7929 - accuracy: 0.7309 - val_loss: 0.8423 - val_accuracy: 0.7300\n",
      "Epoch 10/10\n",
      "1562/1562 [==============================] - 115s 74ms/step - loss: 0.7869 - accuracy: 0.7361 - val_loss: 0.8095 - val_accuracy: 0.7332\n"
     ]
    },
    {
     "data": {
      "text/plain": [
       "<keras.callbacks.History at 0x2323eee2370>"
      ]
     },
     "execution_count": 24,
     "metadata": {},
     "output_type": "execute_result"
    }
   ],
   "source": [
    "model2.fit_generator(datagen.flow(X_train,y_train,batch_size=batch_size),\n",
    "                   steps_per_epoch=X_train.shape[0] // batch_size,\n",
    "                   epochs=10,\n",
    "                   validation_data=(X_test,y_test))"
   ]
  },
  {
   "cell_type": "code",
   "execution_count": null,
   "id": "f1712887",
   "metadata": {},
   "outputs": [],
   "source": []
  }
 ],
 "metadata": {
  "kernelspec": {
   "display_name": "Python 3",
   "language": "python",
   "name": "python3"
  },
  "language_info": {
   "codemirror_mode": {
    "name": "ipython",
    "version": 3
   },
   "file_extension": ".py",
   "mimetype": "text/x-python",
   "name": "python",
   "nbconvert_exporter": "python",
   "pygments_lexer": "ipython3",
   "version": "3.11.4"
  }
 },
 "nbformat": 4,
 "nbformat_minor": 5
}
