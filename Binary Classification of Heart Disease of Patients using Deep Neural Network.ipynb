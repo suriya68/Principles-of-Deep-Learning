{
 "cells": [
  {
   "cell_type": "markdown",
   "metadata": {
    "id": "HHpwJChOT9vH"
   },
   "source": [
    "# Binary Classification of Heart Disease of Patients using Deep Neural Network"
   ]
  },
  {
   "cell_type": "markdown",
   "metadata": {},
   "source": [
    "### Suriya S (225229140)"
   ]
  },
  {
   "cell_type": "markdown",
   "metadata": {
    "id": "Y8VBI8UKT9vM"
   },
   "source": [
    "#### Import necessary libraries"
   ]
  },
  {
   "cell_type": "code",
   "execution_count": 1,
   "metadata": {
    "id": "xKsYoXMGT9vM"
   },
   "outputs": [],
   "source": [
    "import pandas as pd\n",
    "import matplotlib.pyplot as plt\n",
    "from tensorflow.keras import optimizers\n",
    "from keras.models import Sequential\n",
    "from keras.layers import Dense\n"
   ]
  },
  {
   "cell_type": "markdown",
   "metadata": {
    "id": "ZHCoKx8AT9vO"
   },
   "source": [
    "### 1.Load the dataset: “heart_data.csv” and explore the features"
   ]
  },
  {
   "cell_type": "code",
   "execution_count": 2,
   "metadata": {
    "id": "gF3r2sLGT9vO"
   },
   "outputs": [],
   "source": [
    "df = pd.read_csv(\"heart_data.csv\")"
   ]
  },
  {
   "cell_type": "code",
   "execution_count": 3,
   "metadata": {
    "colab": {
     "base_uri": "https://localhost:8080/",
     "height": 206
    },
    "id": "a-2AQnCgT9vP",
    "outputId": "7712f5bc-edb4-4d4a-d28a-9871bd67f305"
   },
   "outputs": [
    {
     "data": {
      "text/html": [
       "<div>\n",
       "<style scoped>\n",
       "    .dataframe tbody tr th:only-of-type {\n",
       "        vertical-align: middle;\n",
       "    }\n",
       "\n",
       "    .dataframe tbody tr th {\n",
       "        vertical-align: top;\n",
       "    }\n",
       "\n",
       "    .dataframe thead th {\n",
       "        text-align: right;\n",
       "    }\n",
       "</style>\n",
       "<table border=\"1\" class=\"dataframe\">\n",
       "  <thead>\n",
       "    <tr style=\"text-align: right;\">\n",
       "      <th></th>\n",
       "      <th>age</th>\n",
       "      <th>sex</th>\n",
       "      <th>cp</th>\n",
       "      <th>trestbps</th>\n",
       "      <th>chol</th>\n",
       "      <th>fbs</th>\n",
       "      <th>restecg</th>\n",
       "      <th>thalach</th>\n",
       "      <th>exang</th>\n",
       "      <th>oldpeak</th>\n",
       "      <th>slope</th>\n",
       "      <th>ca</th>\n",
       "      <th>thal</th>\n",
       "      <th>target</th>\n",
       "    </tr>\n",
       "  </thead>\n",
       "  <tbody>\n",
       "    <tr>\n",
       "      <th>0</th>\n",
       "      <td>63</td>\n",
       "      <td>1</td>\n",
       "      <td>3</td>\n",
       "      <td>145</td>\n",
       "      <td>233</td>\n",
       "      <td>1</td>\n",
       "      <td>0</td>\n",
       "      <td>150</td>\n",
       "      <td>0</td>\n",
       "      <td>2.3</td>\n",
       "      <td>0</td>\n",
       "      <td>0</td>\n",
       "      <td>1</td>\n",
       "      <td>1</td>\n",
       "    </tr>\n",
       "    <tr>\n",
       "      <th>1</th>\n",
       "      <td>37</td>\n",
       "      <td>1</td>\n",
       "      <td>2</td>\n",
       "      <td>130</td>\n",
       "      <td>250</td>\n",
       "      <td>0</td>\n",
       "      <td>1</td>\n",
       "      <td>187</td>\n",
       "      <td>0</td>\n",
       "      <td>3.5</td>\n",
       "      <td>0</td>\n",
       "      <td>0</td>\n",
       "      <td>2</td>\n",
       "      <td>1</td>\n",
       "    </tr>\n",
       "    <tr>\n",
       "      <th>2</th>\n",
       "      <td>41</td>\n",
       "      <td>0</td>\n",
       "      <td>1</td>\n",
       "      <td>130</td>\n",
       "      <td>204</td>\n",
       "      <td>0</td>\n",
       "      <td>0</td>\n",
       "      <td>172</td>\n",
       "      <td>0</td>\n",
       "      <td>1.4</td>\n",
       "      <td>2</td>\n",
       "      <td>0</td>\n",
       "      <td>2</td>\n",
       "      <td>1</td>\n",
       "    </tr>\n",
       "    <tr>\n",
       "      <th>3</th>\n",
       "      <td>56</td>\n",
       "      <td>1</td>\n",
       "      <td>1</td>\n",
       "      <td>120</td>\n",
       "      <td>236</td>\n",
       "      <td>0</td>\n",
       "      <td>1</td>\n",
       "      <td>178</td>\n",
       "      <td>0</td>\n",
       "      <td>0.8</td>\n",
       "      <td>2</td>\n",
       "      <td>0</td>\n",
       "      <td>2</td>\n",
       "      <td>1</td>\n",
       "    </tr>\n",
       "    <tr>\n",
       "      <th>4</th>\n",
       "      <td>57</td>\n",
       "      <td>0</td>\n",
       "      <td>0</td>\n",
       "      <td>120</td>\n",
       "      <td>354</td>\n",
       "      <td>0</td>\n",
       "      <td>1</td>\n",
       "      <td>163</td>\n",
       "      <td>1</td>\n",
       "      <td>0.6</td>\n",
       "      <td>2</td>\n",
       "      <td>0</td>\n",
       "      <td>2</td>\n",
       "      <td>1</td>\n",
       "    </tr>\n",
       "  </tbody>\n",
       "</table>\n",
       "</div>"
      ],
      "text/plain": [
       "   age  sex  cp  trestbps  chol  fbs  restecg  thalach  exang  oldpeak  slope  \\\n",
       "0   63    1   3       145   233    1        0      150      0      2.3      0   \n",
       "1   37    1   2       130   250    0        1      187      0      3.5      0   \n",
       "2   41    0   1       130   204    0        0      172      0      1.4      2   \n",
       "3   56    1   1       120   236    0        1      178      0      0.8      2   \n",
       "4   57    0   0       120   354    0        1      163      1      0.6      2   \n",
       "\n",
       "   ca  thal  target  \n",
       "0   0     1       1  \n",
       "1   0     2       1  \n",
       "2   0     2       1  \n",
       "3   0     2       1  \n",
       "4   0     2       1  "
      ]
     },
     "execution_count": 3,
     "metadata": {},
     "output_type": "execute_result"
    }
   ],
   "source": [
    "df.head()"
   ]
  },
  {
   "cell_type": "code",
   "execution_count": 4,
   "metadata": {
    "colab": {
     "base_uri": "https://localhost:8080/"
    },
    "id": "oAlG1XpRT9vQ",
    "outputId": "680470b4-661f-421f-bae6-87691c004eb8"
   },
   "outputs": [
    {
     "data": {
      "text/plain": [
       "(303, 14)"
      ]
     },
     "execution_count": 4,
     "metadata": {},
     "output_type": "execute_result"
    }
   ],
   "source": [
    "df.shape"
   ]
  },
  {
   "cell_type": "code",
   "execution_count": 5,
   "metadata": {
    "colab": {
     "base_uri": "https://localhost:8080/"
    },
    "id": "dkd6LHwET9vR",
    "outputId": "fca057f8-cd31-45ba-c1e6-a4ebbe2413e8"
   },
   "outputs": [
    {
     "data": {
      "text/plain": [
       "4242"
      ]
     },
     "execution_count": 5,
     "metadata": {},
     "output_type": "execute_result"
    }
   ],
   "source": [
    "df.size"
   ]
  },
  {
   "cell_type": "code",
   "execution_count": 6,
   "metadata": {
    "colab": {
     "base_uri": "https://localhost:8080/"
    },
    "id": "KJL4tQ_vT9vS",
    "outputId": "a22172dc-c63b-4bf5-8650-bb7136e6c2e6"
   },
   "outputs": [
    {
     "data": {
      "text/plain": [
       "Index(['age', 'sex', 'cp', 'trestbps', 'chol', 'fbs', 'restecg', 'thalach',\n",
       "       'exang', 'oldpeak', 'slope', 'ca', 'thal', 'target'],\n",
       "      dtype='object')"
      ]
     },
     "execution_count": 6,
     "metadata": {},
     "output_type": "execute_result"
    }
   ],
   "source": [
    "df.columns"
   ]
  },
  {
   "cell_type": "code",
   "execution_count": 7,
   "metadata": {
    "colab": {
     "base_uri": "https://localhost:8080/",
     "height": 344
    },
    "id": "GaGgVacST9vT",
    "outputId": "5ac761ff-4fb0-40e4-cc06-7189a3ed3234"
   },
   "outputs": [
    {
     "data": {
      "text/html": [
       "<div>\n",
       "<style scoped>\n",
       "    .dataframe tbody tr th:only-of-type {\n",
       "        vertical-align: middle;\n",
       "    }\n",
       "\n",
       "    .dataframe tbody tr th {\n",
       "        vertical-align: top;\n",
       "    }\n",
       "\n",
       "    .dataframe thead th {\n",
       "        text-align: right;\n",
       "    }\n",
       "</style>\n",
       "<table border=\"1\" class=\"dataframe\">\n",
       "  <thead>\n",
       "    <tr style=\"text-align: right;\">\n",
       "      <th></th>\n",
       "      <th>age</th>\n",
       "      <th>sex</th>\n",
       "      <th>cp</th>\n",
       "      <th>trestbps</th>\n",
       "      <th>chol</th>\n",
       "      <th>fbs</th>\n",
       "      <th>restecg</th>\n",
       "      <th>thalach</th>\n",
       "      <th>exang</th>\n",
       "      <th>oldpeak</th>\n",
       "      <th>slope</th>\n",
       "      <th>ca</th>\n",
       "      <th>thal</th>\n",
       "      <th>target</th>\n",
       "    </tr>\n",
       "  </thead>\n",
       "  <tbody>\n",
       "    <tr>\n",
       "      <th>count</th>\n",
       "      <td>303.000000</td>\n",
       "      <td>303.000000</td>\n",
       "      <td>303.000000</td>\n",
       "      <td>303.000000</td>\n",
       "      <td>303.000000</td>\n",
       "      <td>303.000000</td>\n",
       "      <td>303.000000</td>\n",
       "      <td>303.000000</td>\n",
       "      <td>303.000000</td>\n",
       "      <td>303.000000</td>\n",
       "      <td>303.000000</td>\n",
       "      <td>303.000000</td>\n",
       "      <td>303.000000</td>\n",
       "      <td>303.000000</td>\n",
       "    </tr>\n",
       "    <tr>\n",
       "      <th>mean</th>\n",
       "      <td>54.366337</td>\n",
       "      <td>0.683168</td>\n",
       "      <td>0.966997</td>\n",
       "      <td>131.623762</td>\n",
       "      <td>246.264026</td>\n",
       "      <td>0.148515</td>\n",
       "      <td>0.528053</td>\n",
       "      <td>149.646865</td>\n",
       "      <td>0.326733</td>\n",
       "      <td>1.039604</td>\n",
       "      <td>1.399340</td>\n",
       "      <td>0.729373</td>\n",
       "      <td>2.313531</td>\n",
       "      <td>0.544554</td>\n",
       "    </tr>\n",
       "    <tr>\n",
       "      <th>std</th>\n",
       "      <td>9.082101</td>\n",
       "      <td>0.466011</td>\n",
       "      <td>1.032052</td>\n",
       "      <td>17.538143</td>\n",
       "      <td>51.830751</td>\n",
       "      <td>0.356198</td>\n",
       "      <td>0.525860</td>\n",
       "      <td>22.905161</td>\n",
       "      <td>0.469794</td>\n",
       "      <td>1.161075</td>\n",
       "      <td>0.616226</td>\n",
       "      <td>1.022606</td>\n",
       "      <td>0.612277</td>\n",
       "      <td>0.498835</td>\n",
       "    </tr>\n",
       "    <tr>\n",
       "      <th>min</th>\n",
       "      <td>29.000000</td>\n",
       "      <td>0.000000</td>\n",
       "      <td>0.000000</td>\n",
       "      <td>94.000000</td>\n",
       "      <td>126.000000</td>\n",
       "      <td>0.000000</td>\n",
       "      <td>0.000000</td>\n",
       "      <td>71.000000</td>\n",
       "      <td>0.000000</td>\n",
       "      <td>0.000000</td>\n",
       "      <td>0.000000</td>\n",
       "      <td>0.000000</td>\n",
       "      <td>0.000000</td>\n",
       "      <td>0.000000</td>\n",
       "    </tr>\n",
       "    <tr>\n",
       "      <th>25%</th>\n",
       "      <td>47.500000</td>\n",
       "      <td>0.000000</td>\n",
       "      <td>0.000000</td>\n",
       "      <td>120.000000</td>\n",
       "      <td>211.000000</td>\n",
       "      <td>0.000000</td>\n",
       "      <td>0.000000</td>\n",
       "      <td>133.500000</td>\n",
       "      <td>0.000000</td>\n",
       "      <td>0.000000</td>\n",
       "      <td>1.000000</td>\n",
       "      <td>0.000000</td>\n",
       "      <td>2.000000</td>\n",
       "      <td>0.000000</td>\n",
       "    </tr>\n",
       "    <tr>\n",
       "      <th>50%</th>\n",
       "      <td>55.000000</td>\n",
       "      <td>1.000000</td>\n",
       "      <td>1.000000</td>\n",
       "      <td>130.000000</td>\n",
       "      <td>240.000000</td>\n",
       "      <td>0.000000</td>\n",
       "      <td>1.000000</td>\n",
       "      <td>153.000000</td>\n",
       "      <td>0.000000</td>\n",
       "      <td>0.800000</td>\n",
       "      <td>1.000000</td>\n",
       "      <td>0.000000</td>\n",
       "      <td>2.000000</td>\n",
       "      <td>1.000000</td>\n",
       "    </tr>\n",
       "    <tr>\n",
       "      <th>75%</th>\n",
       "      <td>61.000000</td>\n",
       "      <td>1.000000</td>\n",
       "      <td>2.000000</td>\n",
       "      <td>140.000000</td>\n",
       "      <td>274.500000</td>\n",
       "      <td>0.000000</td>\n",
       "      <td>1.000000</td>\n",
       "      <td>166.000000</td>\n",
       "      <td>1.000000</td>\n",
       "      <td>1.600000</td>\n",
       "      <td>2.000000</td>\n",
       "      <td>1.000000</td>\n",
       "      <td>3.000000</td>\n",
       "      <td>1.000000</td>\n",
       "    </tr>\n",
       "    <tr>\n",
       "      <th>max</th>\n",
       "      <td>77.000000</td>\n",
       "      <td>1.000000</td>\n",
       "      <td>3.000000</td>\n",
       "      <td>200.000000</td>\n",
       "      <td>564.000000</td>\n",
       "      <td>1.000000</td>\n",
       "      <td>2.000000</td>\n",
       "      <td>202.000000</td>\n",
       "      <td>1.000000</td>\n",
       "      <td>6.200000</td>\n",
       "      <td>2.000000</td>\n",
       "      <td>4.000000</td>\n",
       "      <td>3.000000</td>\n",
       "      <td>1.000000</td>\n",
       "    </tr>\n",
       "  </tbody>\n",
       "</table>\n",
       "</div>"
      ],
      "text/plain": [
       "              age         sex          cp    trestbps        chol         fbs  \\\n",
       "count  303.000000  303.000000  303.000000  303.000000  303.000000  303.000000   \n",
       "mean    54.366337    0.683168    0.966997  131.623762  246.264026    0.148515   \n",
       "std      9.082101    0.466011    1.032052   17.538143   51.830751    0.356198   \n",
       "min     29.000000    0.000000    0.000000   94.000000  126.000000    0.000000   \n",
       "25%     47.500000    0.000000    0.000000  120.000000  211.000000    0.000000   \n",
       "50%     55.000000    1.000000    1.000000  130.000000  240.000000    0.000000   \n",
       "75%     61.000000    1.000000    2.000000  140.000000  274.500000    0.000000   \n",
       "max     77.000000    1.000000    3.000000  200.000000  564.000000    1.000000   \n",
       "\n",
       "          restecg     thalach       exang     oldpeak       slope          ca  \\\n",
       "count  303.000000  303.000000  303.000000  303.000000  303.000000  303.000000   \n",
       "mean     0.528053  149.646865    0.326733    1.039604    1.399340    0.729373   \n",
       "std      0.525860   22.905161    0.469794    1.161075    0.616226    1.022606   \n",
       "min      0.000000   71.000000    0.000000    0.000000    0.000000    0.000000   \n",
       "25%      0.000000  133.500000    0.000000    0.000000    1.000000    0.000000   \n",
       "50%      1.000000  153.000000    0.000000    0.800000    1.000000    0.000000   \n",
       "75%      1.000000  166.000000    1.000000    1.600000    2.000000    1.000000   \n",
       "max      2.000000  202.000000    1.000000    6.200000    2.000000    4.000000   \n",
       "\n",
       "             thal      target  \n",
       "count  303.000000  303.000000  \n",
       "mean     2.313531    0.544554  \n",
       "std      0.612277    0.498835  \n",
       "min      0.000000    0.000000  \n",
       "25%      2.000000    0.000000  \n",
       "50%      2.000000    1.000000  \n",
       "75%      3.000000    1.000000  \n",
       "max      3.000000    1.000000  "
      ]
     },
     "execution_count": 7,
     "metadata": {},
     "output_type": "execute_result"
    }
   ],
   "source": [
    "df.describe()"
   ]
  },
  {
   "cell_type": "code",
   "execution_count": 8,
   "metadata": {
    "colab": {
     "base_uri": "https://localhost:8080/"
    },
    "id": "SbSHd_uJT9vT",
    "outputId": "d132c909-206c-4b41-b6fb-3818ed1f57b2"
   },
   "outputs": [
    {
     "name": "stdout",
     "output_type": "stream",
     "text": [
      "<class 'pandas.core.frame.DataFrame'>\n",
      "RangeIndex: 303 entries, 0 to 302\n",
      "Data columns (total 14 columns):\n",
      " #   Column    Non-Null Count  Dtype  \n",
      "---  ------    --------------  -----  \n",
      " 0   age       303 non-null    int64  \n",
      " 1   sex       303 non-null    int64  \n",
      " 2   cp        303 non-null    int64  \n",
      " 3   trestbps  303 non-null    int64  \n",
      " 4   chol      303 non-null    int64  \n",
      " 5   fbs       303 non-null    int64  \n",
      " 6   restecg   303 non-null    int64  \n",
      " 7   thalach   303 non-null    int64  \n",
      " 8   exang     303 non-null    int64  \n",
      " 9   oldpeak   303 non-null    float64\n",
      " 10  slope     303 non-null    int64  \n",
      " 11  ca        303 non-null    int64  \n",
      " 12  thal      303 non-null    int64  \n",
      " 13  target    303 non-null    int64  \n",
      "dtypes: float64(1), int64(13)\n",
      "memory usage: 33.3 KB\n"
     ]
    }
   ],
   "source": [
    "df.info()"
   ]
  },
  {
   "cell_type": "code",
   "execution_count": 9,
   "metadata": {
    "colab": {
     "base_uri": "https://localhost:8080/"
    },
    "id": "xCehCIeKT9vU",
    "outputId": "be7dd5bb-3314-4b00-e5a2-1c97702d3613"
   },
   "outputs": [
    {
     "data": {
      "text/plain": [
       "age         0\n",
       "sex         0\n",
       "cp          0\n",
       "trestbps    0\n",
       "chol        0\n",
       "fbs         0\n",
       "restecg     0\n",
       "thalach     0\n",
       "exang       0\n",
       "oldpeak     0\n",
       "slope       0\n",
       "ca          0\n",
       "thal        0\n",
       "target      0\n",
       "dtype: int64"
      ]
     },
     "execution_count": 9,
     "metadata": {},
     "output_type": "execute_result"
    }
   ],
   "source": [
    "df.isnull().sum()"
   ]
  },
  {
   "cell_type": "markdown",
   "metadata": {
    "id": "5-3QCALUT9vU"
   },
   "source": [
    "### 2. Split the dataset for training and testing (test size = 20%)"
   ]
  },
  {
   "cell_type": "code",
   "execution_count": 10,
   "metadata": {
    "id": "i0tl5tP1T9vV"
   },
   "outputs": [],
   "source": [
    "y = df.pop('target')\n",
    "X = df"
   ]
  },
  {
   "cell_type": "code",
   "execution_count": 11,
   "metadata": {
    "id": "hyRML6wpT9vV"
   },
   "outputs": [],
   "source": [
    "from sklearn.model_selection import train_test_split\n",
    "X_train,X_test,y_train,y_test = train_test_split(X,y,test_size=0.20,random_state=42)"
   ]
  },
  {
   "cell_type": "code",
   "execution_count": 12,
   "metadata": {
    "colab": {
     "base_uri": "https://localhost:8080/"
    },
    "id": "gzLDDN1DT9vV",
    "outputId": "b5569f8a-8d85-458e-a22c-74deb5fe3a19"
   },
   "outputs": [
    {
     "data": {
      "text/plain": [
       "(242, 13)"
      ]
     },
     "execution_count": 12,
     "metadata": {},
     "output_type": "execute_result"
    }
   ],
   "source": [
    "X_train.shape"
   ]
  },
  {
   "cell_type": "code",
   "execution_count": 13,
   "metadata": {
    "colab": {
     "base_uri": "https://localhost:8080/"
    },
    "id": "5dgXctm9T9vW",
    "outputId": "a4d6ce5c-4510-4740-86c9-d760ba4518d8"
   },
   "outputs": [
    {
     "data": {
      "text/plain": [
       "(61, 13)"
      ]
     },
     "execution_count": 13,
     "metadata": {},
     "output_type": "execute_result"
    }
   ],
   "source": [
    "X_test.shape"
   ]
  },
  {
   "cell_type": "markdown",
   "metadata": {
    "id": "cR7yjvART9vW"
   },
   "source": [
    "### 3. Create a neural network based on the following requirements"
   ]
  },
  {
   "cell_type": "markdown",
   "metadata": {
    "id": "OQ8_yuLIT9vW"
   },
   "source": [
    "* Input size = No. of features in X_train = 13\n",
    "* No. of neurons/units in the Dense layer = 8, with Relu activation\n",
    "function\n",
    "* No. of neurons/units in output layer = 1, with sigmoid activation function"
   ]
  },
  {
   "cell_type": "code",
   "execution_count": 14,
   "metadata": {
    "id": "jBYFEtMFT9vX"
   },
   "outputs": [],
   "source": [
    "model = Sequential()\n",
    "model.add(Dense(8, input_dim=13, activation='relu'))\n",
    "model.add(Dense(1, activation='sigmoid'))"
   ]
  },
  {
   "cell_type": "markdown",
   "metadata": {
    "id": "N1aOmnzmT9vX"
   },
   "source": [
    "### 4. Compile your model with learning rate = 0.001, optimizer as ‘RMSprop’, Mean square error loss and metrics as ‘accuracy’."
   ]
  },
  {
   "cell_type": "code",
   "execution_count": 15,
   "metadata": {
    "id": "lmKg1EdNT9vX"
   },
   "outputs": [],
   "source": [
    "optimizer = optimizers.RMSprop(learning_rate=0.001)"
   ]
  },
  {
   "cell_type": "code",
   "execution_count": 16,
   "metadata": {
    "colab": {
     "base_uri": "https://localhost:8080/"
    },
    "id": "Vi6KKbjtT9vY",
    "outputId": "54172a57-cbc7-4657-f1f5-224a4951459e"
   },
   "outputs": [
    {
     "name": "stdout",
     "output_type": "stream",
     "text": [
      "Epoch 1/10\n",
      "9/9 [==============================] - 1s 4ms/step - loss: 0.4548 - accuracy: 0.5413\n",
      "Epoch 2/10\n",
      "9/9 [==============================] - 0s 5ms/step - loss: 0.4506 - accuracy: 0.5496\n",
      "Epoch 3/10\n",
      "9/9 [==============================] - 0s 4ms/step - loss: 0.4504 - accuracy: 0.5496\n",
      "Epoch 4/10\n",
      "9/9 [==============================] - 0s 4ms/step - loss: 0.4504 - accuracy: 0.5496\n",
      "Epoch 5/10\n",
      "9/9 [==============================] - 0s 4ms/step - loss: 0.4504 - accuracy: 0.5496\n",
      "Epoch 6/10\n",
      "9/9 [==============================] - 0s 4ms/step - loss: 0.4504 - accuracy: 0.5496\n",
      "Epoch 7/10\n",
      "9/9 [==============================] - 0s 4ms/step - loss: 0.4504 - accuracy: 0.5496\n",
      "Epoch 8/10\n",
      "9/9 [==============================] - 0s 4ms/step - loss: 0.4504 - accuracy: 0.5496\n",
      "Epoch 9/10\n",
      "9/9 [==============================] - 0s 4ms/step - loss: 0.4504 - accuracy: 0.5496\n",
      "Epoch 10/10\n",
      "9/9 [==============================] - 0s 4ms/step - loss: 0.4504 - accuracy: 0.5496\n"
     ]
    },
    {
     "data": {
      "text/plain": [
       "<keras.callbacks.History at 0x21ba09d45b0>"
      ]
     },
     "execution_count": 16,
     "metadata": {},
     "output_type": "execute_result"
    }
   ],
   "source": [
    "model.compile(loss = 'mse', optimizer = optimizer, metrics=['accuracy'])\n",
    "model.fit(X_train, y_train, epochs =10, batch_size=30, verbose=1)"
   ]
  },
  {
   "cell_type": "code",
   "execution_count": 17,
   "metadata": {
    "colab": {
     "base_uri": "https://localhost:8080/"
    },
    "id": "OiczwvIlT9vY",
    "outputId": "828760ba-f988-4ba4-ea74-7cc8c54bd8db"
   },
   "outputs": [
    {
     "name": "stdout",
     "output_type": "stream",
     "text": [
      "2/2 [==============================] - 1s 7ms/step - loss: 0.4754 - accuracy: 0.5246\n"
     ]
    },
    {
     "data": {
      "text/plain": [
       "[0.4754098355770111, 0.5245901346206665]"
      ]
     },
     "execution_count": 17,
     "metadata": {},
     "output_type": "execute_result"
    }
   ],
   "source": [
    "model.evaluate(X_test,y_test)"
   ]
  },
  {
   "cell_type": "markdown",
   "metadata": {
    "id": "fdtHbkp6T9vY"
   },
   "source": [
    "### 5. Print the summary of the model: model.summary()"
   ]
  },
  {
   "cell_type": "code",
   "execution_count": 18,
   "metadata": {
    "colab": {
     "base_uri": "https://localhost:8080/"
    },
    "id": "Lkw5gc2qWcMc",
    "outputId": "4559d7cd-e50e-4133-8a81-6a3f2b725e1f"
   },
   "outputs": [
    {
     "name": "stdout",
     "output_type": "stream",
     "text": [
      "Model: \"sequential\"\n",
      "_________________________________________________________________\n",
      " Layer (type)                Output Shape              Param #   \n",
      "=================================================================\n",
      " dense (Dense)               (None, 8)                 112       \n",
      "                                                                 \n",
      " dense_1 (Dense)             (None, 1)                 9         \n",
      "                                                                 \n",
      "=================================================================\n",
      "Total params: 121\n",
      "Trainable params: 121\n",
      "Non-trainable params: 0\n",
      "_________________________________________________________________\n"
     ]
    }
   ],
   "source": [
    "model.summary()"
   ]
  },
  {
   "cell_type": "markdown",
   "metadata": {
    "id": "BIcoM2f9WTJO"
   },
   "source": [
    "### 6. Train the model for 200 epochs and batch size as 10"
   ]
  },
  {
   "cell_type": "code",
   "execution_count": 19,
   "metadata": {
    "colab": {
     "base_uri": "https://localhost:8080/"
    },
    "id": "mZggXOgQWvZa",
    "outputId": "9f8b6a9d-9289-4f05-c636-39a021dd6428"
   },
   "outputs": [
    {
     "name": "stdout",
     "output_type": "stream",
     "text": [
      "Epoch 1/200\n",
      "25/25 [==============================] - 1s 4ms/step - loss: 0.4504 - accuracy: 0.5496\n",
      "Epoch 2/200\n",
      "25/25 [==============================] - 0s 4ms/step - loss: 0.4504 - accuracy: 0.5496\n",
      "Epoch 3/200\n",
      "25/25 [==============================] - 0s 4ms/step - loss: 0.4504 - accuracy: 0.5496\n",
      "Epoch 4/200\n",
      "25/25 [==============================] - 0s 4ms/step - loss: 0.4504 - accuracy: 0.5496\n",
      "Epoch 5/200\n",
      "25/25 [==============================] - 0s 5ms/step - loss: 0.4504 - accuracy: 0.5496\n",
      "Epoch 6/200\n",
      "25/25 [==============================] - 0s 4ms/step - loss: 0.4504 - accuracy: 0.5496\n",
      "Epoch 7/200\n",
      "25/25 [==============================] - 0s 4ms/step - loss: 0.4504 - accuracy: 0.5496\n",
      "Epoch 8/200\n",
      "25/25 [==============================] - 0s 5ms/step - loss: 0.4540 - accuracy: 0.5455\n",
      "Epoch 9/200\n",
      "25/25 [==============================] - 0s 5ms/step - loss: 0.4505 - accuracy: 0.5496\n",
      "Epoch 10/200\n",
      "25/25 [==============================] - 0s 4ms/step - loss: 0.4504 - accuracy: 0.5496\n",
      "Epoch 11/200\n",
      "25/25 [==============================] - 0s 6ms/step - loss: 0.4504 - accuracy: 0.5496\n",
      "Epoch 12/200\n",
      "25/25 [==============================] - 0s 6ms/step - loss: 0.4504 - accuracy: 0.5496\n",
      "Epoch 13/200\n",
      "25/25 [==============================] - 0s 4ms/step - loss: 0.4504 - accuracy: 0.5496\n",
      "Epoch 14/200\n",
      "25/25 [==============================] - 0s 3ms/step - loss: 0.4504 - accuracy: 0.5496\n",
      "Epoch 15/200\n",
      "25/25 [==============================] - 0s 5ms/step - loss: 0.4504 - accuracy: 0.5496\n",
      "Epoch 16/200\n",
      "25/25 [==============================] - 0s 5ms/step - loss: 0.4504 - accuracy: 0.5496\n",
      "Epoch 17/200\n",
      "25/25 [==============================] - 0s 4ms/step - loss: 0.4504 - accuracy: 0.5496\n",
      "Epoch 18/200\n",
      "25/25 [==============================] - 0s 4ms/step - loss: 0.4504 - accuracy: 0.5496\n",
      "Epoch 19/200\n",
      "25/25 [==============================] - 0s 4ms/step - loss: 0.4569 - accuracy: 0.5413\n",
      "Epoch 20/200\n",
      "25/25 [==============================] - 0s 4ms/step - loss: 0.4508 - accuracy: 0.5496\n",
      "Epoch 21/200\n",
      "25/25 [==============================] - 0s 5ms/step - loss: 0.4504 - accuracy: 0.5496\n",
      "Epoch 22/200\n",
      "25/25 [==============================] - 0s 4ms/step - loss: 0.4504 - accuracy: 0.5496\n",
      "Epoch 23/200\n",
      "25/25 [==============================] - 0s 4ms/step - loss: 0.4504 - accuracy: 0.5496\n",
      "Epoch 24/200\n",
      "25/25 [==============================] - 0s 5ms/step - loss: 0.4504 - accuracy: 0.5496\n",
      "Epoch 25/200\n",
      "25/25 [==============================] - 0s 5ms/step - loss: 0.4504 - accuracy: 0.5496\n",
      "Epoch 26/200\n",
      "25/25 [==============================] - 0s 6ms/step - loss: 0.4504 - accuracy: 0.5496\n",
      "Epoch 27/200\n",
      "25/25 [==============================] - 0s 4ms/step - loss: 0.4504 - accuracy: 0.5496\n",
      "Epoch 28/200\n",
      "25/25 [==============================] - 0s 5ms/step - loss: 0.4504 - accuracy: 0.5496\n",
      "Epoch 29/200\n",
      "25/25 [==============================] - 0s 5ms/step - loss: 0.4504 - accuracy: 0.5496\n",
      "Epoch 30/200\n",
      "25/25 [==============================] - 0s 5ms/step - loss: 0.4504 - accuracy: 0.5496\n",
      "Epoch 31/200\n",
      "25/25 [==============================] - 0s 5ms/step - loss: 0.4504 - accuracy: 0.5496\n",
      "Epoch 32/200\n",
      "25/25 [==============================] - 0s 5ms/step - loss: 0.4504 - accuracy: 0.5496\n",
      "Epoch 33/200\n",
      "25/25 [==============================] - 0s 5ms/step - loss: 0.4504 - accuracy: 0.5496\n",
      "Epoch 34/200\n",
      "25/25 [==============================] - 0s 5ms/step - loss: 0.4504 - accuracy: 0.5496\n",
      "Epoch 35/200\n",
      "25/25 [==============================] - 0s 5ms/step - loss: 0.4504 - accuracy: 0.5496\n",
      "Epoch 36/200\n",
      "25/25 [==============================] - 0s 5ms/step - loss: 0.4504 - accuracy: 0.5496\n",
      "Epoch 37/200\n",
      "25/25 [==============================] - 0s 4ms/step - loss: 0.4504 - accuracy: 0.5496\n",
      "Epoch 38/200\n",
      "25/25 [==============================] - 0s 4ms/step - loss: 0.4504 - accuracy: 0.5496\n",
      "Epoch 39/200\n",
      "25/25 [==============================] - 0s 5ms/step - loss: 0.4504 - accuracy: 0.5496\n",
      "Epoch 40/200\n",
      "25/25 [==============================] - 0s 6ms/step - loss: 0.4504 - accuracy: 0.5496\n",
      "Epoch 41/200\n",
      "25/25 [==============================] - 0s 6ms/step - loss: 0.4504 - accuracy: 0.5496\n",
      "Epoch 42/200\n",
      "25/25 [==============================] - 0s 5ms/step - loss: 0.4504 - accuracy: 0.5496\n",
      "Epoch 43/200\n",
      "25/25 [==============================] - 0s 4ms/step - loss: 0.4504 - accuracy: 0.5496\n",
      "Epoch 44/200\n",
      "25/25 [==============================] - 0s 6ms/step - loss: 0.4504 - accuracy: 0.5496\n",
      "Epoch 45/200\n",
      "25/25 [==============================] - 0s 5ms/step - loss: 0.4504 - accuracy: 0.5496\n",
      "Epoch 46/200\n",
      "25/25 [==============================] - 0s 5ms/step - loss: 0.4504 - accuracy: 0.5496\n",
      "Epoch 47/200\n",
      "25/25 [==============================] - 0s 5ms/step - loss: 0.4504 - accuracy: 0.5496\n",
      "Epoch 48/200\n",
      "25/25 [==============================] - 0s 5ms/step - loss: 0.4504 - accuracy: 0.5496\n",
      "Epoch 49/200\n",
      "25/25 [==============================] - 0s 6ms/step - loss: 0.4504 - accuracy: 0.5496\n",
      "Epoch 50/200\n",
      "25/25 [==============================] - 0s 5ms/step - loss: 0.4504 - accuracy: 0.5496\n",
      "Epoch 51/200\n",
      "25/25 [==============================] - 0s 5ms/step - loss: 0.4504 - accuracy: 0.5496\n",
      "Epoch 52/200\n",
      "25/25 [==============================] - 0s 7ms/step - loss: 0.4504 - accuracy: 0.5496\n",
      "Epoch 53/200\n",
      "25/25 [==============================] - 0s 4ms/step - loss: 0.4504 - accuracy: 0.5496\n",
      "Epoch 54/200\n",
      "25/25 [==============================] - 0s 4ms/step - loss: 0.4504 - accuracy: 0.5496\n",
      "Epoch 55/200\n",
      "25/25 [==============================] - 0s 4ms/step - loss: 0.4504 - accuracy: 0.5496\n",
      "Epoch 56/200\n",
      "25/25 [==============================] - 0s 4ms/step - loss: 0.4504 - accuracy: 0.5496\n",
      "Epoch 57/200\n",
      "25/25 [==============================] - 0s 3ms/step - loss: 0.4504 - accuracy: 0.5496\n",
      "Epoch 58/200\n",
      "25/25 [==============================] - 0s 4ms/step - loss: 0.4504 - accuracy: 0.5496\n",
      "Epoch 59/200\n",
      "25/25 [==============================] - 0s 3ms/step - loss: 0.4504 - accuracy: 0.5496\n",
      "Epoch 60/200\n",
      "25/25 [==============================] - 0s 4ms/step - loss: 0.4504 - accuracy: 0.5496\n",
      "Epoch 61/200\n",
      "25/25 [==============================] - 0s 4ms/step - loss: 0.4504 - accuracy: 0.5496\n",
      "Epoch 62/200\n",
      "25/25 [==============================] - 0s 5ms/step - loss: 0.4504 - accuracy: 0.5496\n",
      "Epoch 63/200\n",
      "25/25 [==============================] - 0s 4ms/step - loss: 0.4504 - accuracy: 0.5496\n",
      "Epoch 64/200\n",
      "25/25 [==============================] - 0s 4ms/step - loss: 0.4504 - accuracy: 0.5496\n",
      "Epoch 65/200\n",
      "25/25 [==============================] - 0s 4ms/step - loss: 0.4504 - accuracy: 0.5496\n",
      "Epoch 66/200\n",
      "25/25 [==============================] - 0s 5ms/step - loss: 0.4504 - accuracy: 0.5496\n",
      "Epoch 67/200\n",
      "25/25 [==============================] - 0s 5ms/step - loss: 0.4504 - accuracy: 0.5496\n",
      "Epoch 68/200\n",
      "25/25 [==============================] - 0s 5ms/step - loss: 0.4504 - accuracy: 0.5496\n",
      "Epoch 69/200\n",
      "25/25 [==============================] - 0s 4ms/step - loss: 0.4504 - accuracy: 0.5496\n",
      "Epoch 70/200\n",
      "25/25 [==============================] - 0s 5ms/step - loss: 0.4504 - accuracy: 0.5496\n",
      "Epoch 71/200\n",
      "25/25 [==============================] - 0s 5ms/step - loss: 0.4504 - accuracy: 0.5496\n",
      "Epoch 72/200\n",
      "25/25 [==============================] - 0s 5ms/step - loss: 0.4504 - accuracy: 0.5496\n",
      "Epoch 73/200\n",
      "25/25 [==============================] - 0s 6ms/step - loss: 0.4504 - accuracy: 0.5496\n",
      "Epoch 74/200\n",
      "25/25 [==============================] - 0s 4ms/step - loss: 0.4504 - accuracy: 0.5496\n",
      "Epoch 75/200\n",
      "25/25 [==============================] - 0s 5ms/step - loss: 0.4504 - accuracy: 0.5496\n",
      "Epoch 76/200\n",
      "25/25 [==============================] - 0s 4ms/step - loss: 0.4504 - accuracy: 0.5496\n",
      "Epoch 77/200\n",
      "25/25 [==============================] - 0s 5ms/step - loss: 0.4504 - accuracy: 0.5496\n",
      "Epoch 78/200\n",
      "25/25 [==============================] - 0s 4ms/step - loss: 0.4504 - accuracy: 0.5496\n",
      "Epoch 79/200\n",
      "25/25 [==============================] - 0s 4ms/step - loss: 0.4504 - accuracy: 0.5496\n",
      "Epoch 80/200\n",
      "25/25 [==============================] - 0s 4ms/step - loss: 0.4504 - accuracy: 0.5496\n",
      "Epoch 81/200\n",
      "25/25 [==============================] - 0s 5ms/step - loss: 0.4504 - accuracy: 0.5496\n",
      "Epoch 82/200\n",
      "25/25 [==============================] - 0s 6ms/step - loss: 0.4504 - accuracy: 0.5496\n",
      "Epoch 83/200\n",
      "25/25 [==============================] - 0s 4ms/step - loss: 0.4504 - accuracy: 0.5496\n",
      "Epoch 84/200\n",
      "25/25 [==============================] - 0s 3ms/step - loss: 0.4504 - accuracy: 0.5496\n",
      "Epoch 85/200\n",
      "25/25 [==============================] - 0s 4ms/step - loss: 0.4504 - accuracy: 0.5496\n",
      "Epoch 86/200\n",
      "25/25 [==============================] - 0s 5ms/step - loss: 0.4504 - accuracy: 0.5496\n",
      "Epoch 87/200\n",
      "25/25 [==============================] - 0s 5ms/step - loss: 0.4504 - accuracy: 0.5496\n",
      "Epoch 88/200\n",
      "25/25 [==============================] - 0s 5ms/step - loss: 0.4504 - accuracy: 0.5496\n",
      "Epoch 89/200\n",
      "25/25 [==============================] - 0s 5ms/step - loss: 0.4504 - accuracy: 0.5496\n",
      "Epoch 90/200\n",
      "25/25 [==============================] - 0s 4ms/step - loss: 0.4504 - accuracy: 0.5496\n",
      "Epoch 91/200\n",
      "25/25 [==============================] - 0s 3ms/step - loss: 0.4504 - accuracy: 0.5496\n",
      "Epoch 92/200\n",
      "25/25 [==============================] - 0s 4ms/step - loss: 0.4504 - accuracy: 0.5496\n",
      "Epoch 93/200\n",
      "25/25 [==============================] - 0s 4ms/step - loss: 0.4504 - accuracy: 0.5496\n",
      "Epoch 94/200\n",
      "25/25 [==============================] - 0s 4ms/step - loss: 0.4504 - accuracy: 0.5496\n",
      "Epoch 95/200\n",
      "25/25 [==============================] - 0s 4ms/step - loss: 0.4504 - accuracy: 0.5496\n",
      "Epoch 96/200\n",
      "25/25 [==============================] - 0s 4ms/step - loss: 0.4504 - accuracy: 0.5496\n",
      "Epoch 97/200\n",
      "25/25 [==============================] - 0s 4ms/step - loss: 0.4504 - accuracy: 0.5496\n",
      "Epoch 98/200\n",
      "25/25 [==============================] - 0s 4ms/step - loss: 0.4504 - accuracy: 0.5496\n",
      "Epoch 99/200\n",
      "25/25 [==============================] - 0s 7ms/step - loss: 0.4504 - accuracy: 0.5496\n",
      "Epoch 100/200\n",
      "25/25 [==============================] - 0s 11ms/step - loss: 0.4504 - accuracy: 0.5496\n",
      "Epoch 101/200\n",
      "25/25 [==============================] - 0s 3ms/step - loss: 0.4504 - accuracy: 0.5496\n",
      "Epoch 102/200\n",
      "25/25 [==============================] - 0s 3ms/step - loss: 0.4504 - accuracy: 0.5496\n",
      "Epoch 103/200\n",
      "25/25 [==============================] - 0s 2ms/step - loss: 0.4504 - accuracy: 0.5496\n",
      "Epoch 104/200\n",
      "25/25 [==============================] - 0s 3ms/step - loss: 0.4504 - accuracy: 0.5496\n",
      "Epoch 105/200\n",
      "25/25 [==============================] - 0s 3ms/step - loss: 0.4504 - accuracy: 0.5496\n",
      "Epoch 106/200\n",
      "25/25 [==============================] - 0s 3ms/step - loss: 0.4504 - accuracy: 0.5496\n",
      "Epoch 107/200\n",
      "25/25 [==============================] - 0s 3ms/step - loss: 0.4504 - accuracy: 0.5496\n",
      "Epoch 108/200\n",
      "25/25 [==============================] - 0s 3ms/step - loss: 0.4504 - accuracy: 0.5496\n",
      "Epoch 109/200\n",
      "25/25 [==============================] - 0s 3ms/step - loss: 0.4504 - accuracy: 0.5496\n",
      "Epoch 110/200\n",
      "25/25 [==============================] - 0s 3ms/step - loss: 0.4504 - accuracy: 0.5496\n",
      "Epoch 111/200\n",
      "25/25 [==============================] - 0s 3ms/step - loss: 0.4504 - accuracy: 0.5496\n",
      "Epoch 112/200\n",
      "25/25 [==============================] - 0s 3ms/step - loss: 0.4504 - accuracy: 0.5496\n",
      "Epoch 113/200\n",
      "25/25 [==============================] - 0s 3ms/step - loss: 0.4504 - accuracy: 0.5496\n",
      "Epoch 114/200\n",
      "25/25 [==============================] - 0s 3ms/step - loss: 0.4504 - accuracy: 0.5496\n",
      "Epoch 115/200\n",
      "25/25 [==============================] - 0s 3ms/step - loss: 0.4504 - accuracy: 0.5496\n",
      "Epoch 116/200\n",
      "25/25 [==============================] - 0s 3ms/step - loss: 0.4504 - accuracy: 0.5496\n",
      "Epoch 117/200\n",
      "25/25 [==============================] - 0s 3ms/step - loss: 0.4504 - accuracy: 0.5496\n",
      "Epoch 118/200\n",
      "25/25 [==============================] - 0s 3ms/step - loss: 0.4504 - accuracy: 0.5496\n",
      "Epoch 119/200\n",
      "25/25 [==============================] - 0s 4ms/step - loss: 0.4504 - accuracy: 0.5496\n",
      "Epoch 120/200\n",
      "25/25 [==============================] - 0s 3ms/step - loss: 0.4504 - accuracy: 0.5496\n",
      "Epoch 121/200\n",
      "25/25 [==============================] - 0s 4ms/step - loss: 0.4504 - accuracy: 0.5496\n",
      "Epoch 122/200\n",
      "25/25 [==============================] - 0s 3ms/step - loss: 0.4504 - accuracy: 0.5496\n",
      "Epoch 123/200\n",
      "25/25 [==============================] - 0s 3ms/step - loss: 0.4504 - accuracy: 0.5496\n",
      "Epoch 124/200\n",
      "25/25 [==============================] - 0s 3ms/step - loss: 0.4504 - accuracy: 0.5496\n",
      "Epoch 125/200\n",
      "25/25 [==============================] - 0s 3ms/step - loss: 0.4504 - accuracy: 0.5496\n",
      "Epoch 126/200\n",
      "25/25 [==============================] - 0s 3ms/step - loss: 0.4504 - accuracy: 0.5496\n",
      "Epoch 127/200\n",
      "25/25 [==============================] - 0s 3ms/step - loss: 0.4504 - accuracy: 0.5496\n",
      "Epoch 128/200\n",
      "25/25 [==============================] - 0s 4ms/step - loss: 0.4504 - accuracy: 0.5496\n",
      "Epoch 129/200\n",
      "25/25 [==============================] - 0s 4ms/step - loss: 0.4504 - accuracy: 0.5496\n",
      "Epoch 130/200\n",
      "25/25 [==============================] - 0s 6ms/step - loss: 0.4504 - accuracy: 0.5496\n",
      "Epoch 131/200\n",
      "25/25 [==============================] - 0s 4ms/step - loss: 0.4504 - accuracy: 0.5496\n",
      "Epoch 132/200\n",
      "25/25 [==============================] - 0s 5ms/step - loss: 0.4504 - accuracy: 0.5496\n",
      "Epoch 133/200\n",
      "25/25 [==============================] - 0s 5ms/step - loss: 0.4504 - accuracy: 0.5496\n",
      "Epoch 134/200\n",
      "25/25 [==============================] - 0s 4ms/step - loss: 0.4504 - accuracy: 0.5496\n",
      "Epoch 135/200\n",
      "25/25 [==============================] - 0s 5ms/step - loss: 0.4504 - accuracy: 0.5496\n",
      "Epoch 136/200\n",
      "25/25 [==============================] - 0s 4ms/step - loss: 0.4504 - accuracy: 0.5496\n",
      "Epoch 137/200\n",
      "25/25 [==============================] - 0s 4ms/step - loss: 0.4504 - accuracy: 0.5496\n",
      "Epoch 138/200\n",
      "25/25 [==============================] - 0s 4ms/step - loss: 0.4504 - accuracy: 0.5496\n",
      "Epoch 139/200\n",
      "25/25 [==============================] - 0s 4ms/step - loss: 0.4504 - accuracy: 0.5496\n",
      "Epoch 140/200\n",
      "25/25 [==============================] - 0s 4ms/step - loss: 0.4504 - accuracy: 0.5496\n",
      "Epoch 141/200\n",
      "25/25 [==============================] - 0s 4ms/step - loss: 0.4504 - accuracy: 0.5496\n",
      "Epoch 142/200\n",
      "25/25 [==============================] - 0s 4ms/step - loss: 0.4504 - accuracy: 0.5496\n",
      "Epoch 143/200\n",
      "25/25 [==============================] - 0s 4ms/step - loss: 0.4504 - accuracy: 0.5496\n",
      "Epoch 144/200\n",
      "25/25 [==============================] - 0s 4ms/step - loss: 0.4504 - accuracy: 0.5496\n",
      "Epoch 145/200\n",
      "25/25 [==============================] - 0s 4ms/step - loss: 0.4504 - accuracy: 0.5496\n",
      "Epoch 146/200\n",
      "25/25 [==============================] - 0s 4ms/step - loss: 0.4504 - accuracy: 0.5496\n",
      "Epoch 147/200\n",
      "25/25 [==============================] - 0s 4ms/step - loss: 0.4504 - accuracy: 0.5496\n",
      "Epoch 148/200\n",
      "25/25 [==============================] - 0s 4ms/step - loss: 0.4504 - accuracy: 0.5496\n",
      "Epoch 149/200\n",
      "25/25 [==============================] - 0s 6ms/step - loss: 0.4504 - accuracy: 0.5496\n",
      "Epoch 150/200\n",
      "25/25 [==============================] - 0s 10ms/step - loss: 0.4504 - accuracy: 0.5496\n",
      "Epoch 151/200\n",
      "25/25 [==============================] - 0s 3ms/step - loss: 0.4504 - accuracy: 0.5496\n",
      "Epoch 152/200\n",
      "25/25 [==============================] - 0s 3ms/step - loss: 0.4504 - accuracy: 0.5496\n",
      "Epoch 153/200\n",
      "25/25 [==============================] - 0s 2ms/step - loss: 0.4504 - accuracy: 0.5496\n",
      "Epoch 154/200\n",
      "25/25 [==============================] - 0s 3ms/step - loss: 0.4504 - accuracy: 0.5496\n",
      "Epoch 155/200\n",
      "25/25 [==============================] - 0s 3ms/step - loss: 0.4504 - accuracy: 0.5496\n",
      "Epoch 156/200\n",
      "25/25 [==============================] - 0s 3ms/step - loss: 0.4504 - accuracy: 0.5496\n",
      "Epoch 157/200\n",
      "25/25 [==============================] - 0s 3ms/step - loss: 0.4504 - accuracy: 0.5496\n",
      "Epoch 158/200\n",
      "25/25 [==============================] - 0s 3ms/step - loss: 0.4504 - accuracy: 0.5496\n",
      "Epoch 159/200\n",
      "25/25 [==============================] - 0s 3ms/step - loss: 0.4504 - accuracy: 0.5496\n",
      "Epoch 160/200\n",
      "25/25 [==============================] - 0s 3ms/step - loss: 0.4504 - accuracy: 0.5496\n",
      "Epoch 161/200\n",
      "25/25 [==============================] - 0s 3ms/step - loss: 0.4504 - accuracy: 0.5496\n",
      "Epoch 162/200\n",
      "25/25 [==============================] - 0s 3ms/step - loss: 0.4504 - accuracy: 0.5496\n",
      "Epoch 163/200\n",
      "25/25 [==============================] - 0s 3ms/step - loss: 0.4504 - accuracy: 0.5496\n",
      "Epoch 164/200\n",
      "25/25 [==============================] - 0s 3ms/step - loss: 0.4504 - accuracy: 0.5496\n",
      "Epoch 165/200\n",
      "25/25 [==============================] - 0s 3ms/step - loss: 0.4504 - accuracy: 0.5496\n",
      "Epoch 166/200\n",
      "25/25 [==============================] - 0s 3ms/step - loss: 0.4504 - accuracy: 0.5496\n",
      "Epoch 167/200\n",
      "25/25 [==============================] - 0s 4ms/step - loss: 0.4504 - accuracy: 0.5496\n",
      "Epoch 168/200\n",
      "25/25 [==============================] - 0s 12ms/step - loss: 0.4504 - accuracy: 0.5496\n",
      "Epoch 169/200\n",
      "25/25 [==============================] - 0s 5ms/step - loss: 0.4504 - accuracy: 0.5496\n",
      "Epoch 170/200\n",
      "25/25 [==============================] - 0s 3ms/step - loss: 0.4504 - accuracy: 0.5496\n",
      "Epoch 171/200\n",
      "25/25 [==============================] - 0s 4ms/step - loss: 0.4504 - accuracy: 0.5496\n",
      "Epoch 172/200\n",
      "25/25 [==============================] - 0s 4ms/step - loss: 0.4504 - accuracy: 0.5496\n",
      "Epoch 173/200\n",
      "25/25 [==============================] - 0s 10ms/step - loss: 0.4504 - accuracy: 0.5496\n",
      "Epoch 174/200\n",
      "25/25 [==============================] - 0s 4ms/step - loss: 0.4504 - accuracy: 0.5496\n",
      "Epoch 175/200\n",
      "25/25 [==============================] - 0s 3ms/step - loss: 0.4504 - accuracy: 0.5496\n",
      "Epoch 176/200\n",
      "25/25 [==============================] - 0s 4ms/step - loss: 0.4504 - accuracy: 0.5496\n",
      "Epoch 177/200\n",
      "25/25 [==============================] - 0s 4ms/step - loss: 0.4504 - accuracy: 0.5496\n",
      "Epoch 178/200\n",
      "25/25 [==============================] - 0s 4ms/step - loss: 0.4504 - accuracy: 0.5496\n",
      "Epoch 179/200\n",
      "25/25 [==============================] - 0s 3ms/step - loss: 0.4504 - accuracy: 0.5496\n",
      "Epoch 180/200\n",
      "25/25 [==============================] - 0s 3ms/step - loss: 0.4504 - accuracy: 0.5496\n",
      "Epoch 181/200\n",
      "25/25 [==============================] - 0s 4ms/step - loss: 0.4504 - accuracy: 0.5496\n",
      "Epoch 182/200\n",
      "25/25 [==============================] - 0s 3ms/step - loss: 0.4504 - accuracy: 0.5496\n",
      "Epoch 183/200\n",
      "25/25 [==============================] - 0s 3ms/step - loss: 0.4504 - accuracy: 0.5496\n",
      "Epoch 184/200\n",
      "25/25 [==============================] - 0s 6ms/step - loss: 0.4504 - accuracy: 0.5496\n",
      "Epoch 185/200\n",
      "25/25 [==============================] - 0s 5ms/step - loss: 0.4504 - accuracy: 0.5496\n",
      "Epoch 186/200\n",
      "25/25 [==============================] - 0s 3ms/step - loss: 0.4504 - accuracy: 0.5496\n",
      "Epoch 187/200\n",
      "25/25 [==============================] - 0s 3ms/step - loss: 0.4504 - accuracy: 0.5496\n",
      "Epoch 188/200\n",
      "25/25 [==============================] - 0s 3ms/step - loss: 0.4504 - accuracy: 0.5496\n",
      "Epoch 189/200\n",
      "25/25 [==============================] - 0s 3ms/step - loss: 0.4504 - accuracy: 0.5496\n",
      "Epoch 190/200\n",
      "25/25 [==============================] - 0s 3ms/step - loss: 0.4504 - accuracy: 0.5496\n",
      "Epoch 191/200\n",
      "25/25 [==============================] - 0s 3ms/step - loss: 0.4504 - accuracy: 0.5496\n",
      "Epoch 192/200\n",
      "25/25 [==============================] - 0s 3ms/step - loss: 0.4504 - accuracy: 0.5496\n",
      "Epoch 193/200\n",
      "25/25 [==============================] - 0s 4ms/step - loss: 0.4504 - accuracy: 0.5496\n",
      "Epoch 194/200\n",
      "25/25 [==============================] - 0s 3ms/step - loss: 0.4504 - accuracy: 0.5496\n",
      "Epoch 195/200\n",
      "25/25 [==============================] - 0s 4ms/step - loss: 0.4504 - accuracy: 0.5496\n",
      "Epoch 196/200\n",
      "25/25 [==============================] - 0s 3ms/step - loss: 0.4504 - accuracy: 0.5496\n",
      "Epoch 197/200\n",
      "25/25 [==============================] - 0s 4ms/step - loss: 0.4504 - accuracy: 0.5496\n",
      "Epoch 198/200\n",
      "25/25 [==============================] - 0s 4ms/step - loss: 0.4504 - accuracy: 0.5496\n",
      "Epoch 199/200\n",
      "25/25 [==============================] - 0s 3ms/step - loss: 0.4504 - accuracy: 0.5496\n",
      "Epoch 200/200\n",
      "25/25 [==============================] - 0s 3ms/step - loss: 0.4504 - accuracy: 0.5496\n"
     ]
    },
    {
     "data": {
      "text/plain": [
       "<keras.callbacks.History at 0x21ba1d97580>"
      ]
     },
     "execution_count": 19,
     "metadata": {},
     "output_type": "execute_result"
    }
   ],
   "source": [
    "model.compile(loss = 'mse', optimizer = optimizer, metrics=['accuracy'])\n",
    "model.fit(X_train, y_train, epochs =200, batch_size=10, verbose=1)"
   ]
  },
  {
   "cell_type": "code",
   "execution_count": 20,
   "metadata": {
    "colab": {
     "base_uri": "https://localhost:8080/"
    },
    "id": "5N-OBdzPW5xz",
    "outputId": "ca7865bc-63e4-4161-e556-d9072351c30e"
   },
   "outputs": [
    {
     "name": "stdout",
     "output_type": "stream",
     "text": [
      "2/2 [==============================] - 0s 7ms/step - loss: 0.4754 - accuracy: 0.5246\n"
     ]
    },
    {
     "data": {
      "text/plain": [
       "[0.4754098355770111, 0.5245901346206665]"
      ]
     },
     "execution_count": 20,
     "metadata": {},
     "output_type": "execute_result"
    }
   ],
   "source": [
    "model.evaluate(X_test,y_test)"
   ]
  },
  {
   "cell_type": "markdown",
   "metadata": {
    "id": "A6z9pMCYXvDa"
   },
   "source": [
    "### 7. Save the trained model in a variable, such as, history. Also, you can split your training data for validation such as 20% of training data"
   ]
  },
  {
   "cell_type": "code",
   "execution_count": 21,
   "metadata": {
    "colab": {
     "base_uri": "https://localhost:8080/"
    },
    "id": "fvL19sBJYD_O",
    "outputId": "5a5f082d-0cf4-4c68-ff62-c01b4bda7ad5"
   },
   "outputs": [
    {
     "name": "stdout",
     "output_type": "stream",
     "text": [
      "Epoch 1/100\n",
      "20/20 [==============================] - 0s 22ms/step - loss: 0.4560 - accuracy: 0.5440 - val_loss: 0.4286 - val_accuracy: 0.5714\n",
      "Epoch 2/100\n",
      "20/20 [==============================] - 0s 11ms/step - loss: 0.4560 - accuracy: 0.5440 - val_loss: 0.4286 - val_accuracy: 0.5714\n",
      "Epoch 3/100\n",
      "20/20 [==============================] - 0s 8ms/step - loss: 0.4560 - accuracy: 0.5440 - val_loss: 0.4286 - val_accuracy: 0.5714\n",
      "Epoch 4/100\n",
      "20/20 [==============================] - 0s 12ms/step - loss: 0.4560 - accuracy: 0.5440 - val_loss: 0.4286 - val_accuracy: 0.5714\n",
      "Epoch 5/100\n",
      "20/20 [==============================] - 0s 8ms/step - loss: 0.4560 - accuracy: 0.5440 - val_loss: 0.4286 - val_accuracy: 0.5714\n",
      "Epoch 6/100\n",
      "20/20 [==============================] - 0s 12ms/step - loss: 0.4560 - accuracy: 0.5440 - val_loss: 0.4286 - val_accuracy: 0.5714\n",
      "Epoch 7/100\n",
      "20/20 [==============================] - 0s 8ms/step - loss: 0.4560 - accuracy: 0.5440 - val_loss: 0.4286 - val_accuracy: 0.5714\n",
      "Epoch 8/100\n",
      "20/20 [==============================] - 0s 7ms/step - loss: 0.4560 - accuracy: 0.5440 - val_loss: 0.4286 - val_accuracy: 0.5714\n",
      "Epoch 9/100\n",
      "20/20 [==============================] - 0s 11ms/step - loss: 0.4560 - accuracy: 0.5440 - val_loss: 0.4286 - val_accuracy: 0.5714\n",
      "Epoch 10/100\n",
      "20/20 [==============================] - 0s 9ms/step - loss: 0.4560 - accuracy: 0.5440 - val_loss: 0.4286 - val_accuracy: 0.5714\n",
      "Epoch 11/100\n",
      "20/20 [==============================] - 0s 10ms/step - loss: 0.4560 - accuracy: 0.5440 - val_loss: 0.4286 - val_accuracy: 0.5714\n",
      "Epoch 12/100\n",
      "20/20 [==============================] - 0s 10ms/step - loss: 0.4560 - accuracy: 0.5440 - val_loss: 0.4286 - val_accuracy: 0.5714\n",
      "Epoch 13/100\n",
      "20/20 [==============================] - 0s 8ms/step - loss: 0.4560 - accuracy: 0.5440 - val_loss: 0.4286 - val_accuracy: 0.5714\n",
      "Epoch 14/100\n",
      "20/20 [==============================] - 0s 8ms/step - loss: 0.4560 - accuracy: 0.5440 - val_loss: 0.4286 - val_accuracy: 0.5714\n",
      "Epoch 15/100\n",
      "20/20 [==============================] - 0s 11ms/step - loss: 0.4560 - accuracy: 0.5440 - val_loss: 0.4286 - val_accuracy: 0.5714\n",
      "Epoch 16/100\n",
      "20/20 [==============================] - 0s 8ms/step - loss: 0.4560 - accuracy: 0.5440 - val_loss: 0.4286 - val_accuracy: 0.5714\n",
      "Epoch 17/100\n",
      "20/20 [==============================] - 0s 8ms/step - loss: 0.4560 - accuracy: 0.5440 - val_loss: 0.4286 - val_accuracy: 0.5714\n",
      "Epoch 18/100\n",
      "20/20 [==============================] - 0s 9ms/step - loss: 0.4560 - accuracy: 0.5440 - val_loss: 0.4286 - val_accuracy: 0.5714\n",
      "Epoch 19/100\n",
      "20/20 [==============================] - 0s 9ms/step - loss: 0.4560 - accuracy: 0.5440 - val_loss: 0.4286 - val_accuracy: 0.5714\n",
      "Epoch 20/100\n",
      "20/20 [==============================] - 0s 10ms/step - loss: 0.4560 - accuracy: 0.5440 - val_loss: 0.4286 - val_accuracy: 0.5714\n",
      "Epoch 21/100\n",
      "20/20 [==============================] - 0s 8ms/step - loss: 0.4560 - accuracy: 0.5440 - val_loss: 0.4286 - val_accuracy: 0.5714\n",
      "Epoch 22/100\n",
      "20/20 [==============================] - 0s 8ms/step - loss: 0.4560 - accuracy: 0.5440 - val_loss: 0.4286 - val_accuracy: 0.5714\n",
      "Epoch 23/100\n",
      "20/20 [==============================] - 0s 10ms/step - loss: 0.4560 - accuracy: 0.5440 - val_loss: 0.4286 - val_accuracy: 0.5714\n",
      "Epoch 24/100\n",
      "20/20 [==============================] - 0s 17ms/step - loss: 0.4560 - accuracy: 0.5440 - val_loss: 0.4286 - val_accuracy: 0.5714\n",
      "Epoch 25/100\n",
      "20/20 [==============================] - 0s 6ms/step - loss: 0.4560 - accuracy: 0.5440 - val_loss: 0.4286 - val_accuracy: 0.5714\n",
      "Epoch 26/100\n",
      "20/20 [==============================] - 0s 6ms/step - loss: 0.4560 - accuracy: 0.5440 - val_loss: 0.4286 - val_accuracy: 0.5714\n",
      "Epoch 27/100\n",
      "20/20 [==============================] - 0s 7ms/step - loss: 0.4560 - accuracy: 0.5440 - val_loss: 0.4286 - val_accuracy: 0.5714\n",
      "Epoch 28/100\n",
      "20/20 [==============================] - 0s 7ms/step - loss: 0.4560 - accuracy: 0.5440 - val_loss: 0.4286 - val_accuracy: 0.5714\n",
      "Epoch 29/100\n",
      "20/20 [==============================] - 0s 8ms/step - loss: 0.4560 - accuracy: 0.5440 - val_loss: 0.4286 - val_accuracy: 0.5714\n",
      "Epoch 30/100\n",
      "20/20 [==============================] - 0s 7ms/step - loss: 0.4560 - accuracy: 0.5440 - val_loss: 0.4286 - val_accuracy: 0.5714\n",
      "Epoch 31/100\n",
      "20/20 [==============================] - 0s 8ms/step - loss: 0.4560 - accuracy: 0.5440 - val_loss: 0.4286 - val_accuracy: 0.5714\n",
      "Epoch 32/100\n",
      "20/20 [==============================] - 0s 8ms/step - loss: 0.4560 - accuracy: 0.5440 - val_loss: 0.4286 - val_accuracy: 0.5714\n",
      "Epoch 33/100\n",
      "20/20 [==============================] - 0s 7ms/step - loss: 0.4560 - accuracy: 0.5440 - val_loss: 0.4286 - val_accuracy: 0.5714\n",
      "Epoch 34/100\n",
      "20/20 [==============================] - 0s 7ms/step - loss: 0.4560 - accuracy: 0.5440 - val_loss: 0.4286 - val_accuracy: 0.5714\n",
      "Epoch 35/100\n",
      "20/20 [==============================] - 0s 7ms/step - loss: 0.4560 - accuracy: 0.5440 - val_loss: 0.4286 - val_accuracy: 0.5714\n",
      "Epoch 36/100\n",
      "20/20 [==============================] - 0s 7ms/step - loss: 0.4560 - accuracy: 0.5440 - val_loss: 0.4286 - val_accuracy: 0.5714\n",
      "Epoch 37/100\n",
      "20/20 [==============================] - 0s 6ms/step - loss: 0.4560 - accuracy: 0.5440 - val_loss: 0.4286 - val_accuracy: 0.5714\n",
      "Epoch 38/100\n",
      "20/20 [==============================] - 0s 7ms/step - loss: 0.4560 - accuracy: 0.5440 - val_loss: 0.4286 - val_accuracy: 0.5714\n",
      "Epoch 39/100\n",
      "20/20 [==============================] - 0s 7ms/step - loss: 0.4560 - accuracy: 0.5440 - val_loss: 0.4286 - val_accuracy: 0.5714\n",
      "Epoch 40/100\n",
      "20/20 [==============================] - 0s 7ms/step - loss: 0.4560 - accuracy: 0.5440 - val_loss: 0.4286 - val_accuracy: 0.5714\n",
      "Epoch 41/100\n",
      "20/20 [==============================] - 0s 7ms/step - loss: 0.4560 - accuracy: 0.5440 - val_loss: 0.4286 - val_accuracy: 0.5714\n",
      "Epoch 42/100\n",
      "20/20 [==============================] - 0s 6ms/step - loss: 0.4560 - accuracy: 0.5440 - val_loss: 0.4286 - val_accuracy: 0.5714\n",
      "Epoch 43/100\n",
      "20/20 [==============================] - 0s 8ms/step - loss: 0.4560 - accuracy: 0.5440 - val_loss: 0.4286 - val_accuracy: 0.5714\n",
      "Epoch 44/100\n",
      "20/20 [==============================] - 0s 17ms/step - loss: 0.4560 - accuracy: 0.5440 - val_loss: 0.4286 - val_accuracy: 0.5714\n",
      "Epoch 45/100\n",
      "20/20 [==============================] - 0s 12ms/step - loss: 0.4560 - accuracy: 0.5440 - val_loss: 0.4286 - val_accuracy: 0.5714\n",
      "Epoch 46/100\n",
      "20/20 [==============================] - 0s 8ms/step - loss: 0.4560 - accuracy: 0.5440 - val_loss: 0.4286 - val_accuracy: 0.5714\n",
      "Epoch 47/100\n",
      "20/20 [==============================] - 0s 8ms/step - loss: 0.4560 - accuracy: 0.5440 - val_loss: 0.4286 - val_accuracy: 0.5714\n",
      "Epoch 48/100\n",
      "20/20 [==============================] - 0s 8ms/step - loss: 0.4560 - accuracy: 0.5440 - val_loss: 0.4286 - val_accuracy: 0.5714\n",
      "Epoch 49/100\n",
      "20/20 [==============================] - 0s 7ms/step - loss: 0.4560 - accuracy: 0.5440 - val_loss: 0.4286 - val_accuracy: 0.5714\n",
      "Epoch 50/100\n",
      "20/20 [==============================] - 0s 9ms/step - loss: 0.4560 - accuracy: 0.5440 - val_loss: 0.4286 - val_accuracy: 0.5714\n",
      "Epoch 51/100\n",
      "20/20 [==============================] - 0s 14ms/step - loss: 0.4560 - accuracy: 0.5440 - val_loss: 0.4286 - val_accuracy: 0.5714\n",
      "Epoch 52/100\n",
      "20/20 [==============================] - 0s 6ms/step - loss: 0.4560 - accuracy: 0.5440 - val_loss: 0.4286 - val_accuracy: 0.5714\n",
      "Epoch 53/100\n",
      "20/20 [==============================] - 0s 4ms/step - loss: 0.4560 - accuracy: 0.5440 - val_loss: 0.4286 - val_accuracy: 0.5714\n",
      "Epoch 54/100\n",
      "20/20 [==============================] - 0s 7ms/step - loss: 0.4560 - accuracy: 0.5440 - val_loss: 0.4286 - val_accuracy: 0.5714\n",
      "Epoch 55/100\n",
      "20/20 [==============================] - 0s 10ms/step - loss: 0.4560 - accuracy: 0.5440 - val_loss: 0.4286 - val_accuracy: 0.5714\n",
      "Epoch 56/100\n",
      "20/20 [==============================] - 0s 12ms/step - loss: 0.4560 - accuracy: 0.5440 - val_loss: 0.4286 - val_accuracy: 0.5714\n",
      "Epoch 57/100\n",
      "20/20 [==============================] - 0s 7ms/step - loss: 0.4560 - accuracy: 0.5440 - val_loss: 0.4286 - val_accuracy: 0.5714\n",
      "Epoch 58/100\n",
      "20/20 [==============================] - 0s 7ms/step - loss: 0.4560 - accuracy: 0.5440 - val_loss: 0.4286 - val_accuracy: 0.5714\n",
      "Epoch 59/100\n",
      "20/20 [==============================] - 0s 7ms/step - loss: 0.4560 - accuracy: 0.5440 - val_loss: 0.4286 - val_accuracy: 0.5714\n",
      "Epoch 60/100\n",
      "20/20 [==============================] - 0s 7ms/step - loss: 0.4560 - accuracy: 0.5440 - val_loss: 0.4286 - val_accuracy: 0.5714\n",
      "Epoch 61/100\n",
      "20/20 [==============================] - 0s 7ms/step - loss: 0.4560 - accuracy: 0.5440 - val_loss: 0.4286 - val_accuracy: 0.5714\n",
      "Epoch 62/100\n",
      "20/20 [==============================] - 0s 7ms/step - loss: 0.4560 - accuracy: 0.5440 - val_loss: 0.4286 - val_accuracy: 0.5714\n",
      "Epoch 63/100\n",
      "20/20 [==============================] - 0s 8ms/step - loss: 0.4560 - accuracy: 0.5440 - val_loss: 0.4286 - val_accuracy: 0.5714\n",
      "Epoch 64/100\n",
      "20/20 [==============================] - 0s 7ms/step - loss: 0.4560 - accuracy: 0.5440 - val_loss: 0.4286 - val_accuracy: 0.5714\n",
      "Epoch 65/100\n",
      "20/20 [==============================] - 0s 8ms/step - loss: 0.4560 - accuracy: 0.5440 - val_loss: 0.4286 - val_accuracy: 0.5714\n",
      "Epoch 66/100\n",
      "20/20 [==============================] - 0s 11ms/step - loss: 0.4560 - accuracy: 0.5440 - val_loss: 0.4286 - val_accuracy: 0.5714\n",
      "Epoch 67/100\n",
      "20/20 [==============================] - 0s 9ms/step - loss: 0.4560 - accuracy: 0.5440 - val_loss: 0.4286 - val_accuracy: 0.5714\n",
      "Epoch 68/100\n",
      "20/20 [==============================] - 0s 7ms/step - loss: 0.4560 - accuracy: 0.5440 - val_loss: 0.4286 - val_accuracy: 0.5714\n",
      "Epoch 69/100\n",
      "20/20 [==============================] - 0s 7ms/step - loss: 0.4560 - accuracy: 0.5440 - val_loss: 0.4286 - val_accuracy: 0.5714\n",
      "Epoch 70/100\n",
      "20/20 [==============================] - 0s 10ms/step - loss: 0.4560 - accuracy: 0.5440 - val_loss: 0.4286 - val_accuracy: 0.5714\n",
      "Epoch 71/100\n",
      "20/20 [==============================] - 0s 10ms/step - loss: 0.4560 - accuracy: 0.5440 - val_loss: 0.4286 - val_accuracy: 0.5714\n",
      "Epoch 72/100\n",
      "20/20 [==============================] - 0s 9ms/step - loss: 0.4560 - accuracy: 0.5440 - val_loss: 0.4286 - val_accuracy: 0.5714\n",
      "Epoch 73/100\n",
      "20/20 [==============================] - 0s 10ms/step - loss: 0.4560 - accuracy: 0.5440 - val_loss: 0.4286 - val_accuracy: 0.5714\n",
      "Epoch 74/100\n",
      "20/20 [==============================] - 0s 9ms/step - loss: 0.4560 - accuracy: 0.5440 - val_loss: 0.4286 - val_accuracy: 0.5714\n",
      "Epoch 75/100\n",
      "20/20 [==============================] - 0s 10ms/step - loss: 0.4560 - accuracy: 0.5440 - val_loss: 0.4286 - val_accuracy: 0.5714\n",
      "Epoch 76/100\n",
      "20/20 [==============================] - 0s 10ms/step - loss: 0.4560 - accuracy: 0.5440 - val_loss: 0.4286 - val_accuracy: 0.5714\n",
      "Epoch 77/100\n",
      "20/20 [==============================] - 0s 9ms/step - loss: 0.4560 - accuracy: 0.5440 - val_loss: 0.4286 - val_accuracy: 0.5714\n",
      "Epoch 78/100\n",
      "20/20 [==============================] - 0s 8ms/step - loss: 0.4560 - accuracy: 0.5440 - val_loss: 0.4286 - val_accuracy: 0.5714\n",
      "Epoch 79/100\n",
      "20/20 [==============================] - 0s 7ms/step - loss: 0.4560 - accuracy: 0.5440 - val_loss: 0.4286 - val_accuracy: 0.5714\n",
      "Epoch 80/100\n",
      "20/20 [==============================] - 0s 8ms/step - loss: 0.4560 - accuracy: 0.5440 - val_loss: 0.4286 - val_accuracy: 0.5714\n",
      "Epoch 81/100\n",
      "20/20 [==============================] - 0s 7ms/step - loss: 0.4560 - accuracy: 0.5440 - val_loss: 0.4286 - val_accuracy: 0.5714\n",
      "Epoch 82/100\n",
      "20/20 [==============================] - 0s 8ms/step - loss: 0.4560 - accuracy: 0.5440 - val_loss: 0.4286 - val_accuracy: 0.5714\n",
      "Epoch 83/100\n",
      "20/20 [==============================] - 0s 8ms/step - loss: 0.4560 - accuracy: 0.5440 - val_loss: 0.4286 - val_accuracy: 0.5714\n",
      "Epoch 84/100\n",
      "20/20 [==============================] - 0s 7ms/step - loss: 0.4560 - accuracy: 0.5440 - val_loss: 0.4286 - val_accuracy: 0.5714\n",
      "Epoch 85/100\n",
      "20/20 [==============================] - 0s 19ms/step - loss: 0.4560 - accuracy: 0.5440 - val_loss: 0.4286 - val_accuracy: 0.5714\n",
      "Epoch 86/100\n",
      "20/20 [==============================] - 0s 6ms/step - loss: 0.4560 - accuracy: 0.5440 - val_loss: 0.4286 - val_accuracy: 0.5714\n",
      "Epoch 87/100\n",
      "20/20 [==============================] - 0s 4ms/step - loss: 0.4560 - accuracy: 0.5440 - val_loss: 0.4286 - val_accuracy: 0.5714\n",
      "Epoch 88/100\n",
      "20/20 [==============================] - 0s 7ms/step - loss: 0.4560 - accuracy: 0.5440 - val_loss: 0.4286 - val_accuracy: 0.5714\n",
      "Epoch 89/100\n",
      "20/20 [==============================] - 0s 7ms/step - loss: 0.4560 - accuracy: 0.5440 - val_loss: 0.4286 - val_accuracy: 0.5714\n",
      "Epoch 90/100\n",
      "20/20 [==============================] - 0s 8ms/step - loss: 0.4560 - accuracy: 0.5440 - val_loss: 0.4286 - val_accuracy: 0.5714\n",
      "Epoch 91/100\n",
      "20/20 [==============================] - 0s 7ms/step - loss: 0.4560 - accuracy: 0.5440 - val_loss: 0.4286 - val_accuracy: 0.5714\n",
      "Epoch 92/100\n",
      "20/20 [==============================] - 0s 6ms/step - loss: 0.4560 - accuracy: 0.5440 - val_loss: 0.4286 - val_accuracy: 0.5714\n",
      "Epoch 93/100\n",
      "20/20 [==============================] - 0s 7ms/step - loss: 0.4560 - accuracy: 0.5440 - val_loss: 0.4286 - val_accuracy: 0.5714\n",
      "Epoch 94/100\n",
      "20/20 [==============================] - 0s 7ms/step - loss: 0.4560 - accuracy: 0.5440 - val_loss: 0.4286 - val_accuracy: 0.5714\n",
      "Epoch 95/100\n",
      "20/20 [==============================] - 0s 7ms/step - loss: 0.4560 - accuracy: 0.5440 - val_loss: 0.4286 - val_accuracy: 0.5714\n",
      "Epoch 96/100\n",
      "20/20 [==============================] - 0s 7ms/step - loss: 0.4560 - accuracy: 0.5440 - val_loss: 0.4286 - val_accuracy: 0.5714\n",
      "Epoch 97/100\n",
      "20/20 [==============================] - 0s 7ms/step - loss: 0.4560 - accuracy: 0.5440 - val_loss: 0.4286 - val_accuracy: 0.5714\n",
      "Epoch 98/100\n",
      "20/20 [==============================] - 0s 7ms/step - loss: 0.4560 - accuracy: 0.5440 - val_loss: 0.4286 - val_accuracy: 0.5714\n",
      "Epoch 99/100\n",
      "20/20 [==============================] - 0s 7ms/step - loss: 0.4560 - accuracy: 0.5440 - val_loss: 0.4286 - val_accuracy: 0.5714\n",
      "Epoch 100/100\n",
      "20/20 [==============================] - 0s 7ms/step - loss: 0.4560 - accuracy: 0.5440 - val_loss: 0.4286 - val_accuracy: 0.5714\n"
     ]
    }
   ],
   "source": [
    "history= model.fit(X_train,y_train,validation_split =0.2,epochs=100, batch_size =10, verbose=1)"
   ]
  },
  {
   "cell_type": "markdown",
   "metadata": {
    "id": "HgQmSv8TZqAj"
   },
   "source": [
    "### 8. Evaluate the trained model to predict the probability values for the test data set (ie., xtest and ytest)"
   ]
  },
  {
   "cell_type": "code",
   "execution_count": 22,
   "metadata": {
    "colab": {
     "base_uri": "https://localhost:8080/"
    },
    "id": "gulBtslTYEzt",
    "outputId": "4b6070fd-d28d-4523-9177-1bf5be35a468"
   },
   "outputs": [
    {
     "name": "stdout",
     "output_type": "stream",
     "text": [
      "2/2 [==============================] - 0s 14ms/step - loss: 0.4754 - accuracy: 0.5246\n"
     ]
    },
    {
     "data": {
      "text/plain": [
       "[0.4754098355770111, 0.5245901346206665]"
      ]
     },
     "execution_count": 22,
     "metadata": {},
     "output_type": "execute_result"
    }
   ],
   "source": [
    "model.evaluate(X_test, y_test)"
   ]
  },
  {
   "cell_type": "markdown",
   "metadata": {
    "id": "9RZsLW-UZm89"
   },
   "source": [
    "### 9. Print the model accuracy and model loss as below (Use can use the ‘history’ object we have saved). Sample code is given below."
   ]
  },
  {
   "cell_type": "code",
   "execution_count": 23,
   "metadata": {
    "colab": {
     "base_uri": "https://localhost:8080/"
    },
    "id": "8DApiCSWZtfq",
    "outputId": "bc7c634a-954c-4c36-c215-75f9b6a1943a"
   },
   "outputs": [
    {
     "data": {
      "text/plain": [
       "dict_keys(['loss', 'accuracy', 'val_loss', 'val_accuracy'])"
      ]
     },
     "execution_count": 23,
     "metadata": {},
     "output_type": "execute_result"
    }
   ],
   "source": [
    "history.history.keys()"
   ]
  },
  {
   "cell_type": "code",
   "execution_count": 24,
   "metadata": {
    "colab": {
     "base_uri": "https://localhost:8080/",
     "height": 573
    },
    "id": "OSeXcMoRZuG0",
    "outputId": "cb9a60ab-6329-4606-edd6-efc58d207021"
   },
   "outputs": [
    {
     "data": {
      "image/png": "[encoded data removed]",
      "text/plain": [
       "<Figure size 432x288 with 1 Axes>"
      ]
     },
     "metadata": {
      "needs_background": "light"
     },
     "output_type": "display_data"
    },
    {
     "data": {
      "image/png": "[encoded data removed]",
      "text/plain": [
       "<Figure size 432x288 with 1 Axes>"
      ]
     },
     "metadata": {
      "needs_background": "light"
     },
     "output_type": "display_data"
    }
   ],
   "source": [
    "plt.plot(history.history['accuracy'])\n",
    "plt.plot(history.history['val_accuracy'])\n",
    "plt.title('Model Accuracy')\n",
    "plt.ylabel('accuracy')\n",
    "plt.xlabel('epoch')\n",
    "plt.legend(['Train', 'Validation'])\n",
    "plt.show()\n",
    "plt.plot(history.history['loss'])\n",
    "plt.plot(history.history['val_loss'])\n",
    "plt.title('Model Loss')\n",
    "plt.ylabel('loss')\n",
    "plt.xlabel('epoch')\n",
    "plt.legend(['Train', 'Validation'])\n",
    "plt.show()"
   ]
  },
  {
   "cell_type": "markdown",
   "metadata": {
    "id": "n8sRsHwdZuP2"
   },
   "source": [
    "### 10. Do further experiments"
   ]
  },
  {
   "cell_type": "code",
   "execution_count": 25,
   "metadata": {
    "id": "bzh3zZZZZugz"
   },
   "outputs": [],
   "source": [
    "model1 = Sequential()\n",
    "model1.add(Dense(16, input_dim=13, activation='relu'))\n",
    "model1.add(Dense(8, activation='relu'))\n",
    "model1.add(Dense(1, activation='sigmoid'))"
   ]
  },
  {
   "cell_type": "code",
   "execution_count": 26,
   "metadata": {
    "colab": {
     "base_uri": "https://localhost:8080/"
    },
    "id": "2sgL6lAJatEG",
    "outputId": "de47d965-277c-462f-c093-183b78b22ac5"
   },
   "outputs": [
    {
     "name": "stdout",
     "output_type": "stream",
     "text": [
      "Epoch 1/10\n",
      "9/9 [==============================] - 1s 4ms/step - loss: 0.4204 - accuracy: 0.5620\n",
      "Epoch 2/10\n",
      "9/9 [==============================] - 0s 5ms/step - loss: 0.2509 - accuracy: 0.6405\n",
      "Epoch 3/10\n",
      "9/9 [==============================] - 0s 4ms/step - loss: 0.2641 - accuracy: 0.6198\n",
      "Epoch 4/10\n",
      "9/9 [==============================] - 0s 5ms/step - loss: 0.2717 - accuracy: 0.6198\n",
      "Epoch 5/10\n",
      "9/9 [==============================] - 0s 4ms/step - loss: 0.3000 - accuracy: 0.6198\n",
      "Epoch 6/10\n",
      "9/9 [==============================] - 0s 6ms/step - loss: 0.2728 - accuracy: 0.6322\n",
      "Epoch 7/10\n",
      "9/9 [==============================] - 0s 6ms/step - loss: 0.2662 - accuracy: 0.6281\n",
      "Epoch 8/10\n",
      "9/9 [==============================] - 0s 4ms/step - loss: 0.2245 - accuracy: 0.7066\n",
      "Epoch 9/10\n",
      "9/9 [==============================] - 0s 5ms/step - loss: 0.2486 - accuracy: 0.6405\n",
      "Epoch 10/10\n",
      "9/9 [==============================] - 0s 6ms/step - loss: 0.2487 - accuracy: 0.6240\n"
     ]
    },
    {
     "data": {
      "text/plain": [
       "<keras.callbacks.History at 0x21ba47f0190>"
      ]
     },
     "execution_count": 26,
     "metadata": {},
     "output_type": "execute_result"
    }
   ],
   "source": [
    "model1.compile(loss='mse', optimizer=optimizer, metrics=['accuracy'])\n",
    "model1.fit(X_train, y_train, epochs=10, batch_size=30, verbose=1)"
   ]
  },
  {
   "cell_type": "code",
   "execution_count": 27,
   "metadata": {
    "colab": {
     "base_uri": "https://localhost:8080/"
    },
    "id": "h-NUFClTauLD",
    "outputId": "17e80d37-4c63-4345-9ac2-0147c75cd9f8"
   },
   "outputs": [
    {
     "name": "stdout",
     "output_type": "stream",
     "text": [
      "2/2 [==============================] - 0s 7ms/step - loss: 0.3772 - accuracy: 0.5246\n"
     ]
    },
    {
     "data": {
      "text/plain": [
       "[0.3771623969078064, 0.5245901346206665]"
      ]
     },
     "execution_count": 27,
     "metadata": {},
     "output_type": "execute_result"
    }
   ],
   "source": [
    "model1.evaluate(X_test, y_test)"
   ]
  },
  {
   "cell_type": "code",
   "execution_count": 28,
   "metadata": {
    "colab": {
     "base_uri": "https://localhost:8080/"
    },
    "id": "DZRTisuOaw8F",
    "outputId": "bef383fc-1dd6-48cc-adf4-5899206cdba8"
   },
   "outputs": [
    {
     "name": "stdout",
     "output_type": "stream",
     "text": [
      "Epoch 1/100\n",
      "20/20 [==============================] - 0s 15ms/step - loss: 0.4560 - accuracy: 0.5440 - val_loss: 0.4286 - val_accuracy: 0.5714\n",
      "Epoch 2/100\n",
      "20/20 [==============================] - 0s 15ms/step - loss: 0.4560 - accuracy: 0.5440 - val_loss: 0.4286 - val_accuracy: 0.5714\n",
      "Epoch 3/100\n",
      "20/20 [==============================] - 0s 7ms/step - loss: 0.4560 - accuracy: 0.5440 - val_loss: 0.4286 - val_accuracy: 0.5714\n",
      "Epoch 4/100\n",
      "20/20 [==============================] - 0s 6ms/step - loss: 0.4560 - accuracy: 0.5440 - val_loss: 0.4286 - val_accuracy: 0.5714\n",
      "Epoch 5/100\n",
      "20/20 [==============================] - 0s 7ms/step - loss: 0.4560 - accuracy: 0.5440 - val_loss: 0.4286 - val_accuracy: 0.5714\n",
      "Epoch 6/100\n",
      "20/20 [==============================] - 0s 7ms/step - loss: 0.4560 - accuracy: 0.5440 - val_loss: 0.4286 - val_accuracy: 0.5714\n",
      "Epoch 7/100\n",
      "20/20 [==============================] - 0s 7ms/step - loss: 0.4560 - accuracy: 0.5440 - val_loss: 0.4286 - val_accuracy: 0.5714\n",
      "Epoch 8/100\n",
      "20/20 [==============================] - 0s 7ms/step - loss: 0.4560 - accuracy: 0.5440 - val_loss: 0.4286 - val_accuracy: 0.5714\n",
      "Epoch 9/100\n",
      "20/20 [==============================] - 0s 7ms/step - loss: 0.4560 - accuracy: 0.5440 - val_loss: 0.4286 - val_accuracy: 0.5714\n",
      "Epoch 10/100\n",
      "20/20 [==============================] - 0s 7ms/step - loss: 0.4560 - accuracy: 0.5440 - val_loss: 0.4286 - val_accuracy: 0.5714\n",
      "Epoch 11/100\n",
      "20/20 [==============================] - 0s 7ms/step - loss: 0.4560 - accuracy: 0.5440 - val_loss: 0.4286 - val_accuracy: 0.5714\n",
      "Epoch 12/100\n",
      "20/20 [==============================] - 0s 7ms/step - loss: 0.4560 - accuracy: 0.5440 - val_loss: 0.4286 - val_accuracy: 0.5714\n",
      "Epoch 13/100\n",
      "20/20 [==============================] - 0s 7ms/step - loss: 0.4560 - accuracy: 0.5440 - val_loss: 0.4286 - val_accuracy: 0.5714\n",
      "Epoch 14/100\n",
      "20/20 [==============================] - 0s 7ms/step - loss: 0.4560 - accuracy: 0.5440 - val_loss: 0.4286 - val_accuracy: 0.5714\n",
      "Epoch 15/100\n",
      "20/20 [==============================] - 0s 7ms/step - loss: 0.4560 - accuracy: 0.5440 - val_loss: 0.4286 - val_accuracy: 0.5714\n",
      "Epoch 16/100\n",
      "20/20 [==============================] - 0s 7ms/step - loss: 0.4560 - accuracy: 0.5440 - val_loss: 0.4286 - val_accuracy: 0.5714\n",
      "Epoch 17/100\n",
      "20/20 [==============================] - 0s 8ms/step - loss: 0.4560 - accuracy: 0.5440 - val_loss: 0.4286 - val_accuracy: 0.5714\n",
      "Epoch 18/100\n",
      "20/20 [==============================] - 0s 7ms/step - loss: 0.4560 - accuracy: 0.5440 - val_loss: 0.4286 - val_accuracy: 0.5714\n",
      "Epoch 19/100\n",
      "20/20 [==============================] - 0s 6ms/step - loss: 0.4560 - accuracy: 0.5440 - val_loss: 0.4286 - val_accuracy: 0.5714\n",
      "Epoch 20/100\n",
      "20/20 [==============================] - 0s 7ms/step - loss: 0.4560 - accuracy: 0.5440 - val_loss: 0.4286 - val_accuracy: 0.5714\n",
      "Epoch 21/100\n",
      "20/20 [==============================] - 0s 7ms/step - loss: 0.4560 - accuracy: 0.5440 - val_loss: 0.4286 - val_accuracy: 0.5714\n",
      "Epoch 22/100\n",
      "20/20 [==============================] - 0s 7ms/step - loss: 0.4560 - accuracy: 0.5440 - val_loss: 0.4286 - val_accuracy: 0.5714\n",
      "Epoch 23/100\n",
      "20/20 [==============================] - 0s 7ms/step - loss: 0.4560 - accuracy: 0.5440 - val_loss: 0.4286 - val_accuracy: 0.5714\n",
      "Epoch 24/100\n",
      "20/20 [==============================] - 0s 7ms/step - loss: 0.4560 - accuracy: 0.5440 - val_loss: 0.4286 - val_accuracy: 0.5714\n",
      "Epoch 25/100\n",
      "20/20 [==============================] - 0s 7ms/step - loss: 0.4560 - accuracy: 0.5440 - val_loss: 0.4286 - val_accuracy: 0.5714\n",
      "Epoch 26/100\n",
      "20/20 [==============================] - 0s 8ms/step - loss: 0.4560 - accuracy: 0.5440 - val_loss: 0.4286 - val_accuracy: 0.5714\n",
      "Epoch 27/100\n",
      "20/20 [==============================] - 0s 9ms/step - loss: 0.4560 - accuracy: 0.5440 - val_loss: 0.4286 - val_accuracy: 0.5714\n",
      "Epoch 28/100\n",
      "20/20 [==============================] - 0s 7ms/step - loss: 0.4560 - accuracy: 0.5440 - val_loss: 0.4286 - val_accuracy: 0.5714\n",
      "Epoch 29/100\n",
      "20/20 [==============================] - 0s 7ms/step - loss: 0.4560 - accuracy: 0.5440 - val_loss: 0.4286 - val_accuracy: 0.5714\n",
      "Epoch 30/100\n",
      "20/20 [==============================] - 0s 7ms/step - loss: 0.4560 - accuracy: 0.5440 - val_loss: 0.4286 - val_accuracy: 0.5714\n",
      "Epoch 31/100\n",
      "20/20 [==============================] - 0s 7ms/step - loss: 0.4560 - accuracy: 0.5440 - val_loss: 0.4286 - val_accuracy: 0.5714\n",
      "Epoch 32/100\n",
      "20/20 [==============================] - 0s 7ms/step - loss: 0.4560 - accuracy: 0.5440 - val_loss: 0.4286 - val_accuracy: 0.5714\n",
      "Epoch 33/100\n",
      "20/20 [==============================] - 0s 7ms/step - loss: 0.4560 - accuracy: 0.5440 - val_loss: 0.4286 - val_accuracy: 0.5714\n",
      "Epoch 34/100\n",
      "20/20 [==============================] - 0s 7ms/step - loss: 0.4560 - accuracy: 0.5440 - val_loss: 0.4286 - val_accuracy: 0.5714\n",
      "Epoch 35/100\n",
      "20/20 [==============================] - 0s 7ms/step - loss: 0.4560 - accuracy: 0.5440 - val_loss: 0.4286 - val_accuracy: 0.5714\n",
      "Epoch 36/100\n",
      "20/20 [==============================] - 0s 7ms/step - loss: 0.4560 - accuracy: 0.5440 - val_loss: 0.4286 - val_accuracy: 0.5714\n",
      "Epoch 37/100\n",
      "20/20 [==============================] - 0s 7ms/step - loss: 0.4560 - accuracy: 0.5440 - val_loss: 0.4286 - val_accuracy: 0.5714\n",
      "Epoch 38/100\n",
      "20/20 [==============================] - 0s 6ms/step - loss: 0.4560 - accuracy: 0.5440 - val_loss: 0.4286 - val_accuracy: 0.5714\n",
      "Epoch 39/100\n",
      "20/20 [==============================] - 0s 17ms/step - loss: 0.4560 - accuracy: 0.5440 - val_loss: 0.4286 - val_accuracy: 0.5714\n",
      "Epoch 40/100\n",
      "20/20 [==============================] - 0s 7ms/step - loss: 0.4560 - accuracy: 0.5440 - val_loss: 0.4286 - val_accuracy: 0.5714\n",
      "Epoch 41/100\n",
      "20/20 [==============================] - 0s 7ms/step - loss: 0.4560 - accuracy: 0.5440 - val_loss: 0.4286 - val_accuracy: 0.5714\n",
      "Epoch 42/100\n",
      "20/20 [==============================] - 0s 9ms/step - loss: 0.4560 - accuracy: 0.5440 - val_loss: 0.4286 - val_accuracy: 0.5714\n",
      "Epoch 43/100\n",
      "20/20 [==============================] - 0s 7ms/step - loss: 0.4560 - accuracy: 0.5440 - val_loss: 0.4286 - val_accuracy: 0.5714\n",
      "Epoch 44/100\n",
      "20/20 [==============================] - 0s 7ms/step - loss: 0.4560 - accuracy: 0.5440 - val_loss: 0.4286 - val_accuracy: 0.5714\n",
      "Epoch 45/100\n",
      "20/20 [==============================] - 0s 7ms/step - loss: 0.4560 - accuracy: 0.5440 - val_loss: 0.4286 - val_accuracy: 0.5714\n",
      "Epoch 46/100\n",
      "20/20 [==============================] - 0s 7ms/step - loss: 0.4560 - accuracy: 0.5440 - val_loss: 0.4286 - val_accuracy: 0.5714\n",
      "Epoch 47/100\n",
      "20/20 [==============================] - 0s 8ms/step - loss: 0.4560 - accuracy: 0.5440 - val_loss: 0.4286 - val_accuracy: 0.5714\n",
      "Epoch 48/100\n",
      "20/20 [==============================] - 0s 7ms/step - loss: 0.4560 - accuracy: 0.5440 - val_loss: 0.4286 - val_accuracy: 0.5714\n",
      "Epoch 49/100\n",
      "20/20 [==============================] - 0s 8ms/step - loss: 0.4560 - accuracy: 0.5440 - val_loss: 0.4286 - val_accuracy: 0.5714\n",
      "Epoch 50/100\n",
      "20/20 [==============================] - 0s 8ms/step - loss: 0.4560 - accuracy: 0.5440 - val_loss: 0.4286 - val_accuracy: 0.5714\n",
      "Epoch 51/100\n",
      "20/20 [==============================] - 0s 8ms/step - loss: 0.4560 - accuracy: 0.5440 - val_loss: 0.4286 - val_accuracy: 0.5714\n",
      "Epoch 52/100\n",
      "20/20 [==============================] - 0s 8ms/step - loss: 0.4560 - accuracy: 0.5440 - val_loss: 0.4286 - val_accuracy: 0.5714\n",
      "Epoch 53/100\n",
      "20/20 [==============================] - 0s 10ms/step - loss: 0.4560 - accuracy: 0.5440 - val_loss: 0.4286 - val_accuracy: 0.5714\n",
      "Epoch 54/100\n",
      "20/20 [==============================] - 0s 9ms/step - loss: 0.4560 - accuracy: 0.5440 - val_loss: 0.4286 - val_accuracy: 0.5714\n",
      "Epoch 55/100\n",
      "20/20 [==============================] - 0s 7ms/step - loss: 0.4560 - accuracy: 0.5440 - val_loss: 0.4286 - val_accuracy: 0.5714\n",
      "Epoch 56/100\n",
      "20/20 [==============================] - 0s 8ms/step - loss: 0.4560 - accuracy: 0.5440 - val_loss: 0.4286 - val_accuracy: 0.5714\n",
      "Epoch 57/100\n",
      "20/20 [==============================] - 0s 8ms/step - loss: 0.4560 - accuracy: 0.5440 - val_loss: 0.4286 - val_accuracy: 0.5714\n",
      "Epoch 58/100\n",
      "20/20 [==============================] - 0s 7ms/step - loss: 0.4560 - accuracy: 0.5440 - val_loss: 0.4286 - val_accuracy: 0.5714\n",
      "Epoch 59/100\n",
      "20/20 [==============================] - 0s 8ms/step - loss: 0.4560 - accuracy: 0.5440 - val_loss: 0.4286 - val_accuracy: 0.5714\n",
      "Epoch 60/100\n",
      "20/20 [==============================] - 0s 7ms/step - loss: 0.4560 - accuracy: 0.5440 - val_loss: 0.4286 - val_accuracy: 0.5714\n",
      "Epoch 61/100\n",
      "20/20 [==============================] - 0s 7ms/step - loss: 0.4560 - accuracy: 0.5440 - val_loss: 0.4286 - val_accuracy: 0.5714\n",
      "Epoch 62/100\n",
      "20/20 [==============================] - 0s 7ms/step - loss: 0.4560 - accuracy: 0.5440 - val_loss: 0.4286 - val_accuracy: 0.5714\n",
      "Epoch 63/100\n",
      "20/20 [==============================] - 0s 7ms/step - loss: 0.4560 - accuracy: 0.5440 - val_loss: 0.4286 - val_accuracy: 0.5714\n",
      "Epoch 64/100\n",
      "20/20 [==============================] - 0s 9ms/step - loss: 0.4560 - accuracy: 0.5440 - val_loss: 0.4286 - val_accuracy: 0.5714\n",
      "Epoch 65/100\n",
      "20/20 [==============================] - 0s 9ms/step - loss: 0.4560 - accuracy: 0.5440 - val_loss: 0.4286 - val_accuracy: 0.5714\n",
      "Epoch 66/100\n",
      "20/20 [==============================] - 0s 9ms/step - loss: 0.4560 - accuracy: 0.5440 - val_loss: 0.4286 - val_accuracy: 0.5714\n",
      "Epoch 67/100\n",
      "20/20 [==============================] - 0s 7ms/step - loss: 0.4560 - accuracy: 0.5440 - val_loss: 0.4286 - val_accuracy: 0.5714\n",
      "Epoch 68/100\n",
      "20/20 [==============================] - 0s 7ms/step - loss: 0.4560 - accuracy: 0.5440 - val_loss: 0.4286 - val_accuracy: 0.5714\n",
      "Epoch 69/100\n",
      "20/20 [==============================] - 0s 7ms/step - loss: 0.4560 - accuracy: 0.5440 - val_loss: 0.4286 - val_accuracy: 0.5714\n",
      "Epoch 70/100\n",
      "20/20 [==============================] - 0s 8ms/step - loss: 0.4560 - accuracy: 0.5440 - val_loss: 0.4286 - val_accuracy: 0.5714\n",
      "Epoch 71/100\n",
      "20/20 [==============================] - 0s 7ms/step - loss: 0.4560 - accuracy: 0.5440 - val_loss: 0.4286 - val_accuracy: 0.5714\n",
      "Epoch 72/100\n",
      "20/20 [==============================] - 0s 7ms/step - loss: 0.4560 - accuracy: 0.5440 - val_loss: 0.4286 - val_accuracy: 0.5714\n",
      "Epoch 73/100\n",
      "20/20 [==============================] - 0s 7ms/step - loss: 0.4560 - accuracy: 0.5440 - val_loss: 0.4286 - val_accuracy: 0.5714\n",
      "Epoch 74/100\n",
      "20/20 [==============================] - 0s 8ms/step - loss: 0.4560 - accuracy: 0.5440 - val_loss: 0.4286 - val_accuracy: 0.5714\n",
      "Epoch 75/100\n",
      "20/20 [==============================] - 0s 7ms/step - loss: 0.4560 - accuracy: 0.5440 - val_loss: 0.4286 - val_accuracy: 0.5714\n",
      "Epoch 76/100\n",
      "20/20 [==============================] - 0s 7ms/step - loss: 0.4560 - accuracy: 0.5440 - val_loss: 0.4286 - val_accuracy: 0.5714\n",
      "Epoch 77/100\n",
      "20/20 [==============================] - 0s 8ms/step - loss: 0.4560 - accuracy: 0.5440 - val_loss: 0.4286 - val_accuracy: 0.5714\n",
      "Epoch 78/100\n",
      "20/20 [==============================] - 0s 8ms/step - loss: 0.4560 - accuracy: 0.5440 - val_loss: 0.4286 - val_accuracy: 0.5714\n",
      "Epoch 79/100\n",
      "20/20 [==============================] - 0s 7ms/step - loss: 0.4560 - accuracy: 0.5440 - val_loss: 0.4286 - val_accuracy: 0.5714\n",
      "Epoch 80/100\n",
      "20/20 [==============================] - 0s 7ms/step - loss: 0.4560 - accuracy: 0.5440 - val_loss: 0.4286 - val_accuracy: 0.5714\n",
      "Epoch 81/100\n",
      "20/20 [==============================] - 0s 7ms/step - loss: 0.4560 - accuracy: 0.5440 - val_loss: 0.4286 - val_accuracy: 0.5714\n",
      "Epoch 82/100\n",
      "20/20 [==============================] - 0s 7ms/step - loss: 0.4560 - accuracy: 0.5440 - val_loss: 0.4286 - val_accuracy: 0.5714\n",
      "Epoch 83/100\n",
      "20/20 [==============================] - 0s 8ms/step - loss: 0.4560 - accuracy: 0.5440 - val_loss: 0.4286 - val_accuracy: 0.5714\n",
      "Epoch 84/100\n",
      "20/20 [==============================] - 0s 7ms/step - loss: 0.4560 - accuracy: 0.5440 - val_loss: 0.4286 - val_accuracy: 0.5714\n",
      "Epoch 85/100\n",
      "20/20 [==============================] - 0s 7ms/step - loss: 0.4560 - accuracy: 0.5440 - val_loss: 0.4286 - val_accuracy: 0.5714\n",
      "Epoch 86/100\n",
      "20/20 [==============================] - 0s 7ms/step - loss: 0.4560 - accuracy: 0.5440 - val_loss: 0.4286 - val_accuracy: 0.5714\n",
      "Epoch 87/100\n",
      "20/20 [==============================] - 0s 7ms/step - loss: 0.4560 - accuracy: 0.5440 - val_loss: 0.4286 - val_accuracy: 0.5714\n",
      "Epoch 88/100\n",
      "20/20 [==============================] - 0s 7ms/step - loss: 0.4560 - accuracy: 0.5440 - val_loss: 0.4286 - val_accuracy: 0.5714\n",
      "Epoch 89/100\n",
      "20/20 [==============================] - 0s 7ms/step - loss: 0.4560 - accuracy: 0.5440 - val_loss: 0.4286 - val_accuracy: 0.5714\n",
      "Epoch 90/100\n",
      "20/20 [==============================] - 0s 8ms/step - loss: 0.4560 - accuracy: 0.5440 - val_loss: 0.4286 - val_accuracy: 0.5714\n",
      "Epoch 91/100\n",
      "20/20 [==============================] - 0s 7ms/step - loss: 0.4560 - accuracy: 0.5440 - val_loss: 0.4286 - val_accuracy: 0.5714\n",
      "Epoch 92/100\n",
      "20/20 [==============================] - 0s 7ms/step - loss: 0.4560 - accuracy: 0.5440 - val_loss: 0.4286 - val_accuracy: 0.5714\n",
      "Epoch 93/100\n",
      "20/20 [==============================] - 0s 7ms/step - loss: 0.4560 - accuracy: 0.5440 - val_loss: 0.4286 - val_accuracy: 0.5714\n",
      "Epoch 94/100\n",
      "20/20 [==============================] - 0s 7ms/step - loss: 0.4560 - accuracy: 0.5440 - val_loss: 0.4286 - val_accuracy: 0.5714\n",
      "Epoch 95/100\n",
      "20/20 [==============================] - 0s 7ms/step - loss: 0.4560 - accuracy: 0.5440 - val_loss: 0.4286 - val_accuracy: 0.5714\n",
      "Epoch 96/100\n",
      "20/20 [==============================] - 0s 7ms/step - loss: 0.4560 - accuracy: 0.5440 - val_loss: 0.4286 - val_accuracy: 0.5714\n",
      "Epoch 97/100\n",
      "20/20 [==============================] - 0s 8ms/step - loss: 0.4560 - accuracy: 0.5440 - val_loss: 0.4286 - val_accuracy: 0.5714\n",
      "Epoch 98/100\n",
      "20/20 [==============================] - 0s 7ms/step - loss: 0.4560 - accuracy: 0.5440 - val_loss: 0.4286 - val_accuracy: 0.5714\n",
      "Epoch 99/100\n",
      "20/20 [==============================] - 0s 7ms/step - loss: 0.4560 - accuracy: 0.5440 - val_loss: 0.4286 - val_accuracy: 0.5714\n",
      "Epoch 100/100\n",
      "20/20 [==============================] - 0s 7ms/step - loss: 0.4560 - accuracy: 0.5440 - val_loss: 0.4286 - val_accuracy: 0.5714\n"
     ]
    }
   ],
   "source": [
    "history1 = model.fit(X_train, y_train, validation_split=0.2, epochs=100, batch_size=10, verbose=1)"
   ]
  },
  {
   "cell_type": "code",
   "execution_count": 29,
   "metadata": {
    "colab": {
     "base_uri": "https://localhost:8080/"
    },
    "id": "V_wm7w0ua0a1",
    "outputId": "9d2dbd54-64be-4330-cbd1-2220bc8d18dc"
   },
   "outputs": [
    {
     "name": "stdout",
     "output_type": "stream",
     "text": [
      "Model: \"sequential_1\"\n",
      "_________________________________________________________________\n",
      " Layer (type)                Output Shape              Param #   \n",
      "=================================================================\n",
      " dense_2 (Dense)             (None, 16)                224       \n",
      "                                                                 \n",
      " dense_3 (Dense)             (None, 8)                 136       \n",
      "                                                                 \n",
      " dense_4 (Dense)             (None, 1)                 9         \n",
      "                                                                 \n",
      "=================================================================\n",
      "Total params: 369\n",
      "Trainable params: 369\n",
      "Non-trainable params: 0\n",
      "_________________________________________________________________\n"
     ]
    }
   ],
   "source": [
    "model1.summary()"
   ]
  },
  {
   "cell_type": "code",
   "execution_count": 30,
   "metadata": {
    "id": "rAG5BPNta5NO"
   },
   "outputs": [],
   "source": [
    "ls = history1.history"
   ]
  },
  {
   "cell_type": "code",
   "execution_count": 31,
   "metadata": {
    "colab": {
     "base_uri": "https://localhost:8080/",
     "height": 424
    },
    "id": "KmSRfxsHa7Um",
    "outputId": "4a890ba4-8f8b-4863-f2ab-44ef08bf3494"
   },
   "outputs": [
    {
     "data": {
      "text/html": [
       "<div>\n",
       "<style scoped>\n",
       "    .dataframe tbody tr th:only-of-type {\n",
       "        vertical-align: middle;\n",
       "    }\n",
       "\n",
       "    .dataframe tbody tr th {\n",
       "        vertical-align: top;\n",
       "    }\n",
       "\n",
       "    .dataframe thead th {\n",
       "        text-align: right;\n",
       "    }\n",
       "</style>\n",
       "<table border=\"1\" class=\"dataframe\">\n",
       "  <thead>\n",
       "    <tr style=\"text-align: right;\">\n",
       "      <th></th>\n",
       "      <th>loss</th>\n",
       "      <th>accuracy</th>\n",
       "      <th>val_loss</th>\n",
       "      <th>val_accuracy</th>\n",
       "    </tr>\n",
       "  </thead>\n",
       "  <tbody>\n",
       "    <tr>\n",
       "      <th>0</th>\n",
       "      <td>0.455959</td>\n",
       "      <td>0.544041</td>\n",
       "      <td>0.428571</td>\n",
       "      <td>0.571429</td>\n",
       "    </tr>\n",
       "    <tr>\n",
       "      <th>1</th>\n",
       "      <td>0.455959</td>\n",
       "      <td>0.544041</td>\n",
       "      <td>0.428571</td>\n",
       "      <td>0.571429</td>\n",
       "    </tr>\n",
       "    <tr>\n",
       "      <th>2</th>\n",
       "      <td>0.455959</td>\n",
       "      <td>0.544041</td>\n",
       "      <td>0.428571</td>\n",
       "      <td>0.571429</td>\n",
       "    </tr>\n",
       "    <tr>\n",
       "      <th>3</th>\n",
       "      <td>0.455959</td>\n",
       "      <td>0.544041</td>\n",
       "      <td>0.428571</td>\n",
       "      <td>0.571429</td>\n",
       "    </tr>\n",
       "    <tr>\n",
       "      <th>4</th>\n",
       "      <td>0.455959</td>\n",
       "      <td>0.544041</td>\n",
       "      <td>0.428571</td>\n",
       "      <td>0.571429</td>\n",
       "    </tr>\n",
       "    <tr>\n",
       "      <th>...</th>\n",
       "      <td>...</td>\n",
       "      <td>...</td>\n",
       "      <td>...</td>\n",
       "      <td>...</td>\n",
       "    </tr>\n",
       "    <tr>\n",
       "      <th>95</th>\n",
       "      <td>0.455959</td>\n",
       "      <td>0.544041</td>\n",
       "      <td>0.428571</td>\n",
       "      <td>0.571429</td>\n",
       "    </tr>\n",
       "    <tr>\n",
       "      <th>96</th>\n",
       "      <td>0.455959</td>\n",
       "      <td>0.544041</td>\n",
       "      <td>0.428571</td>\n",
       "      <td>0.571429</td>\n",
       "    </tr>\n",
       "    <tr>\n",
       "      <th>97</th>\n",
       "      <td>0.455959</td>\n",
       "      <td>0.544041</td>\n",
       "      <td>0.428571</td>\n",
       "      <td>0.571429</td>\n",
       "    </tr>\n",
       "    <tr>\n",
       "      <th>98</th>\n",
       "      <td>0.455959</td>\n",
       "      <td>0.544041</td>\n",
       "      <td>0.428571</td>\n",
       "      <td>0.571429</td>\n",
       "    </tr>\n",
       "    <tr>\n",
       "      <th>99</th>\n",
       "      <td>0.455959</td>\n",
       "      <td>0.544041</td>\n",
       "      <td>0.428571</td>\n",
       "      <td>0.571429</td>\n",
       "    </tr>\n",
       "  </tbody>\n",
       "</table>\n",
       "<p>100 rows × 4 columns</p>\n",
       "</div>"
      ],
      "text/plain": [
       "        loss  accuracy  val_loss  val_accuracy\n",
       "0   0.455959  0.544041  0.428571      0.571429\n",
       "1   0.455959  0.544041  0.428571      0.571429\n",
       "2   0.455959  0.544041  0.428571      0.571429\n",
       "3   0.455959  0.544041  0.428571      0.571429\n",
       "4   0.455959  0.544041  0.428571      0.571429\n",
       "..       ...       ...       ...           ...\n",
       "95  0.455959  0.544041  0.428571      0.571429\n",
       "96  0.455959  0.544041  0.428571      0.571429\n",
       "97  0.455959  0.544041  0.428571      0.571429\n",
       "98  0.455959  0.544041  0.428571      0.571429\n",
       "99  0.455959  0.544041  0.428571      0.571429\n",
       "\n",
       "[100 rows x 4 columns]"
      ]
     },
     "execution_count": 31,
     "metadata": {},
     "output_type": "execute_result"
    }
   ],
   "source": [
    "new = pd.DataFrame.from_dict(ls)\n",
    "new"
   ]
  },
  {
   "cell_type": "code",
   "execution_count": 32,
   "metadata": {
    "id": "_6ISUz0ya9Z2"
   },
   "outputs": [],
   "source": [
    "model2 = Sequential()\n",
    "model2.add(Dense(32, input_dim=13, activation='relu'))\n",
    "model2.add(Dense(16, activation='relu'))\n",
    "model2.add(Dense(8, activation='relu'))\n",
    "model2.add(Dense(1, activation='sigmoid'))"
   ]
  },
  {
   "cell_type": "code",
   "execution_count": 33,
   "metadata": {
    "colab": {
     "base_uri": "https://localhost:8080/"
    },
    "id": "xyCs4gombANn",
    "outputId": "87ee20c8-3c4b-49de-a884-536f5cc26237"
   },
   "outputs": [
    {
     "name": "stdout",
     "output_type": "stream",
     "text": [
      "Epoch 1/10\n",
      "9/9 [==============================] - 2s 4ms/step - loss: 0.4504 - accuracy: 0.5496\n",
      "Epoch 2/10\n",
      "9/9 [==============================] - 0s 5ms/step - loss: 0.4504 - accuracy: 0.5496\n",
      "Epoch 3/10\n",
      "9/9 [==============================] - 0s 5ms/step - loss: 0.4504 - accuracy: 0.5496\n",
      "Epoch 4/10\n",
      "9/9 [==============================] - 0s 4ms/step - loss: 0.4504 - accuracy: 0.5496\n",
      "Epoch 5/10\n",
      "9/9 [==============================] - 0s 6ms/step - loss: 0.4504 - accuracy: 0.5496\n",
      "Epoch 6/10\n",
      "9/9 [==============================] - 0s 5ms/step - loss: 0.4504 - accuracy: 0.5496\n",
      "Epoch 7/10\n",
      "9/9 [==============================] - 0s 6ms/step - loss: 0.4504 - accuracy: 0.5496\n",
      "Epoch 8/10\n",
      "9/9 [==============================] - 0s 5ms/step - loss: 0.4504 - accuracy: 0.5496\n",
      "Epoch 9/10\n",
      "9/9 [==============================] - 0s 5ms/step - loss: 0.4504 - accuracy: 0.5496\n",
      "Epoch 10/10\n",
      "9/9 [==============================] - 0s 5ms/step - loss: 0.4504 - accuracy: 0.5496\n"
     ]
    },
    {
     "data": {
      "text/plain": [
       "<keras.callbacks.History at 0x21ba499ab20>"
      ]
     },
     "execution_count": 33,
     "metadata": {},
     "output_type": "execute_result"
    }
   ],
   "source": [
    "model2.compile(loss='mse', optimizer=optimizer, metrics=['accuracy'])\n",
    "model2.fit(X_train, y_train, epochs=10, batch_size=30, verbose=1)"
   ]
  },
  {
   "cell_type": "code",
   "execution_count": 34,
   "metadata": {
    "colab": {
     "base_uri": "https://localhost:8080/"
    },
    "id": "wVPbSV_ubCaA",
    "outputId": "0ea2c4d6-fa46-4272-e292-0b76f4050ce1"
   },
   "outputs": [
    {
     "name": "stdout",
     "output_type": "stream",
     "text": [
      "2/2 [==============================] - 0s 6ms/step - loss: 0.4754 - accuracy: 0.5246\n"
     ]
    },
    {
     "data": {
      "text/plain": [
       "[0.4754098355770111, 0.5245901346206665]"
      ]
     },
     "execution_count": 34,
     "metadata": {},
     "output_type": "execute_result"
    }
   ],
   "source": [
    "model2.evaluate(X_test, y_test)"
   ]
  },
  {
   "cell_type": "code",
   "execution_count": 35,
   "metadata": {
    "colab": {
     "base_uri": "https://localhost:8080/"
    },
    "id": "JZgjO9xxbPix",
    "outputId": "0515bcd4-32f8-42fd-b661-d98cc4ac045d"
   },
   "outputs": [
    {
     "name": "stdout",
     "output_type": "stream",
     "text": [
      "Model: \"sequential_2\"\n",
      "_________________________________________________________________\n",
      " Layer (type)                Output Shape              Param #   \n",
      "=================================================================\n",
      " dense_5 (Dense)             (None, 32)                448       \n",
      "                                                                 \n",
      " dense_6 (Dense)             (None, 16)                528       \n",
      "                                                                 \n",
      " dense_7 (Dense)             (None, 8)                 136       \n",
      "                                                                 \n",
      " dense_8 (Dense)             (None, 1)                 9         \n",
      "                                                                 \n",
      "=================================================================\n",
      "Total params: 1,121\n",
      "Trainable params: 1,121\n",
      "Non-trainable params: 0\n",
      "_________________________________________________________________\n"
     ]
    }
   ],
   "source": [
    "model2.summary()"
   ]
  },
  {
   "cell_type": "code",
   "execution_count": 36,
   "metadata": {
    "id": "WdKUa505bRrQ"
   },
   "outputs": [],
   "source": [
    "model3 = Sequential()\n",
    "model3.add(Dense(64, input_dim=13, activation='relu'))\n",
    "model3.add(Dense(32, activation='relu'))\n",
    "model3.add(Dense(16, activation='relu'))\n",
    "model3.add(Dense(8, activation='relu'))\n",
    "model3.add(Dense(1, activation='sigmoid'))"
   ]
  },
  {
   "cell_type": "code",
   "execution_count": 37,
   "metadata": {
    "colab": {
     "base_uri": "https://localhost:8080/"
    },
    "id": "7SMfNcmQbUXZ",
    "outputId": "d5006f3c-9f02-438c-aee4-c259bea5732d"
   },
   "outputs": [
    {
     "name": "stdout",
     "output_type": "stream",
     "text": [
      "Epoch 1/10\n",
      "9/9 [==============================] - 3s 5ms/step - loss: 0.4341 - accuracy: 0.5000\n",
      "Epoch 2/10\n",
      "9/9 [==============================] - 0s 9ms/step - loss: 0.3162 - accuracy: 0.5579\n",
      "Epoch 3/10\n",
      "9/9 [==============================] - 0s 6ms/step - loss: 0.2616 - accuracy: 0.6198\n",
      "Epoch 4/10\n",
      "9/9 [==============================] - 0s 5ms/step - loss: 0.2405 - accuracy: 0.6529\n",
      "Epoch 5/10\n",
      "9/9 [==============================] - 0s 6ms/step - loss: 0.2326 - accuracy: 0.6529\n",
      "Epoch 6/10\n",
      "9/9 [==============================] - 0s 6ms/step - loss: 0.2320 - accuracy: 0.6529\n",
      "Epoch 7/10\n",
      "9/9 [==============================] - 0s 4ms/step - loss: 0.2238 - accuracy: 0.6694\n",
      "Epoch 8/10\n",
      "9/9 [==============================] - 0s 5ms/step - loss: 0.2037 - accuracy: 0.6818\n",
      "Epoch 9/10\n",
      "9/9 [==============================] - 0s 8ms/step - loss: 0.2590 - accuracy: 0.6322\n",
      "Epoch 10/10\n",
      "9/9 [==============================] - 0s 5ms/step - loss: 0.2301 - accuracy: 0.6488\n"
     ]
    },
    {
     "data": {
      "text/plain": [
       "<keras.callbacks.History at 0x21ba5aac580>"
      ]
     },
     "execution_count": 37,
     "metadata": {},
     "output_type": "execute_result"
    }
   ],
   "source": [
    "model3.compile(loss='mse', optimizer=optimizer, metrics=['accuracy'])\n",
    "model3.fit(X_train, y_train, epochs=10, batch_size=30, verbose=1)"
   ]
  },
  {
   "cell_type": "code",
   "execution_count": 38,
   "metadata": {
    "colab": {
     "base_uri": "https://localhost:8080/"
    },
    "id": "agZt4CmfbWaX",
    "outputId": "7d0742d4-bb13-4ca1-aad7-ff818d237fe8"
   },
   "outputs": [
    {
     "name": "stdout",
     "output_type": "stream",
     "text": [
      "2/2 [==============================] - 0s 7ms/step - loss: 0.1846 - accuracy: 0.7377\n"
     ]
    },
    {
     "data": {
      "text/plain": [
       "[0.18456268310546875, 0.7377049326896667]"
      ]
     },
     "execution_count": 38,
     "metadata": {},
     "output_type": "execute_result"
    }
   ],
   "source": [
    "model3.evaluate(X_test, y_test)"
   ]
  },
  {
   "cell_type": "code",
   "execution_count": 39,
   "metadata": {
    "colab": {
     "base_uri": "https://localhost:8080/"
    },
    "id": "WDTap24hbY-Z",
    "outputId": "82a384a0-7c58-4e4f-9250-75e13ec26481"
   },
   "outputs": [
    {
     "name": "stdout",
     "output_type": "stream",
     "text": [
      "Model: \"sequential_3\"\n",
      "_________________________________________________________________\n",
      " Layer (type)                Output Shape              Param #   \n",
      "=================================================================\n",
      " dense_9 (Dense)             (None, 64)                896       \n",
      "                                                                 \n",
      " dense_10 (Dense)            (None, 32)                2080      \n",
      "                                                                 \n",
      " dense_11 (Dense)            (None, 16)                528       \n",
      "                                                                 \n",
      " dense_12 (Dense)            (None, 8)                 136       \n",
      "                                                                 \n",
      " dense_13 (Dense)            (None, 1)                 9         \n",
      "                                                                 \n",
      "=================================================================\n",
      "Total params: 3,649\n",
      "Trainable params: 3,649\n",
      "Non-trainable params: 0\n",
      "_________________________________________________________________\n"
     ]
    }
   ],
   "source": [
    "model3.summary()"
   ]
  }
 ],
 "metadata": {
  "colab": {
   "collapsed_sections": [],
   "name": "PDL Lab-3 215229135.ipynb",
   "provenance": []
  },
  "kernelspec": {
   "display_name": "Python 3",
   "language": "python",
   "name": "python3"
  },
  "language_info": {
   "codemirror_mode": {
    "name": "ipython",
    "version": 3
   },
   "file_extension": ".py",
   "mimetype": "text/x-python",
   "name": "python",
   "nbconvert_exporter": "python",
   "pygments_lexer": "ipython3",
   "version": "3.11.4"
  }
 },
 "nbformat": 4,
 "nbformat_minor": 1
}
