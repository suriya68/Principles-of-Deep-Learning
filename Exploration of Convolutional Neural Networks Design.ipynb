{
 "cells": [
  {
   "cell_type": "markdown",
   "id": "8fe0d26c",
   "metadata": {},
   "source": [
    "# Exploration of Convolutional Neural Networks Design"
   ]
  },
  {
   "cell_type": "markdown",
   "id": "1f21bd8a",
   "metadata": {},
   "source": [
    "### Suriya S (225229140)"
   ]
  },
  {
   "cell_type": "markdown",
   "id": "f0d1b240",
   "metadata": {},
   "source": [
    "**Exploration Steps**"
   ]
  },
  {
   "cell_type": "code",
   "execution_count": 1,
   "id": "4d598191",
   "metadata": {},
   "outputs": [],
   "source": [
    "import matplotlib.pyplot as plt\n",
    "import seaborn as sns\n",
    "import matplotlib.image as mpimg\n",
    "from sklearn.metrics import confusion_matrix, classification_report\n",
    "from tensorflow.keras.utils import to_categorical\n",
    "from tensorflow.keras.models import Sequential\n",
    "from tensorflow.keras.models import Sequential\n",
    "from tensorflow.keras.layers import Conv2D, MaxPool2D, Dense, Flatten, Dropout\n",
    "\n",
    "import tensorflow as tf\n",
    "import keras\n",
    "from sklearn.model_selection import train_test_split\n",
    "from tensorflow.keras.models import Sequential"
   ]
  },
  {
   "cell_type": "code",
   "execution_count": 2,
   "id": "796370f2",
   "metadata": {},
   "outputs": [],
   "source": [
    "(x_train, y_train), (x_test, y_test) = tf.keras.datasets.mnist.load_data()"
   ]
  },
  {
   "cell_type": "code",
   "execution_count": 3,
   "id": "c29304e1",
   "metadata": {},
   "outputs": [
    {
     "name": "stdout",
     "output_type": "stream",
     "text": [
      "x_train shape:  (60000, 28, 28)  x_train size:  47040000\n",
      "y_train shape:  (60000,)  y_train size:  60000\n"
     ]
    }
   ],
   "source": [
    "print('x_train shape: ',x_train.shape,' ''x_train size: ',x_train.size)\n",
    "print('y_train shape: ',y_train.shape,' ''y_train size: ',y_train.size)"
   ]
  },
  {
   "cell_type": "code",
   "execution_count": 4,
   "id": "750aad2f",
   "metadata": {},
   "outputs": [
    {
     "data": {
      "image/png": "[encoded data removed]",
      "text/plain": [
       "<Figure size 345.6x345.6 with 1 Axes>"
      ]
     },
     "metadata": {
      "needs_background": "light"
     },
     "output_type": "display_data"
    }
   ],
   "source": [
    "plt.matshow(x_train[2])\n",
    "plt.show()"
   ]
  },
  {
   "cell_type": "code",
   "execution_count": 5,
   "id": "55c47376",
   "metadata": {},
   "outputs": [],
   "source": [
    "X_train = x_train.astype('float32')/255\n",
    "X_test = x_test.astype('float32')/255"
   ]
  },
  {
   "cell_type": "code",
   "execution_count": 6,
   "id": "599cd60a",
   "metadata": {},
   "outputs": [],
   "source": [
    "X_train = X_train.reshape(-1,28,28,1)"
   ]
  },
  {
   "cell_type": "code",
   "execution_count": 7,
   "id": "de964720",
   "metadata": {},
   "outputs": [],
   "source": [
    "X_test = X_test.reshape(-1,28,28,1)  \n"
   ]
  },
  {
   "cell_type": "markdown",
   "id": "1e0291b1",
   "metadata": {},
   "source": [
    "#### 1.Number of filters:"
   ]
  },
  {
   "cell_type": "code",
   "execution_count": 8,
   "id": "402ea6e5",
   "metadata": {},
   "outputs": [
    {
     "name": "stdout",
     "output_type": "stream",
     "text": [
      "Epoch 1/5\n",
      "1875/1875 [==============================] - 7s 4ms/step - loss: 27.3046 - accuracy: 0.0977\n",
      "Epoch 2/5\n",
      "1875/1875 [==============================] - 7s 3ms/step - loss: 27.3046 - accuracy: 0.0980\n",
      "Epoch 3/5\n",
      "1875/1875 [==============================] - 7s 3ms/step - loss: 27.3046 - accuracy: 0.1029\n",
      "Epoch 4/5\n",
      "1875/1875 [==============================] - 7s 4ms/step - loss: 27.3046 - accuracy: 0.1018\n",
      "Epoch 5/5\n",
      "1875/1875 [==============================] - 7s 4ms/step - loss: 27.3046 - accuracy: 0.1006\n"
     ]
    },
    {
     "data": {
      "text/plain": [
       "<keras.callbacks.History at 0x1618041aa90>"
      ]
     },
     "execution_count": 8,
     "metadata": {},
     "output_type": "execute_result"
    }
   ],
   "source": [
    "#with 32 filters\n",
    "\n",
    "model = Sequential()\n",
    "model.add(Conv2D(filters=32, kernel_size=(3, 3), activation='relu', input_shape=(28,28,1)))\n",
    "model.add(Flatten())\n",
    "model.add(Dense(10,activation = 'softmax'))\n",
    "\n",
    "model.compile(optimizer='adam',loss='mean_squared_error',metrics=['accuracy'])\n",
    "\n",
    "model.fit(X_train,y_train,epochs=5)"
   ]
  },
  {
   "cell_type": "code",
   "execution_count": 9,
   "id": "4508db1f",
   "metadata": {},
   "outputs": [
    {
     "name": "stdout",
     "output_type": "stream",
     "text": [
      "loss : 27.25031280517578\n",
      "accuracy : 0.10050000250339508\n"
     ]
    }
   ],
   "source": [
    "score = model.evaluate(X_test, y_test, verbose=0)\n",
    "print(\"loss :\", score[0])\n",
    "print(\"accuracy :\",score[1])"
   ]
  },
  {
   "cell_type": "code",
   "execution_count": 10,
   "id": "0029d796",
   "metadata": {},
   "outputs": [
    {
     "name": "stdout",
     "output_type": "stream",
     "text": [
      "Epoch 1/5\n",
      "1875/1875 [==============================] - 4s 2ms/step - loss: 27.3046 - accuracy: 0.0977\n",
      "Epoch 2/5\n",
      "1875/1875 [==============================] - 3s 2ms/step - loss: 27.3046 - accuracy: 0.0960\n",
      "Epoch 3/5\n",
      "1875/1875 [==============================] - 3s 2ms/step - loss: 27.3046 - accuracy: 0.0971\n",
      "Epoch 4/5\n",
      "1875/1875 [==============================] - 3s 2ms/step - loss: 27.3046 - accuracy: 0.0993\n",
      "Epoch 5/5\n",
      "1875/1875 [==============================] - 3s 2ms/step - loss: 27.3046 - accuracy: 0.0985\n"
     ]
    },
    {
     "data": {
      "text/plain": [
       "<keras.callbacks.History at 0x16181888ee0>"
      ]
     },
     "execution_count": 10,
     "metadata": {},
     "output_type": "execute_result"
    }
   ],
   "source": [
    "#with 4 filters\n",
    "\n",
    "model1 = Sequential()\n",
    "model1.add(Conv2D(filters=4, kernel_size=(3, 3), activation='relu', input_shape=(28,28,1)))\n",
    "model1.add(Flatten())\n",
    "model1.add(Dense(10,activation = 'softmax'))\n",
    "\n",
    "model1.compile(optimizer='adam',loss='mean_squared_error',metrics=['accuracy'])\n",
    "\n",
    "model1.fit(X_train,y_train,epochs=5)"
   ]
  },
  {
   "cell_type": "code",
   "execution_count": 11,
   "id": "ba2d776e",
   "metadata": {},
   "outputs": [
    {
     "name": "stdout",
     "output_type": "stream",
     "text": [
      "loss : 27.25031280517578\n",
      "accuracy : 0.1006999984383583\n"
     ]
    }
   ],
   "source": [
    "score = model1.evaluate(X_test, y_test, verbose=0)\n",
    "print(\"loss :\", score[0])\n",
    "print(\"accuracy :\",score[1])"
   ]
  },
  {
   "cell_type": "code",
   "execution_count": 13,
   "id": "1682c461",
   "metadata": {},
   "outputs": [
    {
     "name": "stdout",
     "output_type": "stream",
     "text": [
      "Epoch 1/5\n",
      "1875/1875 [==============================] - 26s 14ms/step - loss: 27.3046 - accuracy: 0.1041\n",
      "Epoch 2/5\n",
      "1875/1875 [==============================] - 25s 14ms/step - loss: 27.3046 - accuracy: 0.1016\n",
      "Epoch 3/5\n",
      "1875/1875 [==============================] - 26s 14ms/step - loss: 27.3046 - accuracy: 0.1003\n",
      "Epoch 4/5\n",
      "1875/1875 [==============================] - 26s 14ms/step - loss: 27.3046 - accuracy: 0.1009\n",
      "Epoch 5/5\n",
      "1875/1875 [==============================] - 26s 14ms/step - loss: 27.3045 - accuracy: 0.1006\n"
     ]
    },
    {
     "data": {
      "text/plain": [
       "<keras.callbacks.History at 0x161890ce610>"
      ]
     },
     "execution_count": 13,
     "metadata": {},
     "output_type": "execute_result"
    }
   ],
   "source": [
    "#with 128 filters\n",
    "\n",
    "model2 = Sequential()\n",
    "model2.add(Conv2D(filters=128, kernel_size=(3, 3), activation='relu', input_shape=(28,28,1)))\n",
    "model2.add(Flatten())\n",
    "model2.add(Dense(10,activation = 'softmax'))\n",
    "\n",
    "model2.compile(optimizer='adam',loss='mean_squared_error',metrics=['accuracy'])\n",
    "\n",
    "model2.fit(X_train,y_train,epochs=5)"
   ]
  },
  {
   "cell_type": "code",
   "execution_count": 14,
   "id": "d56c2ab2",
   "metadata": {},
   "outputs": [
    {
     "name": "stdout",
     "output_type": "stream",
     "text": [
      "loss : 27.25031280517578\n",
      "accuracy : 0.10019999742507935\n"
     ]
    }
   ],
   "source": [
    "score = model2.evaluate(X_test, y_test, verbose=0)\n",
    "print(\"loss :\", score[0])\n",
    "print(\"accuracy :\",score[1])"
   ]
  },
  {
   "cell_type": "code",
   "execution_count": 15,
   "id": "23ecd088",
   "metadata": {},
   "outputs": [
    {
     "name": "stdout",
     "output_type": "stream",
     "text": [
      "Epoch 1/5\n",
      "1875/1875 [==============================] - 112s 60ms/step - loss: 27.3046 - accuracy: 0.1015\n",
      "Epoch 2/5\n",
      "1875/1875 [==============================] - 112s 60ms/step - loss: 27.3046 - accuracy: 0.1079\n",
      "Epoch 3/5\n",
      "1875/1875 [==============================] - 112s 60ms/step - loss: 27.3046 - accuracy: 0.1077\n",
      "Epoch 4/5\n",
      "1875/1875 [==============================] - 113s 60ms/step - loss: 27.3046 - accuracy: 0.1089\n",
      "Epoch 5/5\n",
      "1875/1875 [==============================] - 112s 60ms/step - loss: 27.3046 - accuracy: 0.1064\n"
     ]
    },
    {
     "data": {
      "text/plain": [
       "<keras.callbacks.History at 0x1618976e6d0>"
      ]
     },
     "execution_count": 15,
     "metadata": {},
     "output_type": "execute_result"
    }
   ],
   "source": [
    "#with 512 filters\n",
    "\n",
    "model3 = Sequential()\n",
    "model3.add(Conv2D(filters=512, kernel_size=(3, 3), activation='relu', input_shape=(28,28,1)))\n",
    "model3.add(Flatten())\n",
    "model3.add(Dense(10,activation = 'softmax'))\n",
    "\n",
    "model3.compile(optimizer='adam',loss='mean_squared_error',metrics=['accuracy'])\n",
    "\n",
    "model3.fit(X_train,y_train,epochs=5)"
   ]
  },
  {
   "cell_type": "code",
   "execution_count": 16,
   "id": "0cb9e80b",
   "metadata": {},
   "outputs": [
    {
     "name": "stdout",
     "output_type": "stream",
     "text": [
      "loss : 27.25031280517578\n",
      "accuracy : 0.10459999740123749\n"
     ]
    }
   ],
   "source": [
    "score = model3.evaluate(X_test, y_test, verbose=0)\n",
    "print(\"loss :\", score[0])\n",
    "print(\"accuracy :\",score[1])"
   ]
  },
  {
   "cell_type": "code",
   "execution_count": 17,
   "id": "2a76ac5c",
   "metadata": {},
   "outputs": [
    {
     "name": "stdout",
     "output_type": "stream",
     "text": [
      "Epoch 1/5\n",
      "1875/1875 [==============================] - 452s 241ms/step - loss: 27.3046 - accuracy: 0.0887\n",
      "Epoch 2/5\n",
      "1875/1875 [==============================] - 456s 243ms/step - loss: 27.3046 - accuracy: 0.0949\n",
      "Epoch 3/5\n",
      "1875/1875 [==============================] - 451s 241ms/step - loss: 27.3046 - accuracy: 0.0943\n",
      "Epoch 4/5\n",
      "1875/1875 [==============================] - 453s 242ms/step - loss: 27.3046 - accuracy: 0.0937\n",
      "Epoch 5/5\n",
      "1875/1875 [==============================] - 451s 241ms/step - loss: 27.3046 - accuracy: 0.0941\n"
     ]
    },
    {
     "data": {
      "text/plain": [
       "<keras.callbacks.History at 0x161895a1e80>"
      ]
     },
     "execution_count": 17,
     "metadata": {},
     "output_type": "execute_result"
    }
   ],
   "source": [
    "#with 2058 filters\n",
    "\n",
    "model4 = Sequential()\n",
    "model4.add(Conv2D(filters=2058, kernel_size=(3, 3), activation='relu', input_shape=(28,28,1)))\n",
    "model4.add(Flatten())\n",
    "model4.add(Dense(10,activation = 'softmax'))\n",
    "\n",
    "model4.compile(optimizer='adam',loss='mean_squared_error',metrics=['accuracy'])\n",
    "\n",
    "model4.fit(X_train,y_train,epochs=5)"
   ]
  },
  {
   "cell_type": "code",
   "execution_count": 18,
   "id": "f0de1352",
   "metadata": {},
   "outputs": [
    {
     "name": "stdout",
     "output_type": "stream",
     "text": [
      "loss : 27.25031280517578\n",
      "accuracy : 0.09690000116825104\n"
     ]
    }
   ],
   "source": [
    "score = model4.evaluate(X_test, y_test, verbose=0)\n",
    "print(\"loss :\", score[0])\n",
    "print(\"accuracy :\",score[1])"
   ]
  },
  {
   "cell_type": "markdown",
   "id": "0367e1e4",
   "metadata": {},
   "source": [
    "#### 2.Number of layers"
   ]
  },
  {
   "cell_type": "code",
   "execution_count": 8,
   "id": "7d2a1388",
   "metadata": {},
   "outputs": [
    {
     "name": "stdout",
     "output_type": "stream",
     "text": [
      "Epoch 1/5\n",
      "1875/1875 [==============================] - 120s 63ms/step - loss: 27.3046 - accuracy: 0.0823\n",
      "Epoch 2/5\n",
      "1875/1875 [==============================] - 126s 67ms/step - loss: 27.3046 - accuracy: 0.0920\n",
      "Epoch 3/5\n",
      "1875/1875 [==============================] - 126s 67ms/step - loss: 27.3046 - accuracy: 0.0942\n",
      "Epoch 4/5\n",
      "1875/1875 [==============================] - 127s 68ms/step - loss: 27.3046 - accuracy: 0.0982\n",
      "Epoch 5/5\n",
      "1875/1875 [==============================] - 122s 65ms/step - loss: 27.3046 - accuracy: 0.1020\n"
     ]
    },
    {
     "data": {
      "text/plain": [
       "<keras.callbacks.History at 0x280d48b9460>"
      ]
     },
     "execution_count": 8,
     "metadata": {},
     "output_type": "execute_result"
    }
   ],
   "source": [
    "model5 = Sequential()\n",
    "model5.add(Conv2D(filters=32, kernel_size=(3, 3), activation='relu', input_shape=(28,28,1)))\n",
    "model5.add(Conv2D(filters=32, kernel_size=(3, 3), activation='relu'))\n",
    "model5.add(Flatten())\n",
    "model5.add(Dense(10,activation = 'softmax'))\n",
    "\n",
    "model5.compile(optimizer='adam',loss='mean_squared_error',metrics=['accuracy'])\n",
    "\n",
    "model5.fit(X_train,y_train,epochs=5)"
   ]
  },
  {
   "cell_type": "code",
   "execution_count": 9,
   "id": "416bb73b",
   "metadata": {},
   "outputs": [
    {
     "name": "stdout",
     "output_type": "stream",
     "text": [
      "loss : 27.25031280517578\n",
      "accuracy : 0.09939999878406525\n"
     ]
    }
   ],
   "source": [
    "score = model5.evaluate(X_test, y_test, verbose=0)\n",
    "print(\"loss :\", score[0])\n",
    "print(\"accuracy :\",score[1])"
   ]
  },
  {
   "cell_type": "code",
   "execution_count": null,
   "id": "ffc0167d",
   "metadata": {},
   "outputs": [
    {
     "name": "stdout",
     "output_type": "stream",
     "text": [
      "Epoch 1/5\n",
      "1875/1875 [==============================] - 142s 76ms/step - loss: 27.3046 - accuracy: 0.1094\n",
      "Epoch 2/5\n",
      "1875/1875 [==============================] - 187s 100ms/step - loss: 27.3046 - accuracy: 0.1078\n",
      "Epoch 3/5\n",
      "1875/1875 [==============================] - 188s 100ms/step - loss: 27.3046 - accuracy: 0.1037\n",
      "Epoch 4/5\n",
      "1875/1875 [==============================] - 216s 115ms/step - loss: 27.3046 - accuracy: 0.1010\n",
      "Epoch 5/5\n",
      " 116/1875 [>.............................] - ETA: 3:02 - loss: 26.6375 - accuracy: 0.1056"
     ]
    }
   ],
   "source": [
    "model6 = Sequential()\n",
    "model6.add(Conv2D(filters=32, kernel_size=(3, 3), activation='relu', input_shape=(28,28,1)))\n",
    "model6.add(Conv2D(filters=32, kernel_size=(3, 3), activation='relu'))\n",
    "model6.add(Conv2D(filters=32, kernel_size=(3, 3), activation='relu'))\n",
    "model6.add(Flatten())\n",
    "model6.add(Dense(10,activation = 'softmax'))\n",
    "\n",
    "model6.compile(optimizer='adam',loss='mean_squared_error',metrics=['accuracy'])\n",
    "\n",
    "model6.fit(X_train,y_train,epochs=5)"
   ]
  },
  {
   "cell_type": "code",
   "execution_count": null,
   "id": "eb5f34dc",
   "metadata": {},
   "outputs": [],
   "source": [
    "score = model6.evaluate(X_test, y_test, verbose=0)\n",
    "print(\"loss :\", score[0])\n",
    "print(\"accuracy :\",score[1])"
   ]
  },
  {
   "cell_type": "code",
   "execution_count": null,
   "id": "03292e62",
   "metadata": {},
   "outputs": [],
   "source": [
    "model7 = Sequential()\n",
    "model7.add(Conv2D(filters=32, kernel_size=(3, 3), activation='relu', input_shape=(28,28,1)))\n",
    "model7.add(Conv2D(filters=32, kernel_size=(3, 3), activation='relu'))\n",
    "model7.add(Conv2D(filters=32, kernel_size=(3, 3), activation='relu'))\n",
    "model7.add(Conv2D(filters=32, kernel_size=(3, 3), activation='relu'))\n",
    "model7.add(Flatten())\n",
    "model7.add(Dense(10,activation = 'softmax'))\n",
    "\n",
    "model7.compile(optimizer='adam',loss='mean_squared_error',metrics=['accuracy'])\n",
    "\n",
    "model7.fit(X_train,y_train,epochs=5"
   ]
  },
  {
   "cell_type": "code",
   "execution_count": null,
   "id": "aa096c4e",
   "metadata": {},
   "outputs": [],
   "source": [
    "score = model7.evaluate(X_test, y_test, verbose=0)\n",
    "print(\"loss :\", score[0])\n",
    "print(\"accuracy :\",score[1])"
   ]
  },
  {
   "cell_type": "markdown",
   "id": "ca7b483a",
   "metadata": {},
   "source": [
    "#### 3.Size of Filters:"
   ]
  },
  {
   "cell_type": "code",
   "execution_count": null,
   "id": "a8e6afbe",
   "metadata": {},
   "outputs": [],
   "source": [
    "model8 = Sequential()\n",
    "model8.add(Conv2D(filters=16, kernel_size=(3, 3), activation='relu', input_shape=(28,28,1)))\n",
    "model8.add(Conv2D(filters=16, kernel_size=(3, 3), activation='relu'))\n",
    "model8.add(Flatten())\n",
    "model8.add(Dense(10,activation = 'softmax'))\n",
    "\n",
    "model8.compile(optimizer='adam',loss='mean_squared_error',metrics=['accuracy'])\n",
    "\n",
    "model8.fit(X_train,y_train,epochs=5)"
   ]
  },
  {
   "cell_type": "code",
   "execution_count": null,
   "id": "e3b85326",
   "metadata": {},
   "outputs": [],
   "source": [
    "score = model8.evaluate(X_test, y_test, verbose=0)\n",
    "print(\"loss :\", score[0])\n",
    "print(\"accuracy :\",score[1])"
   ]
  },
  {
   "cell_type": "code",
   "execution_count": null,
   "id": "9d2e30e2",
   "metadata": {},
   "outputs": [],
   "source": [
    "model9 = Sequential()\n",
    "model9.add(Conv2D(filters=16, kernel_size=(5, 5), activation='relu', input_shape=(28,28,1)))\n",
    "model9.add(Conv2D(filters=16, kernel_size=(5, 5), activation='relu'))\n",
    "model9.add(Flatten())\n",
    "model9.add(Dense(10,activation = 'softmax'))\n",
    "\n",
    "model9.compile(optimizer='adam',loss='mean_squared_error',metrics=['accuracy'])\n",
    "\n",
    "model9.fit(X_train,y_train,epochs=5)"
   ]
  },
  {
   "cell_type": "code",
   "execution_count": null,
   "id": "4871d4bc",
   "metadata": {},
   "outputs": [],
   "source": [
    "score = model9.evaluate(X_test, y_test, verbose=0)\n",
    "print(\"loss :\", score[0])\n",
    "print(\"accuracy :\",score[1])"
   ]
  },
  {
   "cell_type": "code",
   "execution_count": null,
   "id": "10473636",
   "metadata": {},
   "outputs": [],
   "source": [
    "model10 = Sequential()\n",
    "model10.add(Conv2D(filters=16, kernel_size=(7, 7), activation='relu', input_shape=(28,28,1)))\n",
    "model10.add(Conv2D(filters=16, kernel_size=(7, 7), activation='relu'))\n",
    "model10.add(Flatten())\n",
    "model10.add(Dense(10,activation = 'softmax'))\n",
    "\n",
    "model10.compile(optimizer='adam',loss='mean_squared_error',metrics=['accuracy'])\n",
    "\n",
    "model10.fit(X_train,y_train,epochs=5)"
   ]
  },
  {
   "cell_type": "code",
   "execution_count": null,
   "id": "6666d30c",
   "metadata": {},
   "outputs": [],
   "source": [
    "score = model10.evaluate(X_test, y_test, verbose=0)\n",
    "print(\"loss :\", score[0])\n",
    "print(\"accuracy :\",score[1])"
   ]
  },
  {
   "cell_type": "markdown",
   "id": "4978215b",
   "metadata": {},
   "source": [
    "#### 4. Activation function:"
   ]
  },
  {
   "cell_type": "code",
   "execution_count": null,
   "id": "048aab1d",
   "metadata": {},
   "outputs": [],
   "source": [
    "model11 = Sequential()\n",
    "model11.add(Conv2D(filters=16, kernel_size=(5, 5), activation='sigmoid', input_shape=(28,28,1)))\n",
    "model11.add(Conv2D(filters=16, kernel_size=(5, 5), activation='sigmoid'))\n",
    "model11.add(Flatten())\n",
    "model11.add(Dense(10,activation = 'sigmoid'))\n",
    "\n",
    "model11.compile(optimizer='adam',loss='mean_squared_error',metrics=['accuracy'])\n",
    "\n",
    "model11.fit(X_train,y_train,epochs=5)"
   ]
  },
  {
   "cell_type": "code",
   "execution_count": null,
   "id": "74536850",
   "metadata": {},
   "outputs": [],
   "source": [
    "model11 = Sequential()\n",
    "model11.add(Conv2D(filters=16, kernel_size=(5, 5), activation='tanh', input_shape=(28,28,1)))\n",
    "model11.add(Conv2D(filters=16, kernel_size=(5, 5), activation='tanh'))\n",
    "model11.add(Flatten())\n",
    "model11.add(Dense(10,activation = 'tanh'))\n",
    "\n",
    "model11.compile(optimizer='adam',loss='mean_squared_error',metrics=['accuracy'])\n",
    "\n",
    "model11.fit(X_train,y_train,epochs=5)"
   ]
  },
  {
   "cell_type": "code",
   "execution_count": null,
   "id": "bb9471cc",
   "metadata": {},
   "outputs": [],
   "source": [
    "model11 = Sequential()\n",
    "model11.add(Conv2D(filters=16, kernel_size=(5, 5), activation='sigmoid', input_shape=(28,28,1)))\n",
    "model11.add(Conv2D(filters=16, kernel_size=(5, 5), activation='sigmoid'))\n",
    "model11.add(Flatten())\n",
    "model11.add(Dense(10,activation = 'sigmoid'))\n",
    "\n",
    "model11.compile(optimizer='adam',loss='mean_squared_error',metrics=['accuracy'])\n",
    "\n",
    "model11.fit(X_train,y_train,epochs=5)"
   ]
  },
  {
   "cell_type": "code",
   "execution_count": null,
   "id": "a0f368d0",
   "metadata": {},
   "outputs": [],
   "source": []
  },
  {
   "cell_type": "code",
   "execution_count": null,
   "id": "4eebde9f",
   "metadata": {},
   "outputs": [],
   "source": []
  }
 ],
 "metadata": {
  "kernelspec": {
   "display_name": "Python 3",
   "language": "python",
   "name": "python3"
  },
  "language_info": {
   "codemirror_mode": {
    "name": "ipython",
    "version": 3
   },
   "file_extension": ".py",
   "mimetype": "text/x-python",
   "name": "python",
   "nbconvert_exporter": "python",
   "pygments_lexer": "ipython3",
   "version": "3.11.4"
  }
 },
 "nbformat": 4,
 "nbformat_minor": 5
}
