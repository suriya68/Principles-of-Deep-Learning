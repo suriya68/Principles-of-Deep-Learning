{
 "cells": [
  {
   "cell_type": "markdown",
   "metadata": {
    "id": "HT8darXeHuw5"
   },
   "source": [
    "# Image corpus creation and Transfer Learning in CNN"
   ]
  },
  {
   "cell_type": "markdown",
   "metadata": {},
   "source": [
    "### Suriya S (225229140)"
   ]
  },
  {
   "cell_type": "markdown",
   "metadata": {
    "id": "7OJ-4BNtIIcx"
   },
   "source": [
    "**Steps**"
   ]
  },
  {
   "cell_type": "markdown",
   "metadata": {
    "id": "2Fcxt9vfIOpZ"
   },
   "source": [
    "### 1. Import the necessary libraries"
   ]
  },
  {
   "cell_type": "code",
   "execution_count": 65,
   "metadata": {
    "id": "-cdvSIFOHn_w"
   },
   "outputs": [],
   "source": [
    "import datetime\n",
    "import keras\n",
    "import pandas as pd\n",
    "from keras.datasets import mnist\n",
    "from keras.models import Sequential\n",
    "from keras.layers import Dense, Dropout, Activation, Flatten\n",
    "from keras.layers import Conv2D, MaxPooling2D"
   ]
  },
  {
   "cell_type": "markdown",
   "metadata": {
    "id": "GjGNTEuoIs4a"
   },
   "source": [
    "### 2. Initialize some parameters"
   ]
  },
  {
   "cell_type": "code",
   "execution_count": 20,
   "metadata": {
    "id": "X8VIj_zlIBLE"
   },
   "outputs": [],
   "source": [
    "now = datetime.datetime.now  #get current time\n",
    "\n",
    "batch_size = 128\n",
    "num_classes = 5\n",
    "epochs = 5\n",
    "\n",
    "img_rows, img_cols = 28, 28\n",
    "filters = 32\n",
    "pool_size = 2\n",
    "kernel_size = 3"
   ]
  },
  {
   "cell_type": "markdown",
   "metadata": {
    "id": "ewCl7Z9XJHli"
   },
   "source": [
    "### 3.Partition MINST dataset"
   ]
  },
  {
   "cell_type": "code",
   "execution_count": 5,
   "metadata": {
    "colab": {
     "base_uri": "https://localhost:8080/",
     "height": 0
    },
    "id": "4YUeEa9PJFzf",
    "outputId": "a044a5ca-60cb-4aea-b4ed-23f5bcb01acb"
   },
   "outputs": [
    {
     "name": "stdout",
     "output_type": "stream",
     "text": [
      "Downloading data from https://storage.googleapis.com/tensorflow/tf-keras-datasets/mnist.npz\n",
      "11493376/11490434 [==============================] - 0s 0us/step\n",
      "11501568/11490434 [==============================] - 0s 0us/step\n"
     ]
    }
   ],
   "source": [
    "#data, shuffled and split between train and test sets\n",
    "\n",
    "(x_train, y_train), (x_test, y_test) = mnist.load_data()"
   ]
  },
  {
   "cell_type": "code",
   "execution_count": 24,
   "metadata": {
    "id": "giFE5CoVJcbq"
   },
   "outputs": [],
   "source": [
    "#create 2 datasets: one with digits below 5 and one with 5 and above\n",
    "\n",
    "x_train_lt5 = x_train[y_train < 5]\n",
    "y_train_lt5 = y_train[y_train < 5]\n",
    "x_test_lt5 = x_test[y_test < 5]\n",
    "y_test_lt5 = y_test[y_test < 5]\n",
    "\n",
    "x_train_gte5 = x_train[y_train >= 5]\n",
    "y_train_gte5 = y_train[y_train >= 5] - 5\n",
    "x_test_gte5 = x_test[y_test >= 5]\n",
    "y_test_gte5 = y_test[y_test >= 5] - 5"
   ]
  },
  {
   "cell_type": "code",
   "execution_count": 25,
   "metadata": {
    "colab": {
     "base_uri": "https://localhost:8080/",
     "height": 0
    },
    "id": "ysHZajAoNKPu",
    "outputId": "c5986276-043d-4772-b610-beb3b10c34e1"
   },
   "outputs": [
    {
     "data": {
      "text/plain": [
       "(30596, 28, 28)"
      ]
     },
     "execution_count": 25,
     "metadata": {},
     "output_type": "execute_result"
    }
   ],
   "source": [
    "x_train_lt5.shape"
   ]
  },
  {
   "cell_type": "code",
   "execution_count": 26,
   "metadata": {
    "colab": {
     "base_uri": "https://localhost:8080/",
     "height": 0
    },
    "id": "QF739G1KNKxd",
    "outputId": "a3724a90-bc95-4614-9e14-3d07cae781b3"
   },
   "outputs": [
    {
     "data": {
      "text/plain": [
       "(29404, 28, 28)"
      ]
     },
     "execution_count": 26,
     "metadata": {},
     "output_type": "execute_result"
    }
   ],
   "source": [
    "x_train_gte5.shape"
   ]
  },
  {
   "cell_type": "markdown",
   "metadata": {
    "id": "dRRxzMYEKorJ"
   },
   "source": [
    "### 4. Define the \"feature\" layers"
   ]
  },
  {
   "cell_type": "code",
   "execution_count": 55,
   "metadata": {
    "id": "LwpzRGXlKm1S"
   },
   "outputs": [],
   "source": [
    "feature_layers =[ \n",
    "    Conv2D(filters, kernel_size = (3,3), activation = 'relu',padding='same',input_shape = (img_rows,img_cols, 1)),\n",
    "    Conv2D(filters, kernel_size = (3,3), activation = 'relu'),\n",
    "    MaxPooling2D(pool_size=2),\n",
    "    Dropout(0.25),\n",
    "    Flatten() \n",
    "]"
   ]
  },
  {
   "cell_type": "markdown",
   "metadata": {
    "id": "VKg0WQX4Oadq"
   },
   "source": [
    "### 5. Define the \"classification\" layers"
   ]
  },
  {
   "cell_type": "code",
   "execution_count": 56,
   "metadata": {
    "id": "Zoceo7xoLJ1t"
   },
   "outputs": [],
   "source": [
    "classification_layers = [\n",
    "    Dense(128, activation = 'relu'),\n",
    "    Dropout(0.5),\n",
    "    Dense(num_classes, activation = 'softmax')\n",
    "]"
   ]
  },
  {
   "cell_type": "markdown",
   "metadata": {
    "id": "ogppmV8PP68Q"
   },
   "source": [
    "### 6. Define a Sequential model"
   ]
  },
  {
   "cell_type": "code",
   "execution_count": 57,
   "metadata": {
    "colab": {
     "base_uri": "https://localhost:8080/",
     "height": 0
    },
    "id": "72oHEJ7zOY5L",
    "outputId": "96b0bd03-ba6a-4451-fc0c-387e809f48b7"
   },
   "outputs": [
    {
     "name": "stdout",
     "output_type": "stream",
     "text": [
      "Model: \"sequential_6\"\n",
      "_________________________________________________________________\n",
      " Layer (type)                Output Shape              Param #   \n",
      "=================================================================\n",
      " conv2d_15 (Conv2D)          (None, 28, 28, 32)        320       \n",
      "                                                                 \n",
      " conv2d_16 (Conv2D)          (None, 26, 26, 32)        9248      \n",
      "                                                                 \n",
      " max_pooling2d_7 (MaxPooling  (None, 13, 13, 32)       0         \n",
      " 2D)                                                             \n",
      "                                                                 \n",
      " dropout_16 (Dropout)        (None, 13, 13, 32)        0         \n",
      "                                                                 \n",
      " flatten_7 (Flatten)         (None, 5408)              0         \n",
      "                                                                 \n",
      " dense_17 (Dense)            (None, 128)               692352    \n",
      "                                                                 \n",
      " dropout_17 (Dropout)        (None, 128)               0         \n",
      "                                                                 \n",
      " dense_18 (Dense)            (None, 5)                 645       \n",
      "                                                                 \n",
      "=================================================================\n",
      "Total params: 702,565\n",
      "Trainable params: 702,565\n",
      "Non-trainable params: 0\n",
      "_________________________________________________________________\n"
     ]
    }
   ],
   "source": [
    "model = Sequential(feature_layers+classification_layers)\n",
    "model.summary()"
   ]
  },
  {
   "cell_type": "markdown",
   "metadata": {
    "id": "2Uyui4yMSvRe"
   },
   "source": [
    "### 7. Create function train_model()"
   ]
  },
  {
   "cell_type": "code",
   "execution_count": 66,
   "metadata": {
    "id": "r5QT7BxJQMGJ"
   },
   "outputs": [],
   "source": [
    "def train_model(model,train,test,num_classes):\n",
    "    train[0] = train[0].reshape(train[0].shape[0],img_rows,img_cols,1)\n",
    "    test[0] = test[0].reshape(test[0].shape[0],img_rows,img_cols,1)\n",
    "\n",
    "    train[0] = train[0].astype('float32')\n",
    "    test[0] = test[0].astype('float32')\n",
    "\n",
    "    train[0] /= 255\n",
    "    test[0] /= 255\n",
    "\n",
    "    print(train[0].shape)\n",
    "    print(test[0].shape)\n",
    " \n",
    "    s = pd.Series(train[1])\n",
    "    train[1] = pd.get_dummies(s)\n",
    "    train[1] = train[1].values\n",
    "\n",
    "    s = pd.Series(test[1])\n",
    "    test[1] = pd.get_dummies(s)\n",
    "    test[1] = test[1].values\n",
    "\n",
    "    model.compile(optimizer='adadelta',loss='categorical_crossentropy',metrics=['accuracy'])\n",
    "\n",
    "    train_start_time=now()\n",
    "\n",
    "    model.fit(train[0],train[1],epochs=epochs,verbose=2)\n",
    "  \n",
    "    print('\\n')\n",
    "    print('\\n')\n",
    "\n",
    "    print('Training time: %s' % (now() - train_start_time))\n",
    "\n",
    "    score=model.evaluate(test[0],test[1],verbose=0)\n",
    "\n",
    "    print('test loss ',score[0])\n",
    "    print('test accuracy ',score[1])"
   ]
  },
  {
   "cell_type": "markdown",
   "metadata": {
    "id": "cEOaU0Z2VRS-"
   },
   "source": [
    "### 8. Training on digits 5 to 9"
   ]
  },
  {
   "cell_type": "code",
   "execution_count": 67,
   "metadata": {
    "colab": {
     "base_uri": "https://localhost:8080/",
     "height": 0
    },
    "id": "f92zII7hVOGm",
    "outputId": "4516eb68-f1f5-4a9a-99ea-52f6c008e520"
   },
   "outputs": [
    {
     "name": "stdout",
     "output_type": "stream",
     "text": [
      "(29404, 28, 28, 1)\n",
      "(4861, 28, 28, 1)\n",
      "Epoch 1/5\n",
      "919/919 - 58s - loss: 1.5841 - accuracy: 0.2836 - 58s/epoch - 63ms/step\n",
      "Epoch 2/5\n",
      "919/919 - 56s - loss: 1.5033 - accuracy: 0.4696 - 56s/epoch - 61ms/step\n",
      "Epoch 3/5\n",
      "919/919 - 56s - loss: 1.4056 - accuracy: 0.5872 - 56s/epoch - 60ms/step\n",
      "Epoch 4/5\n",
      "919/919 - 57s - loss: 1.2817 - accuracy: 0.6525 - 57s/epoch - 63ms/step\n",
      "Epoch 5/5\n",
      "919/919 - 56s - loss: 1.1352 - accuracy: 0.7077 - 56s/epoch - 61ms/step\n",
      "\n",
      "\n",
      "\n",
      "\n",
      "Training time: 0:04:43.643675\n",
      "test loss  0.997369647026062\n",
      "test accuracy  0.843036413192749\n"
     ]
    }
   ],
   "source": [
    "train_model(model, [x_train_gte5, y_train_gte5], [x_test_gte5, y_test_gte5],num_classes)"
   ]
  },
  {
   "cell_type": "markdown",
   "metadata": {
    "id": "Law53Lx0XvSz"
   },
   "source": [
    "### 9. Freeze Feature Layers"
   ]
  },
  {
   "cell_type": "code",
   "execution_count": 68,
   "metadata": {
    "id": "c9l979Z8V3EO"
   },
   "outputs": [],
   "source": [
    "#Freeze only the feature layers\n",
    "\n",
    "for l in feature_layers:\n",
    "  l.trainable = False"
   ]
  },
  {
   "cell_type": "markdown",
   "metadata": {
    "id": "gDUsNN3aYDdz"
   },
   "source": [
    "### 10. Print Summary"
   ]
  },
  {
   "cell_type": "code",
   "execution_count": 71,
   "metadata": {
    "colab": {
     "base_uri": "https://localhost:8080/",
     "height": 0
    },
    "id": "jVF7125YYA_z",
    "outputId": "3b9fe09d-8c7d-41ca-e131-bc12b9e2f0bd"
   },
   "outputs": [
    {
     "name": "stdout",
     "output_type": "stream",
     "text": [
      "Model: \"sequential_6\"\n",
      "_________________________________________________________________\n",
      " Layer (type)                Output Shape              Param #   \n",
      "=================================================================\n",
      " conv2d_15 (Conv2D)          (None, 28, 28, 32)        320       \n",
      "                                                                 \n",
      " conv2d_16 (Conv2D)          (None, 26, 26, 32)        9248      \n",
      "                                                                 \n",
      " max_pooling2d_7 (MaxPooling  (None, 13, 13, 32)       0         \n",
      " 2D)                                                             \n",
      "                                                                 \n",
      " dropout_16 (Dropout)        (None, 13, 13, 32)        0         \n",
      "                                                                 \n",
      " flatten_7 (Flatten)         (None, 5408)              0         \n",
      "                                                                 \n",
      " dense_17 (Dense)            (None, 128)               692352    \n",
      "                                                                 \n",
      " dropout_17 (Dropout)        (None, 128)               0         \n",
      "                                                                 \n",
      " dense_18 (Dense)            (None, 5)                 645       \n",
      "                                                                 \n",
      "=================================================================\n",
      "Total params: 702,565\n",
      "Trainable params: 692,997\n",
      "Non-trainable params: 9,568\n",
      "_________________________________________________________________\n"
     ]
    }
   ],
   "source": [
    "model.summary()"
   ]
  },
  {
   "cell_type": "markdown",
   "metadata": {
    "id": "tNRKVMo-YuxF"
   },
   "source": [
    "### 11. Training for digits 0 to 4 based on digits 5 to 9"
   ]
  },
  {
   "cell_type": "code",
   "execution_count": 72,
   "metadata": {
    "colab": {
     "base_uri": "https://localhost:8080/",
     "height": 0
    },
    "id": "SOEunPWcYhz0",
    "outputId": "74d078e0-ff83-4c39-8baf-eef0621d2750"
   },
   "outputs": [
    {
     "name": "stdout",
     "output_type": "stream",
     "text": [
      "(30596, 28, 28, 1)\n",
      "(5139, 28, 28, 1)\n",
      "Epoch 1/5\n",
      "957/957 - 19s - loss: 1.4384 - accuracy: 0.4137 - 19s/epoch - 20ms/step\n",
      "Epoch 2/5\n",
      "957/957 - 18s - loss: 1.2196 - accuracy: 0.6080 - 18s/epoch - 19ms/step\n",
      "Epoch 3/5\n",
      "957/957 - 18s - loss: 1.0473 - accuracy: 0.7366 - 18s/epoch - 19ms/step\n",
      "Epoch 4/5\n",
      "957/957 - 18s - loss: 0.9139 - accuracy: 0.7984 - 18s/epoch - 19ms/step\n",
      "Epoch 5/5\n",
      "957/957 - 20s - loss: 0.8066 - accuracy: 0.8298 - 20s/epoch - 21ms/step\n",
      "\n",
      "\n",
      "\n",
      "\n",
      "Training time: 0:01:33.398016\n",
      "test loss  0.6758227944374084\n",
      "test accuracy  0.9073749780654907\n"
     ]
    }
   ],
   "source": [
    "train_model(model, [x_train_lt5, y_train_1t5], [x_test_1t5, y_test_lt5], num_classes)"
   ]
  },
  {
   "cell_type": "markdown",
   "metadata": {
    "id": "STH-IzA5bFX4"
   },
   "source": [
    "### 12. Reversing the training process"
   ]
  },
  {
   "cell_type": "code",
   "execution_count": 73,
   "metadata": {
    "colab": {
     "base_uri": "https://localhost:8080/",
     "height": 0
    },
    "id": "wyg-OpD0ZjN6",
    "outputId": "0941fb4b-9ac5-4e3c-8df1-c7cc53a8cfcd"
   },
   "outputs": [
    {
     "name": "stdout",
     "output_type": "stream",
     "text": [
      "Model: \"sequential_7\"\n",
      "_________________________________________________________________\n",
      " Layer (type)                Output Shape              Param #   \n",
      "=================================================================\n",
      " conv2d_15 (Conv2D)          (None, 28, 28, 32)        320       \n",
      "                                                                 \n",
      " conv2d_16 (Conv2D)          (None, 26, 26, 32)        9248      \n",
      "                                                                 \n",
      " max_pooling2d_7 (MaxPooling  (None, 13, 13, 32)       0         \n",
      " 2D)                                                             \n",
      "                                                                 \n",
      " dropout_16 (Dropout)        (None, 13, 13, 32)        0         \n",
      "                                                                 \n",
      " flatten_7 (Flatten)         (None, 5408)              0         \n",
      "                                                                 \n",
      " dense_17 (Dense)            (None, 128)               692352    \n",
      "                                                                 \n",
      " dropout_17 (Dropout)        (None, 128)               0         \n",
      "                                                                 \n",
      " dense_18 (Dense)            (None, 5)                 645       \n",
      "                                                                 \n",
      "=================================================================\n",
      "Total params: 702,565\n",
      "Trainable params: 692,997\n",
      "Non-trainable params: 9,568\n",
      "_________________________________________________________________\n"
     ]
    }
   ],
   "source": [
    "modelReverse = Sequential(feature_layers+classification_layers)\n",
    "modelReverse.summary()"
   ]
  },
  {
   "cell_type": "code",
   "execution_count": 75,
   "metadata": {
    "colab": {
     "base_uri": "https://localhost:8080/",
     "height": 0
    },
    "id": "D76TacU0bbSL",
    "outputId": "37979f43-fafb-49e0-ea7b-e7647704bded"
   },
   "outputs": [
    {
     "name": "stdout",
     "output_type": "stream",
     "text": [
      "(30596, 28, 28, 1)\n",
      "(5139, 28, 28, 1)\n",
      "Epoch 1/5\n",
      "957/957 - 19s - loss: 0.7184 - accuracy: 0.8522 - 19s/epoch - 20ms/step\n",
      "Epoch 2/5\n",
      "957/957 - 22s - loss: 0.6465 - accuracy: 0.8680 - 22s/epoch - 23ms/step\n",
      "Epoch 3/5\n",
      "957/957 - 18s - loss: 0.5894 - accuracy: 0.8777 - 18s/epoch - 19ms/step\n",
      "Epoch 4/5\n",
      "957/957 - 19s - loss: 0.5424 - accuracy: 0.8850 - 19s/epoch - 20ms/step\n",
      "Epoch 5/5\n",
      "957/957 - 20s - loss: 0.5039 - accuracy: 0.8911 - 20s/epoch - 21ms/step\n",
      "\n",
      "\n",
      "\n",
      "\n",
      "Training time: 0:01:38.502933\n",
      "test loss  0.39636582136154175\n",
      "test accuracy  0.9394823908805847\n"
     ]
    }
   ],
   "source": [
    "train_model(modelReverse, [x_train_lt5, y_train_1t5], [x_test_1t5, y_test_lt5], num_classes)"
   ]
  },
  {
   "cell_type": "code",
   "execution_count": null,
   "metadata": {
    "id": "Gp9lzHNobhxL"
   },
   "outputs": [],
   "source": [
    "#Freeze only the feature layers\n",
    "\n",
    "for l in feature_layers:\n",
    "  l.trainable = False"
   ]
  },
  {
   "cell_type": "code",
   "execution_count": 78,
   "metadata": {
    "colab": {
     "base_uri": "https://localhost:8080/",
     "height": 0
    },
    "id": "NLK70gDibqAl",
    "outputId": "2e315aa3-750f-4c1c-b7c7-8fe42a223c76"
   },
   "outputs": [
    {
     "name": "stdout",
     "output_type": "stream",
     "text": [
      "Model: \"sequential_7\"\n",
      "_________________________________________________________________\n",
      " Layer (type)                Output Shape              Param #   \n",
      "=================================================================\n",
      " conv2d_15 (Conv2D)          (None, 28, 28, 32)        320       \n",
      "                                                                 \n",
      " conv2d_16 (Conv2D)          (None, 26, 26, 32)        9248      \n",
      "                                                                 \n",
      " max_pooling2d_7 (MaxPooling  (None, 13, 13, 32)       0         \n",
      " 2D)                                                             \n",
      "                                                                 \n",
      " dropout_16 (Dropout)        (None, 13, 13, 32)        0         \n",
      "                                                                 \n",
      " flatten_7 (Flatten)         (None, 5408)              0         \n",
      "                                                                 \n",
      " dense_17 (Dense)            (None, 128)               692352    \n",
      "                                                                 \n",
      " dropout_17 (Dropout)        (None, 128)               0         \n",
      "                                                                 \n",
      " dense_18 (Dense)            (None, 5)                 645       \n",
      "                                                                 \n",
      "=================================================================\n",
      "Total params: 702,565\n",
      "Trainable params: 692,997\n",
      "Non-trainable params: 9,568\n",
      "_________________________________________________________________\n"
     ]
    }
   ],
   "source": [
    "modelReverse.summary()"
   ]
  },
  {
   "cell_type": "code",
   "execution_count": 77,
   "metadata": {
    "colab": {
     "base_uri": "https://localhost:8080/",
     "height": 0
    },
    "id": "RQaM0Vbybrml",
    "outputId": "cee0828a-cbcc-4a42-9342-f8632f9c4ce8"
   },
   "outputs": [
    {
     "name": "stdout",
     "output_type": "stream",
     "text": [
      "(29404, 28, 28, 1)\n",
      "(4861, 28, 28, 1)\n",
      "Epoch 1/5\n",
      "919/919 - 18s - loss: 1.2907 - accuracy: 0.4943 - 18s/epoch - 20ms/step\n",
      "Epoch 2/5\n",
      "919/919 - 18s - loss: 1.1162 - accuracy: 0.5713 - 18s/epoch - 19ms/step\n",
      "Epoch 3/5\n",
      "919/919 - 19s - loss: 0.9863 - accuracy: 0.6439 - 19s/epoch - 21ms/step\n",
      "Epoch 4/5\n",
      "919/919 - 18s - loss: 0.8917 - accuracy: 0.6925 - 18s/epoch - 20ms/step\n",
      "Epoch 5/5\n",
      "919/919 - 18s - loss: 0.8212 - accuracy: 0.7285 - 18s/epoch - 19ms/step\n",
      "\n",
      "\n",
      "\n",
      "\n",
      "Training time: 0:01:30.628136\n",
      "test loss  0.6975718140602112\n",
      "test accuracy  0.7988068461418152\n"
     ]
    }
   ],
   "source": [
    "train_model(modelReverse, [x_train_gte5, y_train_gte5], [x_test_gte5, y_test_gte5],num_classes)"
   ]
  }
 ],
 "metadata": {
  "colab": {
   "provenance": []
  },
  "kernelspec": {
   "display_name": "Python 3",
   "language": "python",
   "name": "python3"
  },
  "language_info": {
   "codemirror_mode": {
    "name": "ipython",
    "version": 3
   },
   "file_extension": ".py",
   "mimetype": "text/x-python",
   "name": "python",
   "nbconvert_exporter": "python",
   "pygments_lexer": "ipython3",
   "version": "3.11.4"
  }
 },
 "nbformat": 4,
 "nbformat_minor": 1
}
