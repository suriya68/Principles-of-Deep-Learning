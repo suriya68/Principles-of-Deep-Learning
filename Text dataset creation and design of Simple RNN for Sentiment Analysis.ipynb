{
 "cells": [
  {
   "cell_type": "markdown",
   "id": "1eef868a",
   "metadata": {},
   "source": [
    "# Lab15. Text dataset creation and design of Simple RNN for Sentiment Analysis"
   ]
  },
  {
   "cell_type": "markdown",
   "id": "72809e97",
   "metadata": {},
   "source": [
    "### Suriya S (225229140)"
   ]
  },
  {
   "cell_type": "markdown",
   "id": "3724a977",
   "metadata": {},
   "source": [
    "##### 1. Import libraries"
   ]
  },
  {
   "cell_type": "code",
   "execution_count": 1,
   "id": "4ce3b63c",
   "metadata": {},
   "outputs": [],
   "source": [
    "import csv\n",
    "import tensorflow as tf\n",
    "import numpy as np\n",
    "import pandas as pd\n",
    "import matplotlib.pyplot as plt\n",
    "from tensorflow.keras.preprocessing.text import Tokenizer\n",
    "from tensorflow.keras.preprocessing.sequence import pad_sequences"
   ]
  },
  {
   "cell_type": "code",
   "execution_count": 2,
   "id": "9c444102",
   "metadata": {},
   "outputs": [],
   "source": [
    "from keras.models import Sequential\n",
    "from keras.layers import Dense, Embedding,SimpleRNN"
   ]
  },
  {
   "cell_type": "code",
   "execution_count": 3,
   "id": "360d37cb",
   "metadata": {},
   "outputs": [
    {
     "name": "stderr",
     "output_type": "stream",
     "text": [
      "[nltk_data] Downloading package stopwords to\n",
      "[nltk_data]     C:\\Users\\online\\AppData\\Roaming\\nltk_data...\n",
      "[nltk_data]   Package stopwords is already up-to-date!\n"
     ]
    },
    {
     "data": {
      "text/plain": [
       "True"
      ]
     },
     "execution_count": 3,
     "metadata": {},
     "output_type": "execute_result"
    }
   ],
   "source": [
    "import nltk\n",
    "nltk.download('stopwords')"
   ]
  },
  {
   "cell_type": "code",
   "execution_count": 4,
   "id": "5e59e9be",
   "metadata": {},
   "outputs": [],
   "source": [
    "from nltk.corpus import stopwords\n",
    "\n",
    "STOPWORDS = set(stopwords.words('english'))"
   ]
  },
  {
   "cell_type": "markdown",
   "id": "97c95b4c",
   "metadata": {},
   "source": [
    "##### 2. Creation of data"
   ]
  },
  {
   "cell_type": "code",
   "execution_count": 5,
   "id": "157692a3",
   "metadata": {},
   "outputs": [],
   "source": [
    "df = pd.read_csv(\"quotes.csv\",encoding=\"ISO-8859-1\")"
   ]
  },
  {
   "cell_type": "code",
   "execution_count": 6,
   "id": "77797b57",
   "metadata": {},
   "outputs": [
    {
     "data": {
      "text/html": [
       "<div>\n",
       "<style scoped>\n",
       "    .dataframe tbody tr th:only-of-type {\n",
       "        vertical-align: middle;\n",
       "    }\n",
       "\n",
       "    .dataframe tbody tr th {\n",
       "        vertical-align: top;\n",
       "    }\n",
       "\n",
       "    .dataframe thead th {\n",
       "        text-align: right;\n",
       "    }\n",
       "</style>\n",
       "<table border=\"1\" class=\"dataframe\">\n",
       "  <thead>\n",
       "    <tr style=\"text-align: right;\">\n",
       "      <th></th>\n",
       "      <th>Text</th>\n",
       "      <th>Label</th>\n",
       "    </tr>\n",
       "  </thead>\n",
       "  <tbody>\n",
       "    <tr>\n",
       "      <th>0</th>\n",
       "      <td>Today I give thanks to everyone who has been p...</td>\n",
       "      <td>1</td>\n",
       "    </tr>\n",
       "    <tr>\n",
       "      <th>1</th>\n",
       "      <td>Nothing is particularly hard if you break it d...</td>\n",
       "      <td>1</td>\n",
       "    </tr>\n",
       "    <tr>\n",
       "      <th>2</th>\n",
       "      <td>Go confidently in the direction of your dreams...</td>\n",
       "      <td>1</td>\n",
       "    </tr>\n",
       "    <tr>\n",
       "      <th>3</th>\n",
       "      <td>If you change your mindset, you have the abili...</td>\n",
       "      <td>1</td>\n",
       "    </tr>\n",
       "    <tr>\n",
       "      <th>4</th>\n",
       "      <td>All our dreams can come true if we have the co...</td>\n",
       "      <td>1</td>\n",
       "    </tr>\n",
       "  </tbody>\n",
       "</table>\n",
       "</div>"
      ],
      "text/plain": [
       "                                                Text  Label\n",
       "0  Today I give thanks to everyone who has been p...      1\n",
       "1  Nothing is particularly hard if you break it d...      1\n",
       "2  Go confidently in the direction of your dreams...      1\n",
       "3  If you change your mindset, you have the abili...      1\n",
       "4  All our dreams can come true if we have the co...      1"
      ]
     },
     "execution_count": 6,
     "metadata": {},
     "output_type": "execute_result"
    }
   ],
   "source": [
    "df.head()"
   ]
  },
  {
   "cell_type": "markdown",
   "id": "1cf55821",
   "metadata": {},
   "source": [
    "##### 3. Opening your CSV file"
   ]
  },
  {
   "cell_type": "code",
   "execution_count": 7,
   "id": "f93c2254",
   "metadata": {},
   "outputs": [],
   "source": [
    "import csv"
   ]
  },
  {
   "cell_type": "code",
   "execution_count": 8,
   "id": "21eacf83",
   "metadata": {},
   "outputs": [
    {
     "data": {
      "text/plain": [
       "_io.TextIOWrapper"
      ]
     },
     "execution_count": 8,
     "metadata": {},
     "output_type": "execute_result"
    }
   ],
   "source": [
    "file = open('quotes.csv')\n",
    "\n",
    "type(file)"
   ]
  },
  {
   "cell_type": "code",
   "execution_count": 9,
   "id": "907323b2",
   "metadata": {},
   "outputs": [],
   "source": [
    "csvreader = csv.reader(file)"
   ]
  },
  {
   "cell_type": "code",
   "execution_count": 10,
   "id": "484104ae",
   "metadata": {},
   "outputs": [
    {
     "data": {
      "text/plain": [
       "['Text', 'Label']"
      ]
     },
     "execution_count": 10,
     "metadata": {},
     "output_type": "execute_result"
    }
   ],
   "source": [
    "header = []\n",
    "header = next(csvreader)\n",
    "header"
   ]
  },
  {
   "cell_type": "code",
   "execution_count": 11,
   "id": "028fa897",
   "metadata": {},
   "outputs": [
    {
     "data": {
      "text/plain": [
       "[[\"Today I give thanks to everyone who has been part of my life's journey.\",\n",
       "  '1'],\n",
       " ['Nothing is particularly hard if you break it down into small jobs.', '1'],\n",
       " ['Go confidently in the direction of your dreams. Live the life you have imagined.',\n",
       "  '1'],\n",
       " ['If you change your mindset, you have the ability to change your whole world.',\n",
       "  '1'],\n",
       " ['All our dreams can come true if we have the courage to pursue them.', '1'],\n",
       " ['The key to success is to focus on goals, not obstacles.', '1'],\n",
       " ['All things are difficult before they are easy.', '1'],\n",
       " ['The best views comes after the hardest climb.', '1'],\n",
       " ['Life is not a problem to be solved, but a reality to be experienced.', '1'],\n",
       " ['Life is either daring Adventure or Nothing at all.', '1'],\n",
       " ['Negative People will always criticize.', '0'],\n",
       " ['People who have no life will always try to start drama in yours.', '0'],\n",
       " ['A Person who only thinks negatively will never move forward', '0'],\n",
       " [\"While you can't control someone's negative behaviour , you can control how long you participate in it\",\n",
       "  '0'],\n",
       " [\"Don't be a victim of negative self talk - remember you are listening.\",\n",
       "  '0'],\n",
       " [\"Whatever you do good or bad people will always have something negative to say about you and that's life\",\n",
       "  '0'],\n",
       " ['We lost because we told ourselves we lost', '0'],\n",
       " [\"Don't  walk away from negative people just run\", '0'],\n",
       " [\"Once you replace negative thoughts with positive ones,you'll\", '0'],\n",
       " ['Believing in negative thoughts is the single greatest obstruction to success',\n",
       "  '0']]"
      ]
     },
     "execution_count": 11,
     "metadata": {},
     "output_type": "execute_result"
    }
   ],
   "source": [
    "rows = []\n",
    "for row in csvreader:\n",
    "        rows.append(row)\n",
    "rows"
   ]
  },
  {
   "cell_type": "code",
   "execution_count": 12,
   "id": "43858032",
   "metadata": {},
   "outputs": [],
   "source": [
    "file.close()"
   ]
  },
  {
   "cell_type": "code",
   "execution_count": 13,
   "id": "cefa5678",
   "metadata": {},
   "outputs": [
    {
     "name": "stdout",
     "output_type": "stream",
     "text": [
      "<class 'pandas.core.frame.DataFrame'>\n",
      "RangeIndex: 20 entries, 0 to 19\n",
      "Data columns (total 2 columns):\n",
      " #   Column  Non-Null Count  Dtype \n",
      "---  ------  --------------  ----- \n",
      " 0   Text    20 non-null     object\n",
      " 1   Label   20 non-null     int64 \n",
      "dtypes: int64(1), object(1)\n",
      "memory usage: 448.0+ bytes\n"
     ]
    }
   ],
   "source": [
    "df.info()"
   ]
  },
  {
   "cell_type": "markdown",
   "id": "f90c8870",
   "metadata": {},
   "source": [
    "##### 4. Pre-processing the text"
   ]
  },
  {
   "cell_type": "code",
   "execution_count": 14,
   "id": "d90cd5ef",
   "metadata": {},
   "outputs": [],
   "source": [
    "y = df['Label']\n",
    "X = df['Text']"
   ]
  },
  {
   "cell_type": "markdown",
   "id": "5ee9a4ed",
   "metadata": {},
   "source": [
    "##### 5. Dataset Preparation"
   ]
  },
  {
   "cell_type": "code",
   "execution_count": 15,
   "id": "3e4f2a01",
   "metadata": {},
   "outputs": [],
   "source": [
    "from sklearn.model_selection import train_test_split\n",
    "X_train, X_val, y_train, y_val = train_test_split(X, y, test_size=0.3)"
   ]
  },
  {
   "cell_type": "code",
   "execution_count": 16,
   "id": "69b8f47b",
   "metadata": {},
   "outputs": [
    {
     "name": "stdout",
     "output_type": "stream",
     "text": [
      "(14,)\n",
      "(6,)\n",
      "(14,)\n",
      "(6,)\n"
     ]
    }
   ],
   "source": [
    "print(X_train.shape)\n",
    "print(X_val.shape)\n",
    "print(y_train.shape)\n",
    "print(y_val.shape)"
   ]
  },
  {
   "cell_type": "code",
   "execution_count": 17,
   "id": "b7518386",
   "metadata": {},
   "outputs": [
    {
     "data": {
      "text/plain": [
       "{'<oov>': 1,\n",
       " 'to': 2,\n",
       " 'the': 3,\n",
       " 'is': 4,\n",
       " 'we': 5,\n",
       " 'you': 6,\n",
       " 'negative': 7,\n",
       " 'all': 8,\n",
       " 'in': 9,\n",
       " 'people': 10}"
      ]
     },
     "execution_count": 17,
     "metadata": {},
     "output_type": "execute_result"
    }
   ],
   "source": [
    "# 4th step to be continue\n",
    "train_token = Tokenizer(num_words=100,oov_token='<oov>')\n",
    "train_token.fit_on_texts(X_train)\n",
    "word_index = train_token.word_index\n",
    "train_sequence = train_token.texts_to_sequences(X_train)\n",
    "dict(list(word_index.items())[0:10])"
   ]
  },
  {
   "cell_type": "code",
   "execution_count": 18,
   "id": "02365782",
   "metadata": {},
   "outputs": [
    {
     "data": {
      "text/plain": [
       "101"
      ]
     },
     "execution_count": 18,
     "metadata": {},
     "output_type": "execute_result"
    }
   ],
   "source": [
    "vocab = len(train_token.word_index) + 1\n",
    "vocab"
   ]
  },
  {
   "cell_type": "code",
   "execution_count": 19,
   "id": "0dd73d2e",
   "metadata": {},
   "outputs": [
    {
     "data": {
      "text/plain": [
       "[21, 4, 46, 47, 15, 6, 48, 18, 49, 50, 51, 52]"
      ]
     },
     "execution_count": 19,
     "metadata": {},
     "output_type": "execute_result"
    }
   ],
   "source": [
    "train_sequence[3]"
   ]
  },
  {
   "cell_type": "code",
   "execution_count": 20,
   "id": "cb0b0532",
   "metadata": {},
   "outputs": [],
   "source": [
    "train_padded = pad_sequences(train_sequence,maxlen=100,padding='post')"
   ]
  },
  {
   "cell_type": "code",
   "execution_count": 21,
   "id": "38ebc052",
   "metadata": {},
   "outputs": [
    {
     "data": {
      "text/plain": [
       "array([ 3, 59, 60, 61, 62,  3, 63, 64,  0,  0,  0,  0,  0,  0,  0,  0,  0,\n",
       "        0,  0,  0,  0,  0,  0,  0,  0,  0,  0,  0,  0,  0,  0,  0,  0,  0,\n",
       "        0,  0,  0,  0,  0,  0,  0,  0,  0,  0,  0,  0,  0,  0,  0,  0,  0,\n",
       "        0,  0,  0,  0,  0,  0,  0,  0,  0,  0,  0,  0,  0,  0,  0,  0,  0,\n",
       "        0,  0,  0,  0,  0,  0,  0,  0,  0,  0,  0,  0,  0,  0,  0,  0,  0,\n",
       "        0,  0,  0,  0,  0,  0,  0,  0,  0,  0,  0,  0,  0,  0,  0])"
      ]
     },
     "execution_count": 21,
     "metadata": {},
     "output_type": "execute_result"
    }
   ],
   "source": [
    "train_padded[5]"
   ]
  },
  {
   "cell_type": "code",
   "execution_count": 22,
   "id": "6b5da4be",
   "metadata": {},
   "outputs": [
    {
     "data": {
      "text/plain": [
       "(14, 100)"
      ]
     },
     "execution_count": 22,
     "metadata": {},
     "output_type": "execute_result"
    }
   ],
   "source": [
    "train_padded.shape"
   ]
  },
  {
   "cell_type": "code",
   "execution_count": 23,
   "id": "b0876f26",
   "metadata": {},
   "outputs": [],
   "source": [
    "val_token = Tokenizer(num_words=500,oov_token='<oov>')\n",
    "val_token.fit_on_texts(X_val)\n",
    "val_index = val_token.word_index\n",
    "val_sequence = val_token.texts_to_sequences(X_val)"
   ]
  },
  {
   "cell_type": "code",
   "execution_count": 24,
   "id": "b15d90ed",
   "metadata": {},
   "outputs": [
    {
     "data": {
      "text/plain": [
       "[48, 2, 49, 8, 50, 51, 52, 53, 54]"
      ]
     },
     "execution_count": 24,
     "metadata": {},
     "output_type": "execute_result"
    }
   ],
   "source": [
    "val_sequence[4]"
   ]
  },
  {
   "cell_type": "code",
   "execution_count": 25,
   "id": "9b888e5a",
   "metadata": {},
   "outputs": [],
   "source": [
    "val_padded = pad_sequences(val_sequence,maxlen=100,padding='post')"
   ]
  },
  {
   "cell_type": "code",
   "execution_count": 26,
   "id": "eecb1b6d",
   "metadata": {},
   "outputs": [
    {
     "data": {
      "text/plain": [
       "array([48,  2, 49,  8, 50, 51, 52, 53, 54,  0,  0,  0,  0,  0,  0,  0,  0,\n",
       "        0,  0,  0,  0,  0,  0,  0,  0,  0,  0,  0,  0,  0,  0,  0,  0,  0,\n",
       "        0,  0,  0,  0,  0,  0,  0,  0,  0,  0,  0,  0,  0,  0,  0,  0,  0,\n",
       "        0,  0,  0,  0,  0,  0,  0,  0,  0,  0,  0,  0,  0,  0,  0,  0,  0,\n",
       "        0,  0,  0,  0,  0,  0,  0,  0,  0,  0,  0,  0,  0,  0,  0,  0,  0,\n",
       "        0,  0,  0,  0,  0,  0,  0,  0,  0,  0,  0,  0,  0,  0,  0])"
      ]
     },
     "execution_count": 26,
     "metadata": {},
     "output_type": "execute_result"
    }
   ],
   "source": [
    "val_padded[4]"
   ]
  },
  {
   "cell_type": "markdown",
   "id": "291544b3",
   "metadata": {},
   "source": [
    "###### 6. Model Creation"
   ]
  },
  {
   "cell_type": "code",
   "execution_count": 27,
   "id": "6cb5bc09",
   "metadata": {},
   "outputs": [],
   "source": [
    "model = Sequential()\n",
    "# Embedding layer\n",
    "model.add(Embedding(300,70,input_length=100))\n",
    "model.add(SimpleRNN(70,activation='relu'))\n",
    "model.add(Dense('1',activation='sigmoid'))"
   ]
  },
  {
   "cell_type": "code",
   "execution_count": 28,
   "id": "dbabefa3",
   "metadata": {},
   "outputs": [],
   "source": [
    "model.compile(optimizer='adam',loss='binary_crossentropy',metrics=['accuracy'])"
   ]
  },
  {
   "cell_type": "code",
   "execution_count": 29,
   "id": "5a1ce64f",
   "metadata": {},
   "outputs": [
    {
     "name": "stdout",
     "output_type": "stream",
     "text": [
      "Model: \"sequential\"\n",
      "_________________________________________________________________\n",
      " Layer (type)                Output Shape              Param #   \n",
      "=================================================================\n",
      " embedding (Embedding)       (None, 100, 70)           21000     \n",
      "                                                                 \n",
      " simple_rnn (SimpleRNN)      (None, 70)                9870      \n",
      "                                                                 \n",
      " dense (Dense)               (None, 1)                 71        \n",
      "                                                                 \n",
      "=================================================================\n",
      "Total params: 30,941\n",
      "Trainable params: 30,941\n",
      "Non-trainable params: 0\n",
      "_________________________________________________________________\n"
     ]
    }
   ],
   "source": [
    "model.summary()"
   ]
  },
  {
   "cell_type": "code",
   "execution_count": 30,
   "id": "ba305ed3",
   "metadata": {},
   "outputs": [
    {
     "name": "stdout",
     "output_type": "stream",
     "text": [
      "Epoch 1/10\n",
      "1/1 - 1s - loss: 0.6932 - accuracy: 0.5000 - 799ms/epoch - 799ms/step\n",
      "Epoch 2/10\n",
      "1/1 - 0s - loss: 0.6931 - accuracy: 0.5000 - 19ms/epoch - 19ms/step\n",
      "Epoch 3/10\n",
      "1/1 - 0s - loss: 0.6932 - accuracy: 0.5000 - 13ms/epoch - 13ms/step\n",
      "Epoch 4/10\n",
      "1/1 - 0s - loss: 0.6932 - accuracy: 0.5000 - 9ms/epoch - 9ms/step\n",
      "Epoch 5/10\n",
      "1/1 - 0s - loss: 0.6932 - accuracy: 0.5000 - 7ms/epoch - 7ms/step\n",
      "Epoch 6/10\n",
      "1/1 - 0s - loss: 0.6931 - accuracy: 0.5000 - 8ms/epoch - 8ms/step\n",
      "Epoch 7/10\n",
      "1/1 - 0s - loss: 0.6931 - accuracy: 0.5000 - 7ms/epoch - 7ms/step\n",
      "Epoch 8/10\n",
      "1/1 - 0s - loss: 0.6932 - accuracy: 0.5000 - 7ms/epoch - 7ms/step\n",
      "Epoch 9/10\n",
      "1/1 - 0s - loss: 0.6932 - accuracy: 0.5000 - 8ms/epoch - 8ms/step\n",
      "Epoch 10/10\n",
      "1/1 - 0s - loss: 0.6932 - accuracy: 0.5000 - 7ms/epoch - 7ms/step\n"
     ]
    }
   ],
   "source": [
    "history=model.fit(train_padded,y_train,epochs=10,verbose=2,batch_size=15)"
   ]
  },
  {
   "cell_type": "code",
   "execution_count": 31,
   "id": "e18b2e9f",
   "metadata": {},
   "outputs": [
    {
     "name": "stdout",
     "output_type": "stream",
     "text": [
      "1/1 [==============================] - 0s 152ms/step - loss: 0.6932 - accuracy: 0.5000\n"
     ]
    },
    {
     "data": {
      "text/plain": [
       "[0.6931502223014832, 0.5]"
      ]
     },
     "execution_count": 31,
     "metadata": {},
     "output_type": "execute_result"
    }
   ],
   "source": [
    "model.evaluate(val_padded,y_val)"
   ]
  },
  {
   "cell_type": "code",
   "execution_count": 32,
   "id": "4a83e6f2",
   "metadata": {},
   "outputs": [
    {
     "data": {
      "image/png": "[encoded data removed]",
      "text/plain": [
       "<Figure size 432x288 with 1 Axes>"
      ]
     },
     "metadata": {
      "needs_background": "light"
     },
     "output_type": "display_data"
    }
   ],
   "source": [
    "plt.plot(history.history['accuracy'])\n",
    "plt.title('Model Accuracy')\n",
    "plt.ylabel('accuracy')\n",
    "plt.xlabel('epoch')\n",
    "plt.show()"
   ]
  },
  {
   "cell_type": "code",
   "execution_count": 33,
   "id": "e4c55fa1",
   "metadata": {},
   "outputs": [
    {
     "data": {
      "image/png": "[encoded data removed]",
      "text/plain": [
       "<Figure size 432x288 with 1 Axes>"
      ]
     },
     "metadata": {
      "needs_background": "light"
     },
     "output_type": "display_data"
    }
   ],
   "source": [
    "plt.plot(history.history['loss'])\n",
    "plt.title('Model Loss')\n",
    "plt.ylabel('loss')\n",
    "plt.xlabel('epoch')\n",
    "plt.show()"
   ]
  },
  {
   "cell_type": "code",
   "execution_count": 36,
   "id": "e44d8497",
   "metadata": {},
   "outputs": [],
   "source": [
    "text = df[\"Text\"]"
   ]
  },
  {
   "cell_type": "code",
   "execution_count": 37,
   "id": "da530baa",
   "metadata": {},
   "outputs": [],
   "source": [
    "#sent = [w.lower() for w in text.split() if not w in STOPWORDS]\n",
    "trail_token = Tokenizer()\n",
    "trail_token.fit_on_texts(text)\n",
    "#word_index = trail_token.word_index\n",
    "trail_seq = trail_token.texts_to_sequences(text)\n",
    "#dict(list(word_index.items())[0:10])\n",
    "trail_pad = pad_sequences(trail_seq,maxlen=100,padding='post')"
   ]
  },
  {
   "cell_type": "code",
   "execution_count": 38,
   "id": "31f6dce3",
   "metadata": {},
   "outputs": [
    {
     "data": {
      "text/plain": [
       "array([[ 33,  34,  35, ...,   0,   0,   0],\n",
       "       [ 21,   5,  44, ...,   0,   0,   0],\n",
       "       [ 51,  52,   8, ...,   0,   0,   0],\n",
       "       ...,\n",
       "       [ 30, 128, 129, ...,   0,   0,   0],\n",
       "       [133,   1, 134, ...,   0,   0,   0],\n",
       "       [139,   8,   4, ...,   0,   0,   0]])"
      ]
     },
     "execution_count": 38,
     "metadata": {},
     "output_type": "execute_result"
    }
   ],
   "source": [
    "trail_pad"
   ]
  },
  {
   "cell_type": "code",
   "execution_count": 39,
   "id": "e116483f",
   "metadata": {},
   "outputs": [
    {
     "name": "stdout",
     "output_type": "stream",
     "text": [
      "1/1 [==============================] - 0s 108ms/step\n",
      "[[0.5012159]\n",
      " [0.5012159]\n",
      " [0.5012159]\n",
      " [0.5012159]\n",
      " [0.5012159]\n",
      " [0.5012159]\n",
      " [0.5012159]\n",
      " [0.5012159]\n",
      " [0.5012159]\n",
      " [0.5012159]\n",
      " [0.5012159]\n",
      " [0.5012159]\n",
      " [0.5012159]\n",
      " [0.5012159]\n",
      " [0.5012159]\n",
      " [0.5012159]\n",
      " [0.5012159]\n",
      " [0.5012159]\n",
      " [0.5012159]\n",
      " [0.5012159]] negative\n"
     ]
    },
    {
     "name": "stderr",
     "output_type": "stream",
     "text": [
      "C:\\Users\\online\\AppData\\Local\\Temp\\ipykernel_14836\\1535703611.py:3: DeprecationWarning: In future, it will be an error for 'np.bool_' scalars to be interpreted as an index\n",
      "  print(res,label[np.argmax(trail_pad)>50])\n"
     ]
    }
   ],
   "source": [
    "res = model.predict(trail_pad)\n",
    "label = ['positive','negative']\n",
    "print(res,label[np.argmax(trail_pad)>50])"
   ]
  },
  {
   "cell_type": "markdown",
   "id": "281d6f34",
   "metadata": {},
   "source": [
    "### Model 2"
   ]
  },
  {
   "cell_type": "code",
   "execution_count": 40,
   "id": "67395232",
   "metadata": {},
   "outputs": [],
   "source": [
    "model1 = Sequential()\n",
    "# Embedding layer\n",
    "model1.add(Embedding(5000,64,input_length=100))\n",
    "model1.add(SimpleRNN(32,activation='tanh'))\n",
    "model1.add(Embedding(5000,32,input_length=100))\n",
    "model1.add(SimpleRNN(32,activation='tanh' ))\n",
    "model1.add(Dense('1',activation='sigmoid'))"
   ]
  },
  {
   "cell_type": "code",
   "execution_count": 41,
   "id": "ce807769",
   "metadata": {},
   "outputs": [
    {
     "name": "stdout",
     "output_type": "stream",
     "text": [
      "Model: \"sequential_1\"\n",
      "_________________________________________________________________\n",
      " Layer (type)                Output Shape              Param #   \n",
      "=================================================================\n",
      " embedding_1 (Embedding)     (None, 100, 64)           320000    \n",
      "                                                                 \n",
      " simple_rnn_1 (SimpleRNN)    (None, 32)                3104      \n",
      "                                                                 \n",
      " embedding_2 (Embedding)     (None, 32, 32)            160000    \n",
      "                                                                 \n",
      " simple_rnn_2 (SimpleRNN)    (None, 32)                2080      \n",
      "                                                                 \n",
      " dense_1 (Dense)             (None, 1)                 33        \n",
      "                                                                 \n",
      "=================================================================\n",
      "Total params: 485,217\n",
      "Trainable params: 485,217\n",
      "Non-trainable params: 0\n",
      "_________________________________________________________________\n"
     ]
    }
   ],
   "source": [
    "model1.summary()"
   ]
  },
  {
   "cell_type": "code",
   "execution_count": 42,
   "id": "2d82365d",
   "metadata": {},
   "outputs": [],
   "source": [
    "model1.compile(optimizer='adam',loss='binary_crossentropy',metrics=['accuracy'])"
   ]
  },
  {
   "cell_type": "code",
   "execution_count": 43,
   "id": "c504fecf",
   "metadata": {},
   "outputs": [
    {
     "name": "stdout",
     "output_type": "stream",
     "text": [
      "Epoch 1/10\n",
      "WARNING:tensorflow:Gradients do not exist for variables ['embedding_1/embeddings:0', 'simple_rnn_1/simple_rnn_cell_1/kernel:0', 'simple_rnn_1/simple_rnn_cell_1/recurrent_kernel:0', 'simple_rnn_1/simple_rnn_cell_1/bias:0'] when minimizing the loss. If you're using `model.compile()`, did you forget to provide a `loss` argument?\n",
      "WARNING:tensorflow:Gradients do not exist for variables ['embedding_1/embeddings:0', 'simple_rnn_1/simple_rnn_cell_1/kernel:0', 'simple_rnn_1/simple_rnn_cell_1/recurrent_kernel:0', 'simple_rnn_1/simple_rnn_cell_1/bias:0'] when minimizing the loss. If you're using `model.compile()`, did you forget to provide a `loss` argument?\n",
      "1/1 - 1s - loss: 0.6941 - accuracy: 0.5000 - 833ms/epoch - 833ms/step\n",
      "Epoch 2/10\n",
      "1/1 - 0s - loss: 0.6943 - accuracy: 0.5000 - 6ms/epoch - 6ms/step\n",
      "Epoch 3/10\n",
      "1/1 - 0s - loss: 0.6937 - accuracy: 0.5000 - 6ms/epoch - 6ms/step\n",
      "Epoch 4/10\n",
      "1/1 - 0s - loss: 0.6932 - accuracy: 0.5000 - 5ms/epoch - 5ms/step\n",
      "Epoch 5/10\n",
      "1/1 - 0s - loss: 0.6933 - accuracy: 0.5000 - 6ms/epoch - 6ms/step\n",
      "Epoch 6/10\n",
      "1/1 - 0s - loss: 0.6935 - accuracy: 0.5000 - 5ms/epoch - 5ms/step\n",
      "Epoch 7/10\n",
      "1/1 - 0s - loss: 0.6934 - accuracy: 0.5000 - 5ms/epoch - 5ms/step\n",
      "Epoch 8/10\n",
      "1/1 - 0s - loss: 0.6932 - accuracy: 0.5000 - 5ms/epoch - 5ms/step\n",
      "Epoch 9/10\n",
      "1/1 - 0s - loss: 0.6931 - accuracy: 0.5000 - 4ms/epoch - 4ms/step\n",
      "Epoch 10/10\n",
      "1/1 - 0s - loss: 0.6932 - accuracy: 0.5000 - 6ms/epoch - 6ms/step\n"
     ]
    }
   ],
   "source": [
    "history1=model1.fit(train_padded,y_train,epochs=10,verbose=2,batch_size=15)"
   ]
  },
  {
   "cell_type": "code",
   "execution_count": 44,
   "id": "22dbad8d",
   "metadata": {},
   "outputs": [
    {
     "name": "stdout",
     "output_type": "stream",
     "text": [
      "1/1 [==============================] - 0s 188ms/step - loss: 0.6933 - accuracy: 0.5000\n"
     ]
    },
    {
     "data": {
      "text/plain": [
       "[0.6932987570762634, 0.5]"
      ]
     },
     "execution_count": 44,
     "metadata": {},
     "output_type": "execute_result"
    }
   ],
   "source": [
    "model1.evaluate(val_padded,y_val)"
   ]
  },
  {
   "cell_type": "code",
   "execution_count": 45,
   "id": "ff6c8670",
   "metadata": {},
   "outputs": [
    {
     "data": {
      "image/png": "[encoded data removed]",
      "text/plain": [
       "<Figure size 432x288 with 1 Axes>"
      ]
     },
     "metadata": {
      "needs_background": "light"
     },
     "output_type": "display_data"
    }
   ],
   "source": [
    "plt.plot(history1.history['accuracy'])\n",
    "plt.title('Model Accuracy')\n",
    "plt.ylabel('accuracy')\n",
    "plt.xlabel('epoch')\n",
    "plt.show()"
   ]
  },
  {
   "cell_type": "code",
   "execution_count": 46,
   "id": "5cbd258c",
   "metadata": {},
   "outputs": [
    {
     "data": {
      "image/png": "[encoded data removed]",
      "text/plain": [
       "<Figure size 432x288 with 1 Axes>"
      ]
     },
     "metadata": {
      "needs_background": "light"
     },
     "output_type": "display_data"
    }
   ],
   "source": [
    "plt.plot(history1.history['loss'])\n",
    "plt.title('Model Loss')\n",
    "plt.ylabel('loss')\n",
    "plt.xlabel('epoch')\n",
    "plt.show()"
   ]
  },
  {
   "cell_type": "code",
   "execution_count": 47,
   "id": "7cb3fb85",
   "metadata": {},
   "outputs": [
    {
     "name": "stdout",
     "output_type": "stream",
     "text": [
      "1/1 [==============================] - 0s 147ms/step\n",
      "[[0.49129575]\n",
      " [0.49129575]\n",
      " [0.49129575]\n",
      " [0.49129575]\n",
      " [0.49129575]\n",
      " [0.49129575]\n",
      " [0.49129575]\n",
      " [0.49129575]\n",
      " [0.49129575]\n",
      " [0.49129575]\n",
      " [0.49129575]\n",
      " [0.49129575]\n",
      " [0.49129575]\n",
      " [0.49129575]\n",
      " [0.49129575]\n",
      " [0.49129575]\n",
      " [0.49129575]\n",
      " [0.49129575]\n",
      " [0.49129578]\n",
      " [0.49129578]] negative\n"
     ]
    },
    {
     "name": "stderr",
     "output_type": "stream",
     "text": [
      "C:\\Users\\online\\AppData\\Local\\Temp\\ipykernel_14836\\2701450631.py:3: DeprecationWarning: In future, it will be an error for 'np.bool_' scalars to be interpreted as an index\n",
      "  print(res,label[np.argmax(trail_pad)>50])\n"
     ]
    }
   ],
   "source": [
    "res = model1.predict(trail_pad)\n",
    "label = ['positive','negative']\n",
    "print(res,label[np.argmax(trail_pad)>50])"
   ]
  },
  {
   "cell_type": "markdown",
   "id": "f531c76c",
   "metadata": {},
   "source": [
    "### Model 3"
   ]
  },
  {
   "cell_type": "code",
   "execution_count": 48,
   "id": "3eb48860",
   "metadata": {},
   "outputs": [],
   "source": [
    "model2 = Sequential()\n",
    "# Embedding layer\n",
    "model2.add(Embedding(4000,128,input_length=100))\n",
    "model2.add(SimpleRNN(64,activation='tanh'))\n",
    "model2.add(Embedding(4000,128,input_length=100))\n",
    "model2.add(SimpleRNN(64,activation='relu' ))\n",
    "model2.add(Embedding(4000,128,input_length=100))\n",
    "model2.add(SimpleRNN(64,activation='tanh' ))\n",
    "model2.add(Dense('1',activation='sigmoid'))"
   ]
  },
  {
   "cell_type": "code",
   "execution_count": 49,
   "id": "fcbf9674",
   "metadata": {},
   "outputs": [
    {
     "name": "stdout",
     "output_type": "stream",
     "text": [
      "Model: \"sequential_2\"\n",
      "_________________________________________________________________\n",
      " Layer (type)                Output Shape              Param #   \n",
      "=================================================================\n",
      " embedding_3 (Embedding)     (None, 100, 128)          512000    \n",
      "                                                                 \n",
      " simple_rnn_3 (SimpleRNN)    (None, 64)                12352     \n",
      "                                                                 \n",
      " embedding_4 (Embedding)     (None, 64, 128)           512000    \n",
      "                                                                 \n",
      " simple_rnn_4 (SimpleRNN)    (None, 64)                12352     \n",
      "                                                                 \n",
      " embedding_5 (Embedding)     (None, 64, 128)           512000    \n",
      "                                                                 \n",
      " simple_rnn_5 (SimpleRNN)    (None, 64)                12352     \n",
      "                                                                 \n",
      " dense_2 (Dense)             (None, 1)                 65        \n",
      "                                                                 \n",
      "=================================================================\n",
      "Total params: 1,573,121\n",
      "Trainable params: 1,573,121\n",
      "Non-trainable params: 0\n",
      "_________________________________________________________________\n"
     ]
    }
   ],
   "source": [
    "model2.summary()"
   ]
  },
  {
   "cell_type": "code",
   "execution_count": 50,
   "id": "7ca7546a",
   "metadata": {},
   "outputs": [],
   "source": [
    "model2.compile(optimizer='adam',loss='binary_crossentropy',metrics=['accuracy'])"
   ]
  },
  {
   "cell_type": "code",
   "execution_count": 51,
   "id": "0002e70a",
   "metadata": {},
   "outputs": [
    {
     "name": "stdout",
     "output_type": "stream",
     "text": [
      "Epoch 1/10\n",
      "WARNING:tensorflow:Gradients do not exist for variables ['embedding_3/embeddings:0', 'simple_rnn_3/simple_rnn_cell_3/kernel:0', 'simple_rnn_3/simple_rnn_cell_3/recurrent_kernel:0', 'simple_rnn_3/simple_rnn_cell_3/bias:0', 'embedding_4/embeddings:0', 'simple_rnn_4/simple_rnn_cell_4/kernel:0', 'simple_rnn_4/simple_rnn_cell_4/recurrent_kernel:0', 'simple_rnn_4/simple_rnn_cell_4/bias:0'] when minimizing the loss. If you're using `model.compile()`, did you forget to provide a `loss` argument?\n",
      "WARNING:tensorflow:Gradients do not exist for variables ['embedding_3/embeddings:0', 'simple_rnn_3/simple_rnn_cell_3/kernel:0', 'simple_rnn_3/simple_rnn_cell_3/recurrent_kernel:0', 'simple_rnn_3/simple_rnn_cell_3/bias:0', 'embedding_4/embeddings:0', 'simple_rnn_4/simple_rnn_cell_4/kernel:0', 'simple_rnn_4/simple_rnn_cell_4/recurrent_kernel:0', 'simple_rnn_4/simple_rnn_cell_4/bias:0'] when minimizing the loss. If you're using `model.compile()`, did you forget to provide a `loss` argument?\n",
      "1/1 - 1s - loss: 0.6975 - accuracy: 0.5000 - 846ms/epoch - 846ms/step\n",
      "Epoch 2/10\n",
      "1/1 - 0s - loss: 0.7086 - accuracy: 0.5000 - 10ms/epoch - 10ms/step\n",
      "Epoch 3/10\n",
      "1/1 - 0s - loss: 0.6991 - accuracy: 0.5000 - 11ms/epoch - 11ms/step\n",
      "Epoch 4/10\n",
      "1/1 - 0s - loss: 0.6935 - accuracy: 0.5000 - 11ms/epoch - 11ms/step\n",
      "Epoch 5/10\n",
      "1/1 - 0s - loss: 0.6940 - accuracy: 0.5000 - 10ms/epoch - 10ms/step\n",
      "Epoch 6/10\n",
      "1/1 - 0s - loss: 0.6952 - accuracy: 0.5000 - 10ms/epoch - 10ms/step\n",
      "Epoch 7/10\n",
      "1/1 - 0s - loss: 0.6948 - accuracy: 0.5000 - 10ms/epoch - 10ms/step\n",
      "Epoch 8/10\n",
      "1/1 - 0s - loss: 0.6937 - accuracy: 0.5000 - 10ms/epoch - 10ms/step\n",
      "Epoch 9/10\n",
      "1/1 - 0s - loss: 0.6932 - accuracy: 0.5000 - 10ms/epoch - 10ms/step\n",
      "Epoch 10/10\n",
      "1/1 - 0s - loss: 0.6933 - accuracy: 0.5000 - 11ms/epoch - 11ms/step\n"
     ]
    }
   ],
   "source": [
    "history2=model2.fit(train_padded,y_train,epochs=10,verbose=2,batch_size=15)"
   ]
  },
  {
   "cell_type": "code",
   "execution_count": 52,
   "id": "f81db54e",
   "metadata": {},
   "outputs": [
    {
     "name": "stdout",
     "output_type": "stream",
     "text": [
      "1/1 [==============================] - 0s 252ms/step - loss: 0.6938 - accuracy: 0.5000\n"
     ]
    },
    {
     "data": {
      "text/plain": [
       "[0.6938323378562927, 0.5]"
      ]
     },
     "execution_count": 52,
     "metadata": {},
     "output_type": "execute_result"
    }
   ],
   "source": [
    "model2.evaluate(val_padded,y_val)"
   ]
  },
  {
   "cell_type": "code",
   "execution_count": 53,
   "id": "b5a4388f",
   "metadata": {},
   "outputs": [
    {
     "data": {
      "image/png": "[encoded data removed]",
      "text/plain": [
       "<Figure size 432x288 with 1 Axes>"
      ]
     },
     "metadata": {
      "needs_background": "light"
     },
     "output_type": "display_data"
    }
   ],
   "source": [
    "plt.plot(history2.history['accuracy'])\n",
    "plt.title('Model Accuracy')\n",
    "plt.ylabel('accuracy')\n",
    "plt.xlabel('epoch')\n",
    "plt.show()"
   ]
  },
  {
   "cell_type": "code",
   "execution_count": 54,
   "id": "3b071041",
   "metadata": {},
   "outputs": [
    {
     "data": {
      "image/png": "[encoded data removed]",
      "text/plain": [
       "<Figure size 432x288 with 1 Axes>"
      ]
     },
     "metadata": {
      "needs_background": "light"
     },
     "output_type": "display_data"
    }
   ],
   "source": [
    "plt.plot(history2.history['loss'])\n",
    "plt.title('Model Loss')\n",
    "plt.ylabel('loss')\n",
    "plt.xlabel('epoch')\n",
    "plt.show()"
   ]
  },
  {
   "cell_type": "code",
   "execution_count": 55,
   "id": "a6563c06",
   "metadata": {},
   "outputs": [
    {
     "name": "stdout",
     "output_type": "stream",
     "text": [
      "1/1 [==============================] - 0s 206ms/step\n",
      "[[0.48149738]\n",
      " [0.48149738]\n",
      " [0.48149738]\n",
      " [0.48149738]\n",
      " [0.48149738]\n",
      " [0.48149738]\n",
      " [0.48149738]\n",
      " [0.48149738]\n",
      " [0.48149738]\n",
      " [0.48149738]\n",
      " [0.48149738]\n",
      " [0.48149738]\n",
      " [0.48149738]\n",
      " [0.48149738]\n",
      " [0.48149738]\n",
      " [0.48149738]\n",
      " [0.48149738]\n",
      " [0.48149738]\n",
      " [0.48149735]\n",
      " [0.48149735]] negative\n"
     ]
    },
    {
     "name": "stderr",
     "output_type": "stream",
     "text": [
      "C:\\Users\\online\\AppData\\Local\\Temp\\ipykernel_14836\\479605851.py:3: DeprecationWarning: In future, it will be an error for 'np.bool_' scalars to be interpreted as an index\n",
      "  print(res,label[np.argmax(trail_pad)>50])\n"
     ]
    }
   ],
   "source": [
    "res = model2.predict(trail_pad)\n",
    "label = ['positive','negative']\n",
    "print(res,label[np.argmax(trail_pad)>50])"
   ]
  },
  {
   "cell_type": "code",
   "execution_count": null,
   "id": "78d6eba6",
   "metadata": {},
   "outputs": [],
   "source": []
  },
  {
   "cell_type": "code",
   "execution_count": null,
   "id": "2d0bad06",
   "metadata": {},
   "outputs": [],
   "source": []
  }
 ],
 "metadata": {
  "kernelspec": {
   "display_name": "Python 3",
   "language": "python",
   "name": "python3"
  },
  "language_info": {
   "codemirror_mode": {
    "name": "ipython",
    "version": 3
   },
   "file_extension": ".py",
   "mimetype": "text/x-python",
   "name": "python",
   "nbconvert_exporter": "python",
   "pygments_lexer": "ipython3",
   "version": "3.11.4"
  }
 },
 "nbformat": 4,
 "nbformat_minor": 5
}
